{
 "cells": [
  {
   "cell_type": "markdown",
   "id": "39443f17",
   "metadata": {},
   "source": [
    "# 2장 노트정리\n",
    "\n",
    "202111081 이영준\n",
    "\n",
    "2025.09.09 "
   ]
  },
  {
   "cell_type": "markdown",
   "id": "9c88cf36",
   "metadata": {},
   "source": [
    "## 기본 입출력 함수\n",
    "\n",
    "### print() , intput()\n",
    "\n",
    "\n",
    "#### print() 함수  \n",
    "- 숫자나문자열등의데이터나수식을화면에출력할때사용"
   ]
  },
  {
   "cell_type": "code",
   "execution_count": null,
   "id": "e2dc9c15",
   "metadata": {},
   "outputs": [
    {
     "name": "stdout",
     "output_type": "stream",
     "text": [
      "30\n",
      "동명미래대학교\n",
      "abcabcabc\n",
      "25 32\n",
      "25 + 32 = 57\n"
     ]
    }
   ],
   "source": [
    "print(10+20) #() 속의 연산 결과 출력\n",
    "print(\"동명미래대학교\") # 문자열 출력\n",
    "print(\"abc\" * 3) #문자열 3번 출력\n",
    "\n",
    "x=25\n",
    "y=32\n",
    "z= x + y\n",
    "print(x, y) #변수 x, y 값 출력\n",
    "print(x, '+', y, '=', z) # 문자열과 변수 조합의 출력"
   ]
  },
  {
   "cell_type": "markdown",
   "id": "ce51928b",
   "metadata": {},
   "source": [
    "#### print() 함수-서식 지정  \n",
    "- 숫자나 문자열 등의 데이터를 서식을 지정하여 출력할 때 사용"
   ]
  },
  {
   "cell_type": "code",
   "execution_count": null,
   "id": "a71120d4",
   "metadata": {},
   "outputs": [
    {
     "name": "stdout",
     "output_type": "stream",
     "text": [
      "30\n",
      "1020\n",
      "abcabcabc\n",
      "n=10\n",
      "m=5.2, n=10\n"
     ]
    }
   ],
   "source": [
    "print(10+20)\n",
    "print(\"10\"+\"20\") #문자열 결합\n",
    "print(\"abc\" * 3) #문자열 3번 출력\n",
    "n= 10\n",
    "print(\"n=%d\" %n) #서식지정출력\n",
    "m= 5.2\n",
    "print(\"m=%.1f, n=%d\" %(m,n)) #%.1f = 소솟점1자리까지표시"
   ]
  },
  {
   "cell_type": "markdown",
   "id": "e3b6c400",
   "metadata": {},
   "source": [
    "#### intput() 함수\n",
    "- 키보드를이용하여숫자나문자열등의데이터를입력받을때사용\n",
    "- 입력된정보는문자열"
   ]
  },
  {
   "cell_type": "code",
   "execution_count": 19,
   "id": "c590b1fe",
   "metadata": {},
   "outputs": [
    {
     "name": "stdout",
     "output_type": "stream",
     "text": [
      "30\n",
      "3\n"
     ]
    }
   ],
   "source": [
    "n= input('type a number: ')\n",
    "\n",
    "print(n) # 문자열로 입력된다.\n",
    "n = int(n) #문자열을 정수로 변환\n",
    "n = float(n) #문자열을 실수형으로 변환\n",
    "n= str(3) #정수를 문자열로 변환\n",
    "print(n)"
   ]
  },
  {
   "cell_type": "markdown",
   "id": "5f9f3489",
   "metadata": {},
   "source": [
    "#### 입출력 함수의 사용 예\n",
    "- 문자열을 입력 받아 다른 문자열과 결합하여 출력"
   ]
  },
  {
   "cell_type": "code",
   "execution_count": null,
   "id": "d0c14aeb",
   "metadata": {},
   "outputs": [],
   "source": [
    "name= input('Name: ') #문자열 입력\n",
    "print(\"Hello,\" +name)"
   ]
  },
  {
   "cell_type": "markdown",
   "id": "5f8ccb1c",
   "metadata": {},
   "source": [
    "- 두 정수를 입력 받아 곱셈 결과 출력"
   ]
  },
  {
   "cell_type": "code",
   "execution_count": null,
   "id": "bbf5ef24",
   "metadata": {},
   "outputs": [],
   "source": [
    "a= int(input('Number 1: ')) # 문자열을 입력한 후 정수로 변환\n",
    "b= int(input('Number 2: '))\n",
    "print(a*b)"
   ]
  },
  {
   "cell_type": "markdown",
   "id": "ecbd2fb6",
   "metadata": {},
   "source": [
    "- 섭씨온도(C)를 입력 받아 화씨온도(F)로 바꾸어 출력"
   ]
  },
  {
   "cell_type": "code",
   "execution_count": null,
   "id": "681f5311",
   "metadata": {},
   "outputs": [],
   "source": [
    "C= float(input(\"Type 섭씨온도: \")) #입력 문자열을 실수로 변환\n",
    "F= C*9/5 + 32 #온도 변화\n",
    "print(\"화씨온도는\", F)"
   ]
  },
  {
   "cell_type": "markdown",
   "id": "101c9e62",
   "metadata": {},
   "source": [
    "## 기본 자료형\n",
    "\n",
    "- 부울형\n",
    "- 정수형\n",
    "- 실수형\n",
    "- 문자열"
   ]
  },
  {
   "cell_type": "markdown",
   "id": "0861ed72",
   "metadata": {},
   "source": [
    "### 부울형(Boolean)"
   ]
  },
  {
   "cell_type": "markdown",
   "id": "61b73fc0",
   "metadata": {},
   "source": [
    "## 연산자\n",
    "- 지정 연산자\n",
    "- 산술 연산자\n",
    "- 논리 연산자\n",
    "- 관계 연산자\n",
    "- 멘버 연산자\n",
    "- 식별 연산자\n",
    "- 연산 오류"
   ]
  },
  {
   "cell_type": "markdown",
   "id": "0c835e68",
   "metadata": {},
   "source": [
    "### 연산자 종류"
   ]
  },
  {
   "cell_type": "markdown",
   "id": "0f9bf4bd",
   "metadata": {},
   "source": [
    "#### 지정 연산자(assignment operator); 할당연산자\n",
    "\n",
    "i = 3  \n",
    "i = i +2\n",
    "- 변수의 값을 지정하기 위해 사용(=)\n",
    "\n",
    "#### 산술 연산자(arithmetic operator)\n",
    "- 사칙 연산자: +, -, *, .\n",
    "- 정수나눗셈: //\n",
    "- 나머지 연산: %\n",
    "\n",
    "a = 10  \n",
    "b = 3  \n",
    "c = a % b => 1  \n",
    "d = a // b => 3  \n",
    "e = a / b => 3.3333333333333335"
   ]
  },
  {
   "cell_type": "markdown",
   "id": "92cf022f",
   "metadata": {},
   "source": [
    "### git 용어 정리\n",
    "\n",
    "git add chapter02 \n",
    "\n",
    "git status\n",
    "\n",
    "git commit -m \"깃허브에 남길 메세지\""
   ]
  }
 ],
 "metadata": {
  "kernelspec": {
   "display_name": "Python 3",
   "language": "python",
   "name": "python3"
  },
  "language_info": {
   "codemirror_mode": {
    "name": "ipython",
    "version": 3
   },
   "file_extension": ".py",
   "mimetype": "text/x-python",
   "name": "python",
   "nbconvert_exporter": "python",
   "pygments_lexer": "ipython3",
   "version": "3.11.9"
  }
 },
 "nbformat": 4,
 "nbformat_minor": 5
}
