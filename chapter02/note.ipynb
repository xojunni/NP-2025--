{
 "cells": [
  {
   "cell_type": "markdown",
   "id": "39443f17",
   "metadata": {},
   "source": [
    "## 2장 노트정리\n",
    "\n",
    "202111081 이영준\n",
    "\n",
    "2025.09.09 "
   ]
  },
  {
   "cell_type": "code",
   "execution_count": 8,
   "id": "ab52ad8c",
   "metadata": {},
   "outputs": [
    {
     "name": "stdout",
     "output_type": "stream",
     "text": [
      "HELLO, 여러분!!\n"
     ]
    }
   ],
   "source": [
    "print(\"HELLO, 여러분!!\")"
   ]
  },
  {
   "cell_type": "markdown",
   "id": "92cf022f",
   "metadata": {},
   "source": [
    "### git 용어 정리\n",
    "\n",
    "git add chapter02 \n",
    "\n",
    "git status\n",
    "\n",
    "git commit -m \"깃허브에 남길 메세지\""
   ]
  },
  {
   "cell_type": "markdown",
   "id": "6baca3a1",
   "metadata": {},
   "source": []
  }
 ],
 "metadata": {
  "kernelspec": {
   "display_name": "Python 3",
   "language": "python",
   "name": "python3"
  },
  "language_info": {
   "codemirror_mode": {
    "name": "ipython",
    "version": 3
   },
   "file_extension": ".py",
   "mimetype": "text/x-python",
   "name": "python",
   "nbconvert_exporter": "python",
   "pygments_lexer": "ipython3",
   "version": "3.11.9"
  }
 },
 "nbformat": 4,
 "nbformat_minor": 5
}
