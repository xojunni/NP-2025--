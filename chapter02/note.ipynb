{
 "cells": [
  {
   "cell_type": "markdown",
   "id": "39443f17",
   "metadata": {},
   "source": [
    "# 2장 노트정리\n",
    "\n",
    "202111081 이영준\n",
    "\n",
    "2025.09.09 "
   ]
  },
  {
   "cell_type": "markdown",
   "id": "9c88cf36",
   "metadata": {},
   "source": [
    "## 기본 입출력 함수\n",
    "\n",
    "### print() , intput()\n",
    "\n",
    "\n",
    "#### print() 함수  \n",
    "- 숫자나문자열등의데이터나수식을화면에출력할때사용"
   ]
  },
  {
   "cell_type": "code",
   "execution_count": null,
   "id": "e2dc9c15",
   "metadata": {},
   "outputs": [
    {
     "name": "stdout",
     "output_type": "stream",
     "text": [
      "30\n",
      "동명미래대학교\n",
      "abcabcabc\n",
      "25 32\n",
      "25 + 32 = 57\n"
     ]
    }
   ],
   "source": [
    "print(10+20) #() 속의 연산 결과 출력\n",
    "print(\"동명미래대학교\") # 문자열 출력\n",
    "print(\"abc\" * 3) #문자열 3번 출력\n",
    "\n",
    "x=25\n",
    "y=32\n",
    "z= x + y\n",
    "print(x, y) #변수 x, y 값 출력\n",
    "print(x, '+', y, '=', z) # 문자열과 변수 조합의 출력"
   ]
  },
  {
   "cell_type": "markdown",
   "id": "ce51928b",
   "metadata": {},
   "source": [
    "#### print() 함수-서식 지정  \n",
    "- 숫자나 문자열 등의 데이터를 서식을 지정하여 출력할 때 사용"
   ]
  },
  {
   "cell_type": "code",
   "execution_count": null,
   "id": "a71120d4",
   "metadata": {},
   "outputs": [
    {
     "name": "stdout",
     "output_type": "stream",
     "text": [
      "30\n",
      "1020\n",
      "abcabcabc\n",
      "n=10\n",
      "m=5.2, n=10\n"
     ]
    }
   ],
   "source": [
    "print(10+20)\n",
    "print(\"10\"+\"20\") #문자열 결합\n",
    "print(\"abc\" * 3) #문자열 3번 출력\n",
    "n= 10\n",
    "print(\"n=%d\" %n) #서식지정출력\n",
    "m= 5.2\n",
    "print(\"m=%.1f, n=%d\" %(m,n)) #%.1f = 소솟점1자리까지표시"
   ]
  },
  {
   "cell_type": "markdown",
   "id": "e3b6c400",
   "metadata": {},
   "source": [
    "#### intput() 함수\n",
    "- 키보드를이용하여숫자나문자열등의데이터를입력받을때사용\n",
    "- 입력된정보는문자열"
   ]
  },
  {
   "cell_type": "code",
   "execution_count": 19,
   "id": "c590b1fe",
   "metadata": {},
   "outputs": [
    {
     "name": "stdout",
     "output_type": "stream",
     "text": [
      "30\n",
      "3\n"
     ]
    }
   ],
   "source": [
    "n= input('type a number: ')\n",
    "\n",
    "print(n) # 문자열로 입력된다.\n",
    "n = int(n) #문자열을 정수로 변환\n",
    "n = float(n) #문자열을 실수형으로 변환\n",
    "n= str(3) #정수를 문자열로 변환\n",
    "print(n)"
   ]
  },
  {
   "cell_type": "markdown",
   "id": "5f9f3489",
   "metadata": {},
   "source": [
    "#### 입출력 함수의 사용 예\n",
    "- 문자열을 입력 받아 다른 문자열과 결합하여 출력"
   ]
  },
  {
   "cell_type": "code",
   "execution_count": null,
   "id": "d0c14aeb",
   "metadata": {},
   "outputs": [],
   "source": [
    "name= input('Name: ') #문자열 입력\n",
    "print(\"Hello,\" +name)"
   ]
  },
  {
   "cell_type": "markdown",
   "id": "5f8ccb1c",
   "metadata": {},
   "source": [
    "- 두 정수를 입력 받아 곱셈 결과 출력"
   ]
  },
  {
   "cell_type": "code",
   "execution_count": null,
   "id": "bbf5ef24",
   "metadata": {},
   "outputs": [],
   "source": [
    "a= int(input('Number 1: ')) # 문자열을 입력한 후 정수로 변환\n",
    "b= int(input('Number 2: '))\n",
    "print(a*b)"
   ]
  },
  {
   "cell_type": "markdown",
   "id": "ecbd2fb6",
   "metadata": {},
   "source": [
    "- 섭씨온도(C)를 입력 받아 화씨온도(F)로 바꾸어 출력"
   ]
  },
  {
   "cell_type": "code",
   "execution_count": null,
   "id": "681f5311",
   "metadata": {},
   "outputs": [],
   "source": [
    "C= float(input(\"Type 섭씨온도: \")) #입력 문자열을 실수로 변환\n",
    "F= C*9/5 + 32 #온도 변화\n",
    "print(\"화씨온도는\", F)"
   ]
  },
  {
   "cell_type": "markdown",
   "id": "101c9e62",
   "metadata": {},
   "source": [
    "## 기본 자료형\n",
    "\n",
    "- 부울형\n",
    "- 정수형\n",
    "- 실수형\n",
    "- 문자열"
   ]
  },
  {
   "cell_type": "markdown",
   "id": "e474466b",
   "metadata": {},
   "source": [
    "### 자료형과 크기  \n",
    "#### 부울형(Boolean)  \n",
    "- 참(True) 또는 거짓(False) 중 하나의 값을 갖는 자료형(True, False)  \n",
    "- 비교 결과를 저장할 때 사용"
   ]
  },
  {
   "cell_type": "code",
   "execution_count": 23,
   "id": "c5a9bb1c",
   "metadata": {},
   "outputs": [
    {
     "name": "stdout",
     "output_type": "stream",
     "text": [
      "False\n",
      "True\n"
     ]
    }
   ],
   "source": [
    "aVar = True\n",
    "bVar = False\n",
    "type(aVar)\n",
    "\n",
    "a = 1\n",
    "b = 2\n",
    "c = a > b\n",
    "print(c)\n",
    "\n",
    "d = a < b\n",
    "print(d)"
   ]
  },
  {
   "cell_type": "markdown",
   "id": "fc5ebcbc",
   "metadata": {},
   "source": [
    "#### 정수(integer)형  \n",
    "- 소수점 없는 숫자 표현"
   ]
  },
  {
   "cell_type": "code",
   "execution_count": null,
   "id": "97aeb5ee",
   "metadata": {},
   "outputs": [],
   "source": [
    "intVar = 5\n",
    "type(intVar)"
   ]
  },
  {
   "cell_type": "markdown",
   "id": "064cc28a",
   "metadata": {},
   "source": [
    "- 여러 가지 정수 표현  \n",
    "\n",
    "1, 23, 3493 #10진수  \n",
    "0b010101, 0b110010 # 2진수  \n",
    "0o1, 0o27, 0o6645 # 8진수  \n",
    "0x1, 0x17, 0xDA5 #16진수"
   ]
  },
  {
   "cell_type": "markdown",
   "id": "3abb390a",
   "metadata": {},
   "source": [
    "#### 실수(float)형"
   ]
  },
  {
   "cell_type": "code",
   "execution_count": null,
   "id": "e94d84da",
   "metadata": {},
   "outputs": [],
   "source": [
    "fVar = 1.0\n",
    "type(fVar)\n",
    "\n",
    "#여러 가지 실수 표현\n",
    "0.,0.0, .0, 1., 1.0, 1e0, 1.e0, 1.0e2"
   ]
  },
  {
   "cell_type": "markdown",
   "id": "323788b4",
   "metadata": {},
   "source": [
    "#### 쉽게 식별할 수 있도록 _를 사용한 숫자의 표현(파이썬 3.6 부터 적용)  "
   ]
  },
  {
   "cell_type": "code",
   "execution_count": 26,
   "id": "06dd115c",
   "metadata": {},
   "outputs": [
    {
     "data": {
      "text/plain": [
       "0.001027"
      ]
     },
     "execution_count": 26,
     "metadata": {},
     "output_type": "execute_result"
    }
   ],
   "source": [
    "100_000.000_0001, 0x_FF_FF, 0o7_777, 0b_1010_1010\n",
    "0.00_10_27"
   ]
  },
  {
   "cell_type": "markdown",
   "id": "eb96e436",
   "metadata": {},
   "source": [
    "#### 문자열(string)  \n",
    "- 나열된 문자들\n",
    "- '' 또는 \"\"로 둘러 쌈"
   ]
  },
  {
   "cell_type": "code",
   "execution_count": 27,
   "id": "5beb7321",
   "metadata": {},
   "outputs": [
    {
     "data": {
      "text/plain": [
       "'A not very long string | #문장을 두 줄 이상으로 표시할 경우 that spans two lines'"
      ]
     },
     "execution_count": 27,
     "metadata": {},
     "output_type": "execute_result"
    }
   ],
   "source": [
    "strVar=\"test\"\n",
    "type(strVar)\n",
    "\n",
    "'This is a literal string'\n",
    "\"this is another strring\"\n",
    "\n",
    "\"I'm a Python fanatic\" #속에 작은 따옴표를 사용할 경우\n",
    "' I\"m a Python fanatic' #속에 큰 따옴표를 사용할 경우\n",
    "\n",
    "'A not very long string | #문장을 두 줄 이상으로 표시할 경우 that spans two lines'\n"
   ]
  },
  {
   "cell_type": "markdown",
   "id": "61b73fc0",
   "metadata": {},
   "source": [
    "## 연산자\n",
    "- 지정 연산자\n",
    "- 산술 연산자\n",
    "- 논리 연산자\n",
    "- 관계 연산자\n",
    "- 멘버 연산자\n",
    "- 식별 연산자\n",
    "- 연산 오류"
   ]
  },
  {
   "cell_type": "markdown",
   "id": "0c835e68",
   "metadata": {},
   "source": [
    "### 연산자의 종류"
   ]
  },
  {
   "cell_type": "markdown",
   "id": "0f9bf4bd",
   "metadata": {},
   "source": [
    "#### 지정 연산자(assignment operator); 할당연산자\n",
    "\n",
    "i = 3  \n",
    "i = i +2\n",
    "- 변수의 값을 지정하기 위해 사용(=)\n",
    "\n",
    "#### 산술 연산자(arithmetic operator)\n",
    "- 사칙 연산자: +, -, *, .\n",
    "- 정수나눗셈: //\n",
    "- 나머지 연산: %\n",
    "\n",
    "a = 10  \n",
    "b = 3  \n",
    "c = a % b => 1  \n",
    "d = a // b => 3  \n",
    "e = a / b => 3.3333333333333335"
   ]
  },
  {
   "cell_type": "markdown",
   "id": "b1a13dfb",
   "metadata": {},
   "source": [
    "#### 관계 연산자(relation operator)  \n",
    "- 비교연산자\n",
    "- 항의 대소관계 또는 동등관계 판정\n",
    "- 연산결과는 True(참) 또는 False(거짓)"
   ]
  },
  {
   "cell_type": "code",
   "execution_count": 29,
   "id": "80e25bbf",
   "metadata": {},
   "outputs": [
    {
     "name": "stdout",
     "output_type": "stream",
     "text": [
      "True\n",
      "False\n",
      "False\n",
      "True\n"
     ]
    }
   ],
   "source": [
    "score = 95\n",
    "print(score >= 90) \n",
    "print(score < 80) \n",
    "print(score == 90) \n",
    "print(score != 90) "
   ]
  },
  {
   "cell_type": "markdown",
   "id": "4ae92d67",
   "metadata": {},
   "source": [
    "#### 논리 연산자(logical operator)  \n",
    "- 논리곱(and), 논리합(or), 논리부정(not)  \n",
    "- 논리 연산의 대상은 True 또는 False. 결과도 Ture 또는 False "
   ]
  },
  {
   "cell_type": "code",
   "execution_count": 35,
   "id": "06dcb475",
   "metadata": {},
   "outputs": [
    {
     "name": "stdout",
     "output_type": "stream",
     "text": [
      "True\n",
      "False\n"
     ]
    },
    {
     "data": {
      "text/plain": [
       "False"
      ]
     },
     "execution_count": 35,
     "metadata": {},
     "output_type": "execute_result"
    }
   ],
   "source": [
    "exam = 85\n",
    "report = 85\n",
    "exam >= 80 and report >= 80\n",
    "print(exam >= 80 and report >= 80)\n",
    "exam >= 90 or report >= 90\n",
    "print(exam >= 90 or report >= 90)\n",
    "not(exam < 90)"
   ]
  },
  {
   "cell_type": "markdown",
   "id": "2488b7db",
   "metadata": {},
   "source": [
    "#### 멤버 연산자(membership operator)  \n",
    "- in  \n",
    "- 특정 문자열 또는 값이 문자열 또는 리스트(반복객체)에 속해 있는지 판별하는 연산자"
   ]
  },
  {
   "cell_type": "code",
   "execution_count": 37,
   "id": "dd25f219",
   "metadata": {},
   "outputs": [
    {
     "name": "stdout",
     "output_type": "stream",
     "text": [
      "True\n"
     ]
    },
    {
     "data": {
      "text/plain": [
       "True"
      ]
     },
     "execution_count": 37,
     "metadata": {},
     "output_type": "execute_result"
    }
   ],
   "source": [
    "'py' in 'python'\n",
    "print('py' in 'python')\n",
    "\n",
    "'ty' not in 'python'"
   ]
  },
  {
   "cell_type": "markdown",
   "id": "bb1c69d2",
   "metadata": {},
   "source": [
    "#### 식별 연산자(identity operator)  \n",
    "- is : 양쪽 변수의 주소가 같은지 판단. if id(a) == id(b)  \n",
    "- is not : 양쪽 변수의 주소가 다른지 판단. if id(a) != id(b)"
   ]
  },
  {
   "cell_type": "code",
   "execution_count": 38,
   "id": "242ca1b2",
   "metadata": {},
   "outputs": [
    {
     "name": "stdout",
     "output_type": "stream",
     "text": [
      "140728997278536\n"
     ]
    },
    {
     "data": {
      "text/plain": [
       "140728997278536"
      ]
     },
     "execution_count": 38,
     "metadata": {},
     "output_type": "execute_result"
    }
   ],
   "source": [
    "a = 2\n",
    "b = 2\n",
    "id(a)\n",
    "print(id(a))\n",
    "\n",
    "id(b)"
   ]
  },
  {
   "cell_type": "code",
   "execution_count": 39,
   "id": "1aa69ec0",
   "metadata": {},
   "outputs": [
    {
     "name": "stdout",
     "output_type": "stream",
     "text": [
      "True\n",
      "True\n"
     ]
    },
    {
     "data": {
      "text/plain": [
       "False"
      ]
     },
     "execution_count": 39,
     "metadata": {},
     "output_type": "execute_result"
    }
   ],
   "source": [
    "id(a) == id(b)\n",
    "print(id(a) == id(b))\n",
    "\n",
    "a is b\n",
    "print(a is b)\n",
    "\n",
    "a is not b"
   ]
  },
  {
   "cell_type": "markdown",
   "id": "9863f447",
   "metadata": {},
   "source": [
    "### 연산 오류  \n",
    "#### 타입 에러(type error)  \n",
    "- 연산할 수 없는 자료형을 연산하면 타입 에러 발생"
   ]
  },
  {
   "cell_type": "code",
   "execution_count": 40,
   "id": "dc2d142f",
   "metadata": {},
   "outputs": [
    {
     "ename": "SyntaxError",
     "evalue": "invalid syntax. Perhaps you forgot a comma? (3940750566.py, line 5)",
     "output_type": "error",
     "traceback": [
      "  \u001b[36mCell\u001b[39m\u001b[36m \u001b[39m\u001b[32mIn[40]\u001b[39m\u001b[32m, line 5\u001b[39m\n\u001b[31m    \u001b[39m\u001b[31mTraceback (most recent call last):\u001b[39m\n               ^\n\u001b[31mSyntaxError\u001b[39m\u001b[31m:\u001b[39m invalid syntax. Perhaps you forgot a comma?\n"
     ]
    }
   ],
   "source": [
    "age = 23\n",
    "message = \"Happy \" + str(age) + \"rd Birthday!\"\n",
    "print(message)\n",
    "\n",
    "Traceback (most recent call last):\n",
    "File \"birthday.py\", line 2, in <module>\n",
    "message = \"Happy\" + age + \"rd Birthday!\"\n",
    "TypeError: Cant convert 'int' object to str implicitly"
   ]
  },
  {
   "cell_type": "markdown",
   "id": "92cf022f",
   "metadata": {},
   "source": [
    "### git 용어 정리\n",
    "\n",
    "git add chapter02 \n",
    "\n",
    "git status\n",
    "\n",
    "git commit -m \"깃허브에 남길 메세지\""
   ]
  }
 ],
 "metadata": {
  "kernelspec": {
   "display_name": "Python 3",
   "language": "python",
   "name": "python3"
  },
  "language_info": {
   "codemirror_mode": {
    "name": "ipython",
    "version": 3
   },
   "file_extension": ".py",
   "mimetype": "text/x-python",
   "name": "python",
   "nbconvert_exporter": "python",
   "pygments_lexer": "ipython3",
   "version": "3.11.9"
  }
 },
 "nbformat": 4,
 "nbformat_minor": 5
}
