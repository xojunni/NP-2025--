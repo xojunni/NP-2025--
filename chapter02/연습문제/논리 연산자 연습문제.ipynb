{
 "cells": [
  {
   "cell_type": "markdown",
   "id": "79d825ef",
   "metadata": {},
   "source": [
    "## 논리 연산자 연습문제  "
   ]
  },
  {
   "cell_type": "markdown",
   "id": "aa9f94c9",
   "metadata": {},
   "source": [
    "#### 1. 5가 3보다 크고 7보다 작은지 검사하는 프로그램을 작성하라."
   ]
  },
  {
   "cell_type": "code",
   "execution_count": 2,
   "id": "2d0aad70",
   "metadata": {},
   "outputs": [
    {
     "name": "stdout",
     "output_type": "stream",
     "text": [
      "5는 3보다 크고 7보다 작습니다.\n"
     ]
    }
   ],
   "source": [
    "# 5가 3보다 크고 7보다 작은지 검사\n",
    "if 3 < 5 < 7:\n",
    "    print(\"5는 3보다 크고 7보다 작습니다.\")\n",
    "else:\n",
    "    print(\"조건을 만족하지 않습니다.\")\n"
   ]
  },
  {
   "cell_type": "markdown",
   "id": "d3602a4a",
   "metadata": {},
   "source": [
    "#### 2. 변수 x가 10 이상이고 20 이하인지 검사하는 프로그램을 작성하라."
   ]
  },
  {
   "cell_type": "code",
   "execution_count": 3,
   "id": "3ffc3003",
   "metadata": {},
   "outputs": [
    {
     "name": "stdout",
     "output_type": "stream",
     "text": [
      "x는 10 이상이고 20 이하입니다.\n"
     ]
    }
   ],
   "source": [
    "x = 15  # 예시 값\n",
    "\n",
    "if 10 <= x <= 20:\n",
    "    print(\"x는 10 이상이고 20 이하입니다.\")\n",
    "else:\n",
    "    print(\"x는 범위에 속하지 않습니다.\")\n"
   ]
  },
  {
   "cell_type": "markdown",
   "id": "ca2c67f5",
   "metadata": {},
   "source": [
    "#### 3, 변수 y가 5의 배수이거나 7의 배수인지 검사하는 프로그램을 작성하라"
   ]
  },
  {
   "cell_type": "code",
   "execution_count": 4,
   "id": "64c40ad7",
   "metadata": {},
   "outputs": [
    {
     "name": "stdout",
     "output_type": "stream",
     "text": [
      "y는 5의 배수이거나 7의 배수입니다.\n"
     ]
    }
   ],
   "source": [
    "y = 21  # 예시 값\n",
    "\n",
    "if y % 5 == 0 or y % 7 == 0:\n",
    "    print(\"y는 5의 배수이거나 7의 배수입니다.\")\n",
    "else:\n",
    "    print(\"y는 5나 7의 배수가 아닙니다.\")\n"
   ]
  },
  {
   "cell_type": "markdown",
   "id": "e7f829ca",
   "metadata": {},
   "source": [
    "#### 4. 변수 z가 양수이면서 짝수인지 검사하는 프로그램을 작성하라."
   ]
  },
  {
   "cell_type": "code",
   "execution_count": 5,
   "id": "0184e1e5",
   "metadata": {},
   "outputs": [
    {
     "name": "stdout",
     "output_type": "stream",
     "text": [
      "z는 양수이면서 짝수입니다.\n"
     ]
    }
   ],
   "source": [
    "z = 8  # 예시 값\n",
    "\n",
    "if z > 0 and z % 2 == 0:\n",
    "    print(\"z는 양수이면서 짝수입니다.\")\n",
    "else:\n",
    "    print(\"z는 양수가 아니거나 짝수가 아닙니다.\")\n"
   ]
  },
  {
   "cell_type": "markdown",
   "id": "752ba2bb",
   "metadata": {},
   "source": [
    "#### 5. 변수 a가 문자열 \"hello\"나 문자열 \"world\" 중 하나인지 검사하는 프로그램을 작성하라."
   ]
  },
  {
   "cell_type": "code",
   "execution_count": 6,
   "id": "03f4fb28",
   "metadata": {},
   "outputs": [
    {
     "name": "stdout",
     "output_type": "stream",
     "text": [
      "a는 \"hello\" 또는 \"world\"입니다.\n"
     ]
    }
   ],
   "source": [
    "a = \"hello\"  # 예시 값\n",
    "\n",
    "if a == \"hello\" or a == \"world\":\n",
    "    print('a는 \"hello\" 또는 \"world\"입니다.')\n",
    "else:\n",
    "    print('a는 \"hello\"나 \"world\"가 아닙니다.')\n"
   ]
  }
 ],
 "metadata": {
  "kernelspec": {
   "display_name": "Python 3",
   "language": "python",
   "name": "python3"
  },
  "language_info": {
   "codemirror_mode": {
    "name": "ipython",
    "version": 3
   },
   "file_extension": ".py",
   "mimetype": "text/x-python",
   "name": "python",
   "nbconvert_exporter": "python",
   "pygments_lexer": "ipython3",
   "version": "3.11.9"
  }
 },
 "nbformat": 4,
 "nbformat_minor": 5
}
