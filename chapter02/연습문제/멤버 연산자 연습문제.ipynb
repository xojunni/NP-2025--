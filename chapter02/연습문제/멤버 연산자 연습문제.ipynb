{
 "cells": [
  {
   "cell_type": "markdown",
   "id": "b7d1dc1b",
   "metadata": {},
   "source": [
    "## 멤버 연산자 연습문제  \n",
    "#### 1. 숫자 7 리스트 [1, 2, 3, 4, 5]에 포함되어 있는지 검사하는 프로그램을 작성하라."
   ]
  },
  {
   "cell_type": "code",
   "execution_count": 1,
   "id": "42b2d9f6",
   "metadata": {},
   "outputs": [
    {
     "name": "stdout",
     "output_type": "stream",
     "text": [
      "숫자 7은 리스트에 포함되어 있지 않습니다.\n"
     ]
    }
   ],
   "source": [
    "numbers = [1, 2, 3, 4, 5]\n",
    "\n",
    "if 7 in numbers:\n",
    "    print(\"숫자 7은 리스트에 포함되어 있습니다.\")\n",
    "else:\n",
    "    print(\"숫자 7은 리스트에 포함되어 있지 않습니다.\")\n"
   ]
  },
  {
   "cell_type": "markdown",
   "id": "dfafb98f",
   "metadata": {},
   "source": [
    "#### 2. 문자열 \"apple\"이 세트 {\"orange\", \"banana\", \"kiwi\"}에 포함되어 있는지 검사하는 프로그램을 작성하라."
   ]
  },
  {
   "cell_type": "code",
   "execution_count": 3,
   "id": "2056637f",
   "metadata": {},
   "outputs": [
    {
     "name": "stdout",
     "output_type": "stream",
     "text": [
      "\"apple\"은 세트에 포함되어 있지 않습니다.\n"
     ]
    }
   ],
   "source": [
    "fruits = {\"orange\", \"banana\", \"kiwi\"}\n",
    "\n",
    "if \"apple\" in fruits:\n",
    "    print('\"apple\"은 세트에 포함되어 있습니다.')\n",
    "else:\n",
    "    print('\"apple\"은 세트에 포함되어 있지 않습니다.')\n"
   ]
  },
  {
   "cell_type": "markdown",
   "id": "2ce49a30",
   "metadata": {},
   "source": [
    "#### 3. 숫자 6이 딕셔너리 [\"a\": 1, \"b\": 2, \"c\": 3, \"d\": 4]의 값들 중 하나인지 검사하는 프로그램을 작성하라. "
   ]
  },
  {
   "cell_type": "code",
   "execution_count": 2,
   "id": "7c8326b8",
   "metadata": {},
   "outputs": [
    {
     "name": "stdout",
     "output_type": "stream",
     "text": [
      "6은 딕셔너리의 값 중 하나가 아닙니다.\n"
     ]
    }
   ],
   "source": [
    "data = {\"a\": 1, \"b\": 2, \"c\": 3, \"d\": 4}\n",
    "\n",
    "# 6이 딕셔너리 값 중 하나인지 검사\n",
    "if 6 in data.values():\n",
    "    print(\"6은 딕셔너리의 값 중 하나입니다.\")\n",
    "else:\n",
    "    print(\"6은 딕셔너리의 값 중 하나가 아닙니다.\")\n"
   ]
  },
  {
   "cell_type": "markdown",
   "id": "e6e8b808",
   "metadata": {},
   "source": [
    "#### 4. 문자열 \"cat\"이 튜플(\"dog\", \"cat\", \"bird\", \"hamster\")에 포함되어 있는지 검사하는 프로그램을 작성하라."
   ]
  },
  {
   "cell_type": "code",
   "execution_count": 4,
   "id": "2ad16acb",
   "metadata": {},
   "outputs": [
    {
     "name": "stdout",
     "output_type": "stream",
     "text": [
      "\"cat\"은 튜플에 포함되어 있습니다.\n"
     ]
    }
   ],
   "source": [
    "animals = (\"dog\", \"cat\", \"bird\", \"hamster\")\n",
    "\n",
    "if \"cat\" in animals:\n",
    "    print('\"cat\"은 튜플에 포함되어 있습니다.')\n",
    "else:\n",
    "    print('\"cat\"은 튜플에 포함되어 있지 않습니다.')\n"
   ]
  },
  {
   "cell_type": "markdown",
   "id": "23c8adab",
   "metadata": {},
   "source": [
    "#### 5. 숫자 10이 세트 {2, 4, 6, 8, 10}에 포함되어 있는지 검사하는 프로그램을 작성하라."
   ]
  },
  {
   "cell_type": "code",
   "execution_count": 5,
   "id": "ff3e58ae",
   "metadata": {},
   "outputs": [
    {
     "name": "stdout",
     "output_type": "stream",
     "text": [
      "10은 세트에 포함되어 있습니다.\n"
     ]
    }
   ],
   "source": [
    "numbers = {2, 4, 6, 8, 10}\n",
    "\n",
    "if 10 in numbers:\n",
    "    print(\"10은 세트에 포함되어 있습니다.\")\n",
    "else:\n",
    "    print(\"10은 세트에 포함되어 있지 않습니다.\")\n"
   ]
  }
 ],
 "metadata": {
  "kernelspec": {
   "display_name": "Python 3",
   "language": "python",
   "name": "python3"
  },
  "language_info": {
   "codemirror_mode": {
    "name": "ipython",
    "version": 3
   },
   "file_extension": ".py",
   "mimetype": "text/x-python",
   "name": "python",
   "nbconvert_exporter": "python",
   "pygments_lexer": "ipython3",
   "version": "3.11.9"
  }
 },
 "nbformat": 4,
 "nbformat_minor": 5
}
