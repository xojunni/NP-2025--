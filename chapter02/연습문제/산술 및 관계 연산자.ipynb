{
 "cells": [
  {
   "cell_type": "markdown",
   "id": "5429065d",
   "metadata": {},
   "source": [
    "## 산술 및 관계 연산자 연습문제"
   ]
  },
  {
   "cell_type": "markdown",
   "id": "4da8115d",
   "metadata": {},
   "source": [
    "#### 1. 5와 3 더한 값을 출력하는 프로그램을 작성하라."
   ]
  },
  {
   "cell_type": "code",
   "execution_count": 2,
   "id": "cf118e1e",
   "metadata": {},
   "outputs": [
    {
     "name": "stdout",
     "output_type": "stream",
     "text": [
      "8\n"
     ]
    }
   ],
   "source": [
    "a = 5\n",
    "b = 3\n",
    "print(a + b)\n"
   ]
  },
  {
   "cell_type": "markdown",
   "id": "f2c7f43f",
   "metadata": {},
   "source": [
    "#### 2. 7에서 3을 뺀 값을 출력하는 프로그램을 작성하라"
   ]
  },
  {
   "cell_type": "code",
   "execution_count": 3,
   "id": "6326bdd4",
   "metadata": {},
   "outputs": [
    {
     "name": "stdout",
     "output_type": "stream",
     "text": [
      "4\n"
     ]
    }
   ],
   "source": [
    "a = 7\n",
    "b = 3\n",
    "print(a - b)"
   ]
  },
  {
   "cell_type": "markdown",
   "id": "43cb357d",
   "metadata": {},
   "source": [
    "#### 3. 4에서 2를 나눈 값을 출력하는 프로그램을 작성하라."
   ]
  },
  {
   "cell_type": "code",
   "execution_count": 4,
   "id": "8f8140b4",
   "metadata": {},
   "outputs": [
    {
     "name": "stdout",
     "output_type": "stream",
     "text": [
      "2.0\n"
     ]
    }
   ],
   "source": [
    "a = 4\n",
    "b = 2\n",
    "print(a / b)"
   ]
  },
  {
   "cell_type": "markdown",
   "id": "607b9e0c",
   "metadata": {},
   "source": [
    "#### 4. 8을 3으로 나눈 몫과 나머지를 출력하는 프로그램을 작성하라."
   ]
  },
  {
   "cell_type": "code",
   "execution_count": 5,
   "id": "ffda7560",
   "metadata": {},
   "outputs": [
    {
     "name": "stdout",
     "output_type": "stream",
     "text": [
      "2\n",
      "2\n"
     ]
    }
   ],
   "source": [
    "a = 8\n",
    "b = 3\n",
    "print(a // b)\n",
    "print(a % b)"
   ]
  },
  {
   "cell_type": "markdown",
   "id": "ca41e7e7",
   "metadata": {},
   "source": [
    "#### 5. 2의 5제곱을 출력하는 프로그램을 작성하라."
   ]
  },
  {
   "cell_type": "code",
   "execution_count": 6,
   "id": "8373b153",
   "metadata": {},
   "outputs": [
    {
     "name": "stdout",
     "output_type": "stream",
     "text": [
      "32\n"
     ]
    }
   ],
   "source": [
    "a = 2\n",
    "b = 5\n",
    "print(a ** b)"
   ]
  },
  {
   "cell_type": "markdown",
   "id": "30a5fcfe",
   "metadata": {},
   "source": [
    "#### 6. 입력된 정수가 10보다 크고 20보다 작은지 검사하는 프로그램을 작성하라."
   ]
  },
  {
   "cell_type": "code",
   "execution_count": 7,
   "id": "08702f8d",
   "metadata": {},
   "outputs": [
    {
     "name": "stdout",
     "output_type": "stream",
     "text": [
      "입력한 정수는 10보다 크고 20보다 작지 않습니다.\n"
     ]
    }
   ],
   "source": [
    "n = int(input(\"정수를 입력하세요: \"))\n",
    "\n",
    "if n > 10 and n < 20:\n",
    "    print(\"입력한 정수는 10보다 크고 20보다 작습니다.\")\n",
    "else:\n",
    "    print(\"입력한 정수는 10보다 크고 20보다 작지 않습니다.\")"
   ]
  },
  {
   "cell_type": "markdown",
   "id": "a7f5309a",
   "metadata": {},
   "source": [
    "#### 7. 문제열 \"hello\"와 문자열 \"world\"를 이어 붙인 결과를 출력하는 프로그램을 작성하라."
   ]
  },
  {
   "cell_type": "code",
   "execution_count": 8,
   "id": "8f67eb96",
   "metadata": {},
   "outputs": [
    {
     "name": "stdout",
     "output_type": "stream",
     "text": [
      "hello world\n"
     ]
    }
   ],
   "source": [
    "print(\"hello\" + \" \" + \"world\")"
   ]
  },
  {
   "cell_type": "markdown",
   "id": "36706386",
   "metadata": {},
   "source": [
    "#### 8. 7을 2로 나눈 결과가 3보다 작은지 검사하는 프로그램을 작성하라."
   ]
  },
  {
   "cell_type": "code",
   "execution_count": 9,
   "id": "4836383b",
   "metadata": {},
   "outputs": [
    {
     "name": "stdout",
     "output_type": "stream",
     "text": [
      "7 ÷ 2의 결과는 3보다 크거나 같습니다.\n"
     ]
    }
   ],
   "source": [
    "result = 7 / 2  # 7 나누기 2\n",
    "if result < 3:\n",
    "    print(\"7 ÷ 2의 결과는 3보다 작습니다.\")\n",
    "else:\n",
    "    print(\"7 ÷ 2의 결과는 3보다 크거나 같습니다.\")"
   ]
  },
  {
   "cell_type": "markdown",
   "id": "783c8e8f",
   "metadata": {},
   "source": [
    "#### 9. 변수 x의 값이 5와 같이 않은지 검사하는 프로그램을 작성하라."
   ]
  },
  {
   "cell_type": "code",
   "execution_count": 10,
   "id": "2413c961",
   "metadata": {},
   "outputs": [
    {
     "name": "stdout",
     "output_type": "stream",
     "text": [
      "x는 5와 같지 않습니다.\n"
     ]
    }
   ],
   "source": [
    "x = int(input(\"x의 값을 입력하세요: \"))\n",
    "\n",
    "if x != 5:\n",
    "    print(\"x는 5와 같지 않습니다.\")\n",
    "else:\n",
    "    print(\"x는 5와 같습니다.\")\n",
    "    "
   ]
  },
  {
   "cell_type": "markdown",
   "id": "513ae08a",
   "metadata": {},
   "source": [
    "#### 10. 변수 y의 값이 10에서 20 사이의 값인지 검사하는 프로그램을 작성하라."
   ]
  },
  {
   "cell_type": "code",
   "execution_count": 12,
   "id": "f02e46a3",
   "metadata": {},
   "outputs": [
    {
     "name": "stdout",
     "output_type": "stream",
     "text": [
      "y는 10에서 20 사이의 값이 아닙니다.\n"
     ]
    }
   ],
   "source": [
    "y = int(input(\"y의 값을 입력하세요: \"))\n",
    "\n",
    "if 10 < y < 20:\n",
    "    print(\"y는 10보다 크고 20보다 작습니다.\")\n",
    "else:\n",
    "    print(\"y는 10에서 20 사이의 값이 아닙니다.\")"
   ]
  }
 ],
 "metadata": {
  "kernelspec": {
   "display_name": "Python 3",
   "language": "python",
   "name": "python3"
  },
  "language_info": {
   "codemirror_mode": {
    "name": "ipython",
    "version": 3
   },
   "file_extension": ".py",
   "mimetype": "text/x-python",
   "name": "python",
   "nbconvert_exporter": "python",
   "pygments_lexer": "ipython3",
   "version": "3.11.9"
  }
 },
 "nbformat": 4,
 "nbformat_minor": 5
}
