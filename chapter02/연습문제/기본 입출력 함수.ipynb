{
 "cells": [
  {
   "cell_type": "markdown",
   "id": "162ed994",
   "metadata": {},
   "source": [
    "## 기본 입출력 함수 연습문제 1"
   ]
  },
  {
   "cell_type": "markdown",
   "id": "0a9ff804",
   "metadata": {},
   "source": [
    "#### 1. 키보드에서 임의의 두 실수를 입력 받아 곱한 후 그 결과를 출력하는 프로그램을 작성하고 실행해라. "
   ]
  },
  {
   "cell_type": "code",
   "execution_count": 1,
   "id": "e2259af2",
   "metadata": {},
   "outputs": [
    {
     "name": "stdout",
     "output_type": "stream",
     "text": [
      "두 수의 곱은: 2.0\n"
     ]
    }
   ],
   "source": [
    "a = float(input(\"첫 번째 실수를 입력하세요: \"))\n",
    "b = float(input(\"두 번째 실수를 입력하세요: \"))\n",
    "\n",
    "result = a * b\n",
    "\n",
    "print(\"두 수의 곱은:\", result)"
   ]
  },
  {
   "cell_type": "markdown",
   "id": "92aaaa29",
   "metadata": {},
   "source": [
    "#### 2. 1마일은 1.609km이다. 키보드에서 마일(정수)을 입력 받아 km로 변환해 출력하는 프로그램을 작성하고 실행하라."
   ]
  },
  {
   "cell_type": "code",
   "execution_count": 2,
   "id": "4bb9c602",
   "metadata": {},
   "outputs": [
    {
     "name": "stdout",
     "output_type": "stream",
     "text": [
      "2 마일은 3.218 킬로미터입니다.\n"
     ]
    }
   ],
   "source": [
    "mile = int(input(\"마일을 입력하세요: \"))   # 정수 입력\n",
    "km = mile * 1.609                         # 변환 계산\n",
    "\n",
    "print(mile, \"마일은\", km, \"킬로미터입니다.\")"
   ]
  },
  {
   "cell_type": "markdown",
   "id": "48781e28",
   "metadata": {},
   "source": [
    "#### 3. 원의 반지름을 입력 받아 원의 둘레와 원의 면적을 출력하는 프로그램을 작성하라."
   ]
  },
  {
   "cell_type": "code",
   "execution_count": 3,
   "id": "ee195c21",
   "metadata": {},
   "outputs": [
    {
     "name": "stdout",
     "output_type": "stream",
     "text": [
      "원의 둘레: 31.41592653589793\n",
      "원의 면적: 78.53981633974483\n"
     ]
    }
   ],
   "source": [
    "import math   # 원주율 pi 사용\n",
    "\n",
    "r = float(input(\"원의 반지름을 입력하세요: \"))\n",
    "\n",
    "circumference = 2 * math.pi * r   # 둘레\n",
    "area = math.pi * r * r            # 면적\n",
    "\n",
    "print(\"원의 둘레:\", circumference)\n",
    "print(\"원의 면적:\", area)"
   ]
  }
 ],
 "metadata": {
  "kernelspec": {
   "display_name": "Python 3",
   "language": "python",
   "name": "python3"
  },
  "language_info": {
   "codemirror_mode": {
    "name": "ipython",
    "version": 3
   },
   "file_extension": ".py",
   "mimetype": "text/x-python",
   "name": "python",
   "nbconvert_exporter": "python",
   "pygments_lexer": "ipython3",
   "version": "3.11.9"
  }
 },
 "nbformat": 4,
 "nbformat_minor": 5
}
