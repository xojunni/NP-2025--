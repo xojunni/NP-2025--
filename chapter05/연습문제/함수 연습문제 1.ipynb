{
 "cells": [
  {
   "cell_type": "markdown",
   "id": "2f9a78bf",
   "metadata": {},
   "source": [
    "## 연습 문제 1"
   ]
  },
  {
   "cell_type": "markdown",
   "id": "47d455f8",
   "metadata": {},
   "source": [
    "#### 1. 두개의 매개변수 n, m을 전달받아 m x n개의 * 상자를 출력하는 프로그램을 함수로 작성"
   ]
  },
  {
   "cell_type": "markdown",
   "id": "594db0ff",
   "metadata": {},
   "source": [
    "#### 2. 하나의 숫자를 전달받아 숫자의 자리 합을 구하는 함수를 작성"
   ]
  },
  {
   "cell_type": "markdown",
   "id": "b0640de1",
   "metadata": {},
   "source": [
    "#### 3. 두 개의 문자열이 서로 다른 처음 위치를 반환하는 함수를 작성. 두 개의 문자열이 같으면 -1을 반환"
   ]
  },
  {
   "cell_type": "markdown",
   "id": "fff54c46",
   "metadata": {},
   "source": [
    "#### 4. 숫자를 전달받아 그 수의 약수를 리스트로 반환하는 함수를 작성  "
   ]
  },
  {
   "cell_type": "markdown",
   "id": "21a348e3",
   "metadata": {},
   "source": [
    "#### 5. 문자열과 하나의 문자를 전달받아 문자열에서 문자의 위치를 모두 찾아 리스트로 반환하는 함수  "
   ]
  },
  {
   "cell_type": "markdown",
   "id": "7b3d6c68",
   "metadata": {},
   "source": [
    "#### 재귀 함수를 이용하여 1부터 100까지의 합을 계산하는 프로그램"
   ]
  }
 ],
 "metadata": {
  "language_info": {
   "name": "python"
  }
 },
 "nbformat": 4,
 "nbformat_minor": 5
}
