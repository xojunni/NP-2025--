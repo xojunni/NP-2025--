{
 "cells": [
  {
   "cell_type": "markdown",
   "id": "2f9a78bf",
   "metadata": {},
   "source": [
    "## 연습 문제 1"
   ]
  },
  {
   "cell_type": "markdown",
   "id": "47d455f8",
   "metadata": {},
   "source": [
    "#### 1. 두개의 매개변수 n, m을 전달받아 m x n개의 * 상자를 출력하는 프로그램을 함수로 작성"
   ]
  },
  {
   "cell_type": "code",
   "execution_count": 1,
   "id": "b44047aa",
   "metadata": {},
   "outputs": [
    {
     "name": "stdout",
     "output_type": "stream",
     "text": [
      "*****\n",
      "*****\n",
      "*****\n"
     ]
    }
   ],
   "source": [
    "def print_box(m, n):\n",
    "    for i in range(m):        # 세로(m줄)\n",
    "        print('*' * n)        # 가로(n개)\n",
    "\n",
    "# 예시 실행\n",
    "print_box(3, 5)\n"
   ]
  },
  {
   "cell_type": "markdown",
   "id": "594db0ff",
   "metadata": {},
   "source": [
    "#### 2. 하나의 숫자를 전달받아 숫자의 자리 합을 구하는 함수를 작성"
   ]
  },
  {
   "cell_type": "code",
   "execution_count": 2,
   "id": "c1abecbb",
   "metadata": {},
   "outputs": [
    {
     "name": "stdout",
     "output_type": "stream",
     "text": [
      "12345의 자리 합: 15\n"
     ]
    }
   ],
   "source": [
    "def digit_sum(n):\n",
    "    total = 0\n",
    "    for digit in str(n):   # 숫자를 문자열로 바꿔서 한 자리씩 반복\n",
    "        total += int(digit)\n",
    "    return total\n",
    "\n",
    "# 예시 실행\n",
    "num = 12345\n",
    "print(f\"{num}의 자리 합:\", digit_sum(num))\n"
   ]
  },
  {
   "cell_type": "markdown",
   "id": "b0640de1",
   "metadata": {},
   "source": [
    "#### 3. 두 개의 문자열이 서로 다른 처음 위치를 반환하는 함수를 작성. 두 개의 문자열이 같으면 -1을 반환"
   ]
  },
  {
   "cell_type": "code",
   "execution_count": 3,
   "id": "b815ec8a",
   "metadata": {},
   "outputs": [
    {
     "name": "stdout",
     "output_type": "stream",
     "text": [
      "2\n",
      "-1\n",
      "3\n"
     ]
    }
   ],
   "source": [
    "def first_diff_index(str1, str2):\n",
    "    # 두 문자열 중 짧은 길이까지만 비교\n",
    "    min_len = min(len(str1), len(str2))\n",
    "    \n",
    "    for i in range(min_len):\n",
    "        if str1[i] != str2[i]:\n",
    "            return i  # 처음 다른 위치 반환\n",
    "    \n",
    "    # 길이가 다르면 짧은 문자열 끝 이후가 차이\n",
    "    if len(str1) != len(str2):\n",
    "        return min_len\n",
    "\n",
    "    # 완전히 같을 경우\n",
    "    return -1\n",
    "\n",
    "\n",
    "# 예시 실행\n",
    "print(first_diff_index(\"apple\", \"apricot\"))  # 2\n",
    "print(first_diff_index(\"hello\", \"hello\"))     # -1\n",
    "print(first_diff_index(\"cat\", \"catch\"))       # 3\n"
   ]
  },
  {
   "cell_type": "markdown",
   "id": "fff54c46",
   "metadata": {},
   "source": [
    "#### 4. 숫자를 전달받아 그 수의 약수를 리스트로 반환하는 함수를 작성  "
   ]
  },
  {
   "cell_type": "code",
   "execution_count": 4,
   "id": "08146ba9",
   "metadata": {},
   "outputs": [
    {
     "name": "stdout",
     "output_type": "stream",
     "text": [
      "[1, 2, 3, 4, 6, 12]\n",
      "[1, 5, 25]\n"
     ]
    }
   ],
   "source": [
    "def get_divisors(n):\n",
    "    divisors = []\n",
    "    for i in range(1, n + 1):\n",
    "        if n % i == 0:\n",
    "            divisors.append(i)\n",
    "    return divisors\n",
    "\n",
    "# 예시 실행\n",
    "print(get_divisors(12))\n",
    "print(get_divisors(25))\n"
   ]
  },
  {
   "cell_type": "markdown",
   "id": "21a348e3",
   "metadata": {},
   "source": [
    "#### 5. 문자열과 하나의 문자를 전달받아 문자열에서 문자의 위치를 모두 찾아 리스트로 반환하는 함수  "
   ]
  },
  {
   "cell_type": "code",
   "execution_count": 5,
   "id": "3535d952",
   "metadata": {},
   "outputs": [
    {
     "name": "stdout",
     "output_type": "stream",
     "text": [
      "[1, 3, 5]\n",
      "[2, 3, 9]\n",
      "[]\n"
     ]
    }
   ],
   "source": [
    "def find_all_indexes(s, ch):\n",
    "    indexes = []\n",
    "    for i in range(len(s)):\n",
    "        if s[i] == ch:\n",
    "            indexes.append(i)\n",
    "    return indexes\n",
    "\n",
    "# 예시 실행\n",
    "print(find_all_indexes(\"banana\", \"a\"))\n",
    "print(find_all_indexes(\"hello world\", \"l\"))\n",
    "print(find_all_indexes(\"apple\", \"z\"))\n"
   ]
  },
  {
   "cell_type": "markdown",
   "id": "7b3d6c68",
   "metadata": {},
   "source": [
    "#### 6. 재귀 함수를 이용하여 1부터 100까지의 합을 계산하는 프로그램"
   ]
  },
  {
   "cell_type": "code",
   "execution_count": 6,
   "id": "a927b3b5",
   "metadata": {},
   "outputs": [
    {
     "name": "stdout",
     "output_type": "stream",
     "text": [
      "1부터 100까지 합: 5050\n"
     ]
    }
   ],
   "source": [
    "def recursive_sum(n):\n",
    "    if n == 1:         # 재귀 종료 조건\n",
    "        return 1\n",
    "    else:\n",
    "        return n + recursive_sum(n - 1)\n",
    "\n",
    "# 1부터 100까지 합\n",
    "total = recursive_sum(100)\n",
    "print(\"1부터 100까지 합:\", total)\n"
   ]
  }
 ],
 "metadata": {
  "kernelspec": {
   "display_name": "Python 3",
   "language": "python",
   "name": "python3"
  },
  "language_info": {
   "codemirror_mode": {
    "name": "ipython",
    "version": 3
   },
   "file_extension": ".py",
   "mimetype": "text/x-python",
   "name": "python",
   "nbconvert_exporter": "python",
   "pygments_lexer": "ipython3",
   "version": "3.11.9"
  }
 },
 "nbformat": 4,
 "nbformat_minor": 5
}
