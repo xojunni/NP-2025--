{
 "cells": [
  {
   "cell_type": "markdown",
   "id": "091be83b",
   "metadata": {},
   "source": [
    "# 5장 노트정리  \n",
    "## 파이썬의 함수  "
   ]
  },
  {
   "cell_type": "markdown",
   "id": "55fcdc00",
   "metadata": {},
   "source": [
    "### 함수  \n",
    "#### 함수란>  \n",
    "  - 이름을 붙여 반복적으로 사용할 수 있는 프로그램 부분  \n",
    "  - print(), input(), int(), str() 등  \n",
    "#### 함수를 사용하는 이유  \n",
    "  - 프로그램 안에서 중복된 코드를 제거한다.  \n",
    "  - 복잡한 프로그래밍 작업을 더 간단한 작업들로 분해할 수 있다.  \n",
    "  - 함수는 한번 만들어지면 다른 프로그램에서도 재사용될 수 있다.  \n",
    "  - 함수를 사용하면 가독성(프로그램의 이해)이 증대되고, 유지 관리도 쉬워진다.  \n",
    "#### 파이썬의 함수는 일급 함수이다. 함수를 변수처럼 사용  \n",
    "  - 번수에 하당: a=func  \n",
    "  - 다름 함수의 인자로 전달 가능: func1(func)  \n",
    "  - return 문으로 반환 가능: return func  \n",
    "#### 함수의 종류  \n",
    "  - 내장 함수\n",
    "  - 사용자 정의 함수"
   ]
  },
  {
   "cell_type": "markdown",
   "id": "26ba4f5e",
   "metadata": {},
   "source": [
    "### 함수의 정의와 호출  \n",
    "#### 사용자 정의 함수의 작성"
   ]
  },
  {
   "cell_type": "code",
   "execution_count": 16,
   "id": "0167e1a7",
   "metadata": {},
   "outputs": [],
   "source": [
    "def 함수이름(매개변수):\n",
    "    # 문장1\n",
    "    # 문장2\n",
    "    # ...\n",
    "    return 값  # 함수 종료 시 반환 값\n"
   ]
  },
  {
   "cell_type": "markdown",
   "id": "08c70641",
   "metadata": {},
   "source": [
    "#### 함수의 정의와 호출 예"
   ]
  },
  {
   "cell_type": "code",
   "execution_count": 17,
   "id": "1545ad1b",
   "metadata": {},
   "outputs": [
    {
     "name": "stdout",
     "output_type": "stream",
     "text": [
      "Hello, John\n"
     ]
    }
   ],
   "source": [
    "def welcome(name):  # 함수의 정의\n",
    "    print(\"Hello,\", name)  # return 문이 없어도 됨. None 반환\n",
    "\n",
    "welcome('John')  # 함수의 호출. 'John'이 매개변수로 전달됨\n"
   ]
  },
  {
   "cell_type": "markdown",
   "id": "54ec60ab",
   "metadata": {},
   "source": [
    "### 함수의 반환"
   ]
  },
  {
   "cell_type": "markdown",
   "id": "8cf59f10",
   "metadata": {},
   "source": [
    "#### 반환 값이 없는 함수"
   ]
  },
  {
   "cell_type": "code",
   "execution_count": 18,
   "id": "4e5d11fa",
   "metadata": {},
   "outputs": [
    {
     "name": "stdout",
     "output_type": "stream",
     "text": [
      "Welcome to Python\n"
     ]
    }
   ],
   "source": [
    "def prtStr(str):  # str을 매개변수라 함\n",
    "    print(\"%s\" % str)  # 반환 값이 없이 함수가 종료\n",
    "    return\n",
    "\n",
    "str = \"Welcome to Python\"\n",
    "prtStr(str)  # 매개변수를 전달하여 함수 호출\n"
   ]
  },
  {
   "cell_type": "markdown",
   "id": "9b3ce224",
   "metadata": {},
   "source": [
    "#### 값을 반환하는 함수"
   ]
  },
  {
   "cell_type": "code",
   "execution_count": 19,
   "id": "1b6d7ad3",
   "metadata": {},
   "outputs": [
    {
     "name": "stdout",
     "output_type": "stream",
     "text": [
      "한변의 길이가 5인 정사각형의 넓이는 25\n",
      "한변의 길이가 7인 정사각형의 넓이는 49\n"
     ]
    }
   ],
   "source": [
    "def squareArea(s):\n",
    "    area = s * s\n",
    "    return area  # area 값이 반환되고 종료\n",
    "\n",
    "a = squareArea(5)  # 5를 인자(argument)라 함. 반환 값이 a에 저장\n",
    "b = squareArea(7)\n",
    "\n",
    "print(\"한변의 길이가 %d인 정사각형의 넓이는 %d\" % (5, a))\n",
    "print(\"한변의 길이가 %d인 정사각형의 넓이는 %d\" % (7, b))\n"
   ]
  },
  {
   "cell_type": "markdown",
   "id": "edbcfc14",
   "metadata": {},
   "source": [
    "### 함수의 예  \n",
    "- 1~n까지의 합을 계산하는 함수 "
   ]
  },
  {
   "cell_type": "code",
   "execution_count": 20,
   "id": "fecc3c3d",
   "metadata": {},
   "outputs": [
    {
     "name": "stdout",
     "output_type": "stream",
     "text": [
      "1275\n",
      "500500\n"
     ]
    }
   ],
   "source": [
    "def sum(n):  # 매개변수 n을 전달받는다\n",
    "    hab = 0\n",
    "    for i in range(1, n + 1):  # 1~n까지 반복\n",
    "        hab = hab + i  # 합에 새로운 수를 더한다\n",
    "    return hab  # 반환값=hab\n",
    "\n",
    "a = sum(50)    # 함수를 호출하여(인자=50) 1부터 50까지의 합을 계산\n",
    "b = sum(1000)  # 함수를 호출하여(인자=1000) 1부터 1000까지의 합\n",
    "\n",
    "print(a)\n",
    "print(b)\n"
   ]
  },
  {
   "cell_type": "markdown",
   "id": "1c1fce88",
   "metadata": {},
   "source": [
    "- 반지름을 전달하면 원의 면적을 반환하는 cir_area(r) 함수와 원의 둘레를 반환하는 cir_cirm(r) 함수를 작성하라. 이들 함수를 이용하여 반지름이 3.5cm인 원의 면적과 둘레를 소수점 아래 첫 자리까지 구하라."
   ]
  },
  {
   "cell_type": "markdown",
   "id": "c89a4162",
   "metadata": {},
   "source": [
    "### 함수화 변수  \n",
    "#### 지역 변수(local variable)와 전역 변수(global variable)  \n",
    "  - 지역 변수: 함수 내에서만 값이 유효  \n",
    "  - 전역 변수: 프로그램 전체에서 값이 유효  \n",
    "  - 다음 프로그램에서 v는 지역 변수 이다"
   ]
  },
  {
   "cell_type": "code",
   "execution_count": 21,
   "id": "7a037fd6",
   "metadata": {},
   "outputs": [
    {
     "name": "stdout",
     "output_type": "stream",
     "text": [
      "func1()의 v = 10\n",
      "func2()의 v = 20\n"
     ]
    }
   ],
   "source": [
    "# 함수 선언부\n",
    "def func1():\n",
    "    v = 10  # 함수 func1() 안의 지역 변수. func1 내에서만 유효\n",
    "    print(\"func1()의 v = %d\" % v)\n",
    "\n",
    "def func2():\n",
    "    v = 20  # 함수 func2() 안의 지역 변수. func2 내에서만 유효\n",
    "    print(\"func2()의 v = %d\" % v)\n",
    "\n",
    "# 메인 코드 부분\n",
    "func1()\n",
    "func2()\n"
   ]
  },
  {
   "cell_type": "markdown",
   "id": "f9a655ca",
   "metadata": {},
   "source": [
    "### 전역 변수  \n",
    "#### 전역 변수의 유효 범위"
   ]
  },
  {
   "cell_type": "code",
   "execution_count": 22,
   "id": "093aefd8",
   "metadata": {},
   "outputs": [
    {
     "name": "stdout",
     "output_type": "stream",
     "text": [
      "func1()의 v = 10\n",
      "func2()의 v = 20\n"
     ]
    }
   ],
   "source": [
    "# 함수 선언부\n",
    "def func1():\n",
    "    v = 10  # 함수 func1() 안의 지역 변수. 지역 변수가 우선 사용\n",
    "    print(\"func1()의 v = %d\" % v)\n",
    "\n",
    "def func2():\n",
    "    print(\"func2()의 v = %d\" % v)  # 함수 func2() 안의 전역 변수\n",
    "\n",
    "# 전역변수\n",
    "v = 20  # 전역 변수이므로 프로그램 내에서 유효\n",
    "\n",
    "# 메인 코드 부분\n",
    "func1()  # 지역 변수 값인 10을 출력. 지역 변수가 없을 때 전역 변수 사용\n",
    "func2()  # 전역 변수 값인 20을 출력\n"
   ]
  },
  {
   "cell_type": "markdown",
   "id": "fd5c4a40",
   "metadata": {},
   "source": [
    "#### 전역 변수의 선언"
   ]
  },
  {
   "cell_type": "code",
   "execution_count": 23,
   "id": "d5b9e663",
   "metadata": {},
   "outputs": [
    {
     "name": "stdout",
     "output_type": "stream",
     "text": [
      "func1()의 v = 10\n",
      "func2()의 변경된 전역 v = 30\n",
      "30\n"
     ]
    }
   ],
   "source": [
    "# 함수 선언부\n",
    "def func1():\n",
    "    v = 10  # 함수 func1() 안의 지역 변수\n",
    "    print(\"func1()의 v = %d\" % v)\n",
    "\n",
    "def func2():\n",
    "    global v  # v를 전역 변수로 선언\n",
    "    v = 30\n",
    "    print(\"func2()의 변경된 전역 v = %d\" % v)\n",
    "\n",
    "v = 20  # 함수 밖에서 정의 되었으므로 전역 변수\n",
    "\n",
    "# 메인 코드 부분\n",
    "func1()  # 10을 출력\n",
    "func2()  # 30을 출력\n",
    "print(v) # 30을 출력. 전역변수 v가 변경됨\n"
   ]
  },
  {
   "cell_type": "markdown",
   "id": "1800a07b",
   "metadata": {},
   "source": [
    "### 함수 매개변수의 전달  \n",
    "#### 매개변수의 기본값 지정(기본 매개변수)"
   ]
  },
  {
   "cell_type": "code",
   "execution_count": 24,
   "id": "052910bd",
   "metadata": {},
   "outputs": [
    {
     "name": "stdout",
     "output_type": "stream",
     "text": [
      "default\n",
      "Hi! Hi! Hi! Hi! Hi! \n"
     ]
    }
   ],
   "source": [
    "def prtMesg(message, count=1):  # count의 기본값이 1로 지정\n",
    "    print(message * count)\n",
    "\n",
    "prtMesg('default')      # message='default', count는 기본값 사용\n",
    "prtMesg('Hi! ', 5)      # message와 count 인자 전달\n"
   ]
  },
  {
   "cell_type": "code",
   "execution_count": 25,
   "id": "69e4c163",
   "metadata": {},
   "outputs": [
    {
     "name": "stdout",
     "output_type": "stream",
     "text": [
      "Hi! Abe, Nothing new?\n",
      "Hi! Bob, Good morning!\n"
     ]
    }
   ],
   "source": [
    "def greet(name, msg=\"Nothing new?\"):\n",
    "    print(\"Hi! \" + name + ', ' + msg)\n",
    "\n",
    "greet(\"Abe\")                  # name만 전달\n",
    "greet(\"Bob\", \"Good morning!\")  # name과 msg 전달\n"
   ]
  },
  {
   "cell_type": "markdown",
   "id": "5f5c161c",
   "metadata": {},
   "source": [
    "#### 일반(위치) 매개변수의 값을 전달하지 않으면 오류"
   ]
  },
  {
   "cell_type": "code",
   "execution_count": 26,
   "id": "f7139c59",
   "metadata": {},
   "outputs": [
    {
     "name": "stdout",
     "output_type": "stream",
     "text": [
      "HelloHelloHello\n"
     ]
    }
   ],
   "source": [
    "# 함수 정의\n",
    "def prtMesg(message, count=1):\n",
    "    print(message * count)\n",
    "\n",
    "# 올바른 호출 방법\n",
    "prtMesg(\"Hello\", count=3)  # message와 count 모두 전달\n"
   ]
  },
  {
   "cell_type": "markdown",
   "id": "0f253dd9",
   "metadata": {},
   "source": [
    "#### 가변 매개변수-매개변수의 개수가 가변일 때  \n",
    "- 매개변수가 *arg로 표시되면 튜플로 처리"
   ]
  },
  {
   "cell_type": "code",
   "execution_count": 27,
   "id": "abbac8a4",
   "metadata": {},
   "outputs": [
    {
     "name": "stdout",
     "output_type": "stream",
     "text": [
      "6\n",
      "15\n"
     ]
    }
   ],
   "source": [
    "def total(*numbers):\n",
    "    sum = 0\n",
    "    for n in numbers:  # 전달 받은 매개변수를 튜플로 처리\n",
    "        sum += n\n",
    "    return sum\n",
    "\n",
    "print(total(1, 2, 3))        # 3개의 인자\n",
    "print(total(1, 2, 3, 4, 5))  # 5개의 인자\n"
   ]
  },
  {
   "cell_type": "markdown",
   "id": "23713c7d",
   "metadata": {},
   "source": [
    "- 매개변수가 **keywords로 표시되면 딕셔너리로 처리"
   ]
  },
  {
   "cell_type": "code",
   "execution_count": 28,
   "id": "2edeb3a6",
   "metadata": {},
   "outputs": [
    {
     "name": "stdout",
     "output_type": "stream",
     "text": [
      "Kennedy : 35-th president\n",
      "Obama : 44-th president\n",
      "Trump : 45-th president\n"
     ]
    }
   ],
   "source": [
    "def dicPresident(**keywords):\n",
    "    for i in keywords.keys():  # 딕셔너리 key를 하나씩 처리\n",
    "        print(\"%s : %d-th president\" % (i, keywords[i]))\n",
    "\n",
    "dicPresident(Kennedy=35, Obama=44, Trump=45)  # (key=value)로 전달\n"
   ]
  },
  {
   "cell_type": "markdown",
   "id": "93703dbd",
   "metadata": {},
   "source": [
    "#### 키워드를 이용한 매개변수 전달  \n",
    "- 매개변수의 위치가 아니라 키워드를 이용하여 매개변수 전달"
   ]
  },
  {
   "cell_type": "code",
   "execution_count": 29,
   "id": "1c9ab399",
   "metadata": {},
   "outputs": [
    {
     "name": "stdout",
     "output_type": "stream",
     "text": [
      "a= 4 b= 5 c= 3\n",
      "12\n",
      "a= 5 b= 2 c= 7\n",
      "14\n"
     ]
    }
   ],
   "source": [
    "def func(a, b=2, c=3):  # a: 위치 매개변수, b, c: 키워드 매개변수\n",
    "    print('a=', a, 'b=', b, 'c=', c)\n",
    "    return a + b + c\n",
    "\n",
    "print(func(4, 5))      # 인자 위치에 의해 a=4, b=5로 전달\n",
    "print(func(5, c=7))    # 키워드 c를 이용한 전달. a=5, c=7, b는 기본값\n"
   ]
  },
  {
   "cell_type": "markdown",
   "id": "06632e18",
   "metadata": {},
   "source": [
    "### 람다(lambda) 함수  \n",
    "#### 람다(무명) 함수  \n",
    "  - 이름이 없는 한 줄짜리 함수  \n",
    "  - lambda parameters: expr <- lambda 함수의 정의  \n",
    "  - parameters는 매개변수, expr는 결과가 return되는 수식  \n",
    "  - lambda x, y: x + y <-매개변수 x, y를 전달받아 x + y를 리턴  \n",
    "  - 두 개 이상의 값을 리턴하려면 튜플, 리스트 사용  \n",
    "  - lambda x, y: (x + y, x * y) <- (x + y, x * y) 튜플을 반환  \n",
    "  - 람다 함수의 호출  "
   ]
  },
  {
   "cell_type": "code",
   "execution_count": 30,
   "id": "70386a62",
   "metadata": {},
   "outputs": [
    {
     "name": "stdout",
     "output_type": "stream",
     "text": [
      "정수의 합 :  30\n",
      "정수의 합 :  40\n"
     ]
    }
   ],
   "source": [
    "sum = lambda x, y: x + y  # lambda는 함수를 간단히 정의하는 방법\n",
    "\n",
    "print(\"정수의 합 : \", sum(10, 20))  # 10 + 20을 반환\n",
    "print(\"정수의 합 : \", sum(20, 20))  # 20 + 20을 반환\n"
   ]
  },
  {
   "cell_type": "markdown",
   "id": "73dba846",
   "metadata": {},
   "source": [
    "### 재귀 함수  \n",
    "#### 재귀 함수(recursion function)  \n",
    "  - 함수 내에서 자기 자신을 호출하는 함수  \n",
    "  - 같은 동작을 반복할 때 재귀 함수 사용  \n",
    "  - 함수가 종료되는 조건을 반드시 포함해야 한다  \n",
    "  - factorial(n!)을 구하는 재귀 함수"
   ]
  },
  {
   "cell_type": "code",
   "execution_count": 31,
   "id": "eef199f9",
   "metadata": {},
   "outputs": [
    {
     "name": "stdout",
     "output_type": "stream",
     "text": [
      "120\n"
     ]
    }
   ],
   "source": [
    "def fact(n):\n",
    "    if n == 1:  # 재귀 함수 종료 조건. n=1이면 종료\n",
    "        return 1\n",
    "    else:\n",
    "        return n * fact(n - 1)  # n! = n x (n-1)!\n",
    "\n",
    "print(fact(5))\n"
   ]
  }
 ],
 "metadata": {
  "kernelspec": {
   "display_name": "Python 3",
   "language": "python",
   "name": "python3"
  },
  "language_info": {
   "codemirror_mode": {
    "name": "ipython",
    "version": 3
   },
   "file_extension": ".py",
   "mimetype": "text/x-python",
   "name": "python",
   "nbconvert_exporter": "python",
   "pygments_lexer": "ipython3",
   "version": "3.11.9"
  }
 },
 "nbformat": 4,
 "nbformat_minor": 5
}
