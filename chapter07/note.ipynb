{
 "cells": [
  {
   "cell_type": "markdown",
   "id": "818ab840",
   "metadata": {},
   "source": [
    "# 7장 노트정리"
   ]
  },
  {
   "cell_type": "markdown",
   "id": "3f652d54",
   "metadata": {},
   "source": [
    "## 모듈  \n",
    " - 모듈 설치와 불러오기  \n",
    " - 사용자 정의 모듈  \n",
    " - 유용한 모듈들  "
   ]
  },
  {
   "cell_type": "markdown",
   "id": "4080917f",
   "metadata": {},
   "source": [
    "### 모듈  \n",
    "  #### 모듈이란?  \n",
    "    • 함수, 변수, 클래스들을 모아 놓은 파일 묶음(라이브러리)  \n",
    "  #### 모듈의 종류  \n",
    "    • 표준 모듈(https://docs.python.org/3/py-modindex.html)  \n",
    "    • 서드 파티(3rd party) 모듈(https://pypi.org/)  \n",
    "    • 사용자 정의 모듈  \n",
    "  #### 파이썬은 오픈 소스를 지향하므로 많은 사람들이 개발하여 공개한 수 많은 모듈이 존재한다  \n",
    "  #### 오픈 모듈은 무료로 사용할 수 있다  \n",
    "  #### 빅데이터, 인공지능, 사물 인터넷 등과 같은 4차 산업 프로그램들은 오픈 모듈을 사용할 수 있기 때문에 파이썬을 주로 사용한다"
   ]
  },
  {
   "cell_type": "markdown",
   "id": "86b2233c",
   "metadata": {},
   "source": [
    "### 모듈 사용아기  \n",
    "  #### 서드 파티 모듈 설치\n",
    "   - c:~>pip install modulename [--upgrade]\n",
    "  #### 모듈 불러오기\n",
    "  - 프로그램 외부에 존재하는 모듈을 프로그램 내부로 불러와서 사용하기 위해 필요한 명령 (import)\n",
    "   import module_name\n",
    "   - ->>> import socket\n",
    "   - socket 모듈에 포함된 변수, 함수, 클래스를 사용할 수 있다\n",
    "   - dir(socket) socket 모듈에 들어 있는 변수, 함수, 클래스를 보여줌\n",
    "   - dir(socket.socket) socket 모듈의 socket 클래스에 포함된 변수, 메소드를 보여 줌"
   ]
  }
 ],
 "metadata": {
  "language_info": {
   "name": "python"
  }
 },
 "nbformat": 4,
 "nbformat_minor": 5
}
