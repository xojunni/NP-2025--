{
 "cells": [
  {
   "cell_type": "markdown",
   "id": "b6a5734a",
   "metadata": {},
   "source": [
    "# 4장 노트정리"
   ]
  },
  {
   "cell_type": "markdown",
   "id": "f35a2026",
   "metadata": {},
   "source": [
    "## 파이썬 자료 구조  \n",
    "\n",
    "#### 자료구조(data structuer)란?  \n",
    "- 자료를 표현하고 처리하기 위해 사용되는 구조  \n",
    "- 자료를 효율적으로 처리하고 저장하는 데 사용  \n",
    "- 파이썬에서 사용되는 기본 자료 구조  \n",
    "  - 문자열(string) : str = 'abcde' 홀/겹 따옴표로 묶인 문자열  \n",
    "  - 리스트(list) list = [ 1, 2, 3, 4] 순서가 있는 원소(객체)의 목록  \n",
    "  - 튜플(tuple) tuple = (1,2,3) immuutable 한 데이터의 쌍  \n",
    "  - 딕셔너리(dictionary) dic = {'a': 1, 'b': 23, 'c': 32}  \n",
    "  - 집합(set) set = {1,5,3,2} 유일한 값들의 집합 "
   ]
  },
  {
   "cell_type": "markdown",
   "id": "62f3c13e",
   "metadata": {},
   "source": [
    "## 문자열 (String)  \n",
    "문자열은 문자나 단어 등으로 구성된 문자의 집합을 표현하는 자료구조이다.  \n",
    "- 문자열 정의  \n",
    "- 문자열의 인덱싱과 슬라이싱  \n",
    "- 문자열 연산  \n",
    "- 문자열 관련 함수"
   ]
  },
  {
   "cell_type": "markdown",
   "id": "c9dcefa2",
   "metadata": {},
   "source": [
    "#### 문자열의 구조  \n",
    "- 다수의 문자를 표현하기 위한 자료구조"
   ]
  },
  {
   "cell_type": "markdown",
   "id": "76397ded",
   "metadata": {},
   "source": [
    "ㅡㅡㅡㅡㅡㅡㅡㅡㅡㅡㅡㅡㅡㅡㅡㅡㅡㅡㅡㅡㅡㅡㅡㅡㅡㅡㅡㅡㅡㅡㅡ  \n",
    "문자열 기본 구조  \n",
    "ㅡㅡㅡㅡㅡㅡㅡㅡㅡㅡㅡㅡㅡㅡㅡㅡㅡㅡㅡㅡㅡㅡㅡㅡㅡㅡㅡㅡㅡㅡㅡ  \n",
    "문자열이름 = '글씨글\" (또는 '글씨글')  \n",
    "(예) word = \"Python\" (word = 'Python')  \n",
    "ㅡㅡㅡㅡㅡㅡㅡㅡㅡㅡㅡㅡㅡㅡㅡㅡㅡㅡㅡㅡㅡㅡㅡㅡㅡㅡㅡㅡㅡㅡㅡ  \n",
    "문자열은 큰 따옴표 또는 작은따옴표로 구분된다.  \n",
    "ㅡㅡㅡㅡㅡㅡㅡㅡㅡㅡㅡㅡㅡㅡㅡㅡㅡㅡㅡㅡㅡㅡㅡㅡㅡㅡㅡㅡㅡㅡㅡ"
   ]
  },
  {
   "cell_type": "markdown",
   "id": "6fbbee4f",
   "metadata": {},
   "source": [
    "- ''또는 \"\"로 둘러싼다: \"abc\", 'hello'  \n",
    "- '\"(\"\"\") qnxj '\"(\"\"\")까지 문자: 문자열이 두 줄 이상일 때 주로 사용  \n",
    "\n",
    "'\"    \n",
    "Hello    \n",
    "Python  \n",
    "'\"  \n",
    "\"\"\"  \n",
    "Hello  \n",
    "Python  \n",
    "\"\"\""
   ]
  },
  {
   "cell_type": "markdown",
   "id": "c331437c",
   "metadata": {},
   "source": [
    "- 문자열 요소(문자)를 개별적으로 사용하기-index"
   ]
  },
  {
   "cell_type": "code",
   "execution_count": null,
   "id": "375bf351",
   "metadata": {},
   "outputs": [
    {
     "name": "stdout",
     "output_type": "stream",
     "text": [
      "P\n"
     ]
    },
    {
     "data": {
      "text/plain": [
       "'n'"
      ]
     },
     "execution_count": 3,
     "metadata": {},
     "output_type": "execute_result"
    }
   ],
   "source": [
    "word = 'Python'\n",
    "word[0]  # 위치(첨자) 0의 문자. 인덱스는 0부터 시작\n",
    "print(word[0])\n",
    "word[5]  # 인덱스 5의 문자"
   ]
  },
  {
   "cell_type": "code",
   "execution_count": 4,
   "id": "982d5f10",
   "metadata": {},
   "outputs": [
    {
     "name": "stdout",
     "output_type": "stream",
     "text": [
      "n\n"
     ]
    },
    {
     "data": {
      "text/plain": [
       "'P'"
      ]
     },
     "execution_count": 4,
     "metadata": {},
     "output_type": "execute_result"
    }
   ],
   "source": [
    "word = 'Python'\n",
    "word[-1] # 마지막 문자. 마지막은 -1로 표시\n",
    "print(word[-1])\n",
    "word[-6] # 뒤에서 6번째 문자"
   ]
  },
  {
   "cell_type": "markdown",
   "id": "1c7eb127",
   "metadata": {},
   "source": [
    "- 문자열 슬라이싱(잘라내기)"
   ]
  },
  {
   "cell_type": "code",
   "execution_count": 5,
   "id": "c226544b",
   "metadata": {},
   "outputs": [
    {
     "name": "stdout",
     "output_type": "stream",
     "text": [
      "Py\n",
      "tho\n",
      "Py\n",
      "on\n",
      "on\n"
     ]
    }
   ],
   "source": [
    "word = 'Python'\n",
    "word[0:2] # 첨자 0부터 1(=2-1)까지\n",
    "print(word[0:2])\n",
    "word[2:5] # 첨자 2부터 4(=5-1)까지\n",
    "print(word[2:5])\n",
    "word[:2] # 첨자 0부터 1까지의 문자\n",
    "print(word[:2])\n",
    "word[4:] # 첨자 4부터 끝까지\n",
    "print(word[4:])\n",
    "word[-2:] # 첨자 -2에서 끝까지 문자열\n",
    "print(word[-2:])"
   ]
  },
  {
   "cell_type": "code",
   "execution_count": 6,
   "id": "32aa07c9",
   "metadata": {},
   "outputs": [
    {
     "name": "stdout",
     "output_type": "stream",
     "text": [
      "Py\n",
      "thon\n"
     ]
    },
    {
     "data": {
      "text/plain": [
       "'Python'"
      ]
     },
     "execution_count": 6,
     "metadata": {},
     "output_type": "execute_result"
    }
   ],
   "source": [
    "word = 'Python'\n",
    "word[:2] # 처음부터 1까지 슬라이싱\n",
    "print(word[0:2])\n",
    "word[2:] # 2부터 끝까지\n",
    "print(word[2:])\n",
    "word[:2]+word[2:] # 문자열 합치기"
   ]
  },
  {
   "cell_type": "markdown",
   "id": "3c576a1a",
   "metadata": {},
   "source": [
    "- 문자열 인덱싱과 슬라이싱 오류"
   ]
  },
  {
   "cell_type": "code",
   "execution_count": 7,
   "id": "237043a1",
   "metadata": {},
   "outputs": [
    {
     "ename": "SyntaxError",
     "evalue": "invalid syntax. Perhaps you forgot a comma? (3667544889.py, line 2)",
     "output_type": "error",
     "traceback": [
      "  \u001b[36mCell\u001b[39m\u001b[36m \u001b[39m\u001b[32mIn[7]\u001b[39m\u001b[32m, line 2\u001b[39m\n\u001b[31m    \u001b[39m\u001b[31mTraceback (most recent call last):\u001b[39m\n               ^\n\u001b[31mSyntaxError\u001b[39m\u001b[31m:\u001b[39m invalid syntax. Perhaps you forgot a comma?\n"
     ]
    }
   ],
   "source": [
    "word[42] # 6개 문자로 구성되어 있을 때\n",
    "Traceback (most recent call last):\n",
    "File \"<stdin>\", line 1, in <module>\n",
    "IndexError: string index out of range"
   ]
  },
  {
   "cell_type": "code",
   "execution_count": 8,
   "id": "148520b5",
   "metadata": {},
   "outputs": [
    {
     "data": {
      "text/plain": [
       "''"
      ]
     },
     "execution_count": 8,
     "metadata": {},
     "output_type": "execute_result"
    }
   ],
   "source": [
    "word[4:42] #슬라이싱에서는 범위에 벗어나도 OK\n",
    "word[42:] # 범위를 벗어난 슬라이싱"
   ]
  },
  {
   "cell_type": "markdown",
   "id": "ce47261e",
   "metadata": {},
   "source": [
    "- 문자열은 수정 불가-immutable"
   ]
  },
  {
   "cell_type": "code",
   "execution_count": null,
   "id": "931e3967",
   "metadata": {},
   "outputs": [],
   "source": [
    "word[0] = 'J'\n",
    "...\n",
    "TypeError: 'str' object does not support item assignment"
   ]
  },
  {
   "cell_type": "markdown",
   "id": "f28613ab",
   "metadata": {},
   "source": [
    "- 슬라이싱을 이용하여 새로운 문자열 만들기"
   ]
  },
  {
   "cell_type": "code",
   "execution_count": 9,
   "id": "1b2f8be2",
   "metadata": {},
   "outputs": [
    {
     "data": {
      "text/plain": [
       "'Jython'"
      ]
     },
     "execution_count": 9,
     "metadata": {},
     "output_type": "execute_result"
    }
   ],
   "source": [
    "word = 'Python'\n",
    "word2 = 'J' + word[1:]\n",
    "word2"
   ]
  },
  {
   "cell_type": "markdown",
   "id": "18d6a226",
   "metadata": {},
   "source": [
    "- 문자열 길이 확인-len()"
   ]
  },
  {
   "cell_type": "code",
   "execution_count": 10,
   "id": "d29cab98",
   "metadata": {},
   "outputs": [
    {
     "data": {
      "text/plain": [
       "6"
      ]
     },
     "execution_count": 10,
     "metadata": {},
     "output_type": "execute_result"
    }
   ],
   "source": [
    "s = 'smiles'\n",
    "len(s)"
   ]
  },
  {
   "cell_type": "markdown",
   "id": "bdbc7729",
   "metadata": {},
   "source": [
    "#### 문자열 처리  \n",
    "- index를 이용하여 문자열의 문자를 역순으로 만들기"
   ]
  },
  {
   "cell_type": "code",
   "execution_count": 11,
   "id": "144a5894",
   "metadata": {},
   "outputs": [
    {
     "name": "stdout",
     "output_type": "stream",
     "text": [
      "Reversed string : 2\n"
     ]
    }
   ],
   "source": [
    "## 변수 초기화 부분 ##\n",
    "outStr = \"\" # 출력 문자열(빈 문자열)\n",
    "count, i = 0, 0\n",
    "\n",
    "## 메인 코드 부분 ##\n",
    "inStr = input(\"Type srting : \")\n",
    "count = len(inStr) # 문자열 길이\n",
    "\n",
    "for i in range(0, count) :\n",
    "    outStr += inStr[count - (i + 1)] # 마지막 문자부터 추출하여 합치기\n",
    "print(\"Reversed string : %s\" % outStr)"
   ]
  },
  {
   "cell_type": "markdown",
   "id": "bd6560e1",
   "metadata": {},
   "source": [
    "- 문자열에서 문자 조사하기 - in/not in 연산자(멤버 연산자)"
   ]
  },
  {
   "cell_type": "code",
   "execution_count": 12,
   "id": "669e6b1e",
   "metadata": {},
   "outputs": [
    {
     "name": "stdout",
     "output_type": "stream",
     "text": [
      "True\n"
     ]
    },
    {
     "data": {
      "text/plain": [
       "False"
      ]
     },
     "execution_count": 12,
     "metadata": {},
     "output_type": "execute_result"
    }
   ],
   "source": [
    "'a' in 'cat'\n",
    "print('a' in 'cat')\n",
    "'a' not in 'can'"
   ]
  },
  {
   "cell_type": "markdown",
   "id": "017e9f15",
   "metadata": {},
   "source": [
    "#### 문자열 처리 메소드  \n",
    "- 문자열과 메소드-dir(str), help(str.method)  \n",
    "  - 파이썬은 객체지향 언어이므로 객처(object)가 많이 사용된다  \n",
    "  - 객체는 변수와 함수를 묶는 것이다. 문자열도 객체다  \n",
    "  - 객체와 관련된 함수를 메소드라 하며 객체.함수()로 호출한다  \n",
    "\n",
    "- 문자열을 구성 파악하기"
   ]
  },
  {
   "cell_type": "code",
   "execution_count": 13,
   "id": "d50c83df",
   "metadata": {},
   "outputs": [
    {
     "data": {
      "text/plain": [
       "False"
      ]
     },
     "execution_count": 13,
     "metadata": {},
     "output_type": "execute_result"
    }
   ],
   "source": [
    "'123'.isdigit() # 문자열이 숫자인가?\n",
    "'abcABC'.isalpha() # 문자열이 문자인가?\n",
    "'Ab122'.isalnum() # 문자열이 문자+숫자 혼합인가?\n",
    "'AB'.isupper() # 문자열이 대문자인가?\n",
    "'ab'.islower() # 문자열이 소문자인가?\n",
    "''.isspace() # 문자열이 공백인기?"
   ]
  },
  {
   "cell_type": "markdown",
   "id": "188107aa",
   "metadata": {},
   "source": [
    "- 문자열을 대소문자로 변환하기"
   ]
  },
  {
   "cell_type": "code",
   "execution_count": 14,
   "id": "05b53005",
   "metadata": {},
   "outputs": [
    {
     "data": {
      "text/plain": [
       "'Python Programming Is Easy!'"
      ]
     },
     "execution_count": 14,
     "metadata": {},
     "output_type": "execute_result"
    }
   ],
   "source": [
    "str = 'Python programming is easy!'\n",
    "str.upper() # 대문자로 변환\n",
    "str.lower() # 소문자로 변환\n",
    "str.swapcase() # 대소문자로 바꾸기\n",
    "str.title() # 첫 글자만 대문자로 변환"
   ]
  },
  {
   "cell_type": "markdown",
   "id": "3bd05028",
   "metadata": {},
   "source": [
    "- 문자열 찾기"
   ]
  },
  {
   "cell_type": "code",
   "execution_count": 16,
   "id": "816d211a",
   "metadata": {},
   "outputs": [
    {
     "name": "stdout",
     "output_type": "stream",
     "text": [
      "2\n",
      "4\n",
      "9\n"
     ]
    },
    {
     "data": {
      "text/plain": [
       "4"
      ]
     },
     "execution_count": 16,
     "metadata": {},
     "output_type": "execute_result"
    }
   ],
   "source": [
    "str = 'Python programming is easy!'\n",
    "str.count('i') # 문자열에서 문자 'i'의 개수\n",
    "print(str.count('i'))\n",
    "str.find('o') # 문자열에서 'o'의 처음 위치. 없으면 -1 변환\n",
    "print(str.find('o'))\n",
    "str.rfind('o') # 문자열에서 'o'가 나오는 가장 나중 위치\n",
    "print(str.rfind('o'))\n",
    "str.index('on') # 문자열에서 'on'의 처음 위치. 없으면 ValueError"
   ]
  },
  {
   "cell_type": "markdown",
   "id": "5f2d84cd",
   "metadata": {},
   "source": [
    "- 문자열 분리하기"
   ]
  },
  {
   "cell_type": "code",
   "execution_count": 18,
   "id": "a2cfdfdd",
   "metadata": {},
   "outputs": [
    {
     "name": "stdout",
     "output_type": "stream",
     "text": [
      "['a', 'bc']\n"
     ]
    },
    {
     "data": {
      "text/plain": [
       "['a ', 'c']"
      ]
     },
     "execution_count": 18,
     "metadata": {},
     "output_type": "execute_result"
    }
   ],
   "source": [
    "x = 'a bc' # a와 b 사이에 공백이 있다\n",
    "x.split() # 공백을 기준으로 분리\n",
    "print(x.split())\n",
    "x.split('b') #문자열을 ()속의 문자로 분리한다\n"
   ]
  },
  {
   "cell_type": "markdown",
   "id": "7fb1c717",
   "metadata": {},
   "source": [
    "- 문자열에서 공백 제거하기"
   ]
  },
  {
   "cell_type": "code",
   "execution_count": 19,
   "id": "7062406e",
   "metadata": {},
   "outputs": [
    {
     "name": "stdout",
     "output_type": "stream",
     "text": [
      "hello\n",
      "hello\n",
      "hello\n"
     ]
    },
    {
     "data": {
      "text/plain": [
       "'hello'"
      ]
     },
     "execution_count": 19,
     "metadata": {},
     "output_type": "execute_result"
    }
   ],
   "source": [
    "str = 'hello'\n",
    "str.strip() # 양쪽에서 공백 제거\n",
    "print(str.strip())\n",
    "str # 원래 문자열은 변하지 않는다\n",
    "print(str)\n",
    "str.rstrip() # 오른쪽 공백 제거\n",
    "print(str.rstrip())\n",
    "str.lstrip() # 왼쪽 공백 제거"
   ]
  },
  {
   "cell_type": "markdown",
   "id": "0470039e",
   "metadata": {},
   "source": [
    "- 문자열 결합하기"
   ]
  },
  {
   "cell_type": "code",
   "execution_count": 20,
   "id": "7da28ff0",
   "metadata": {},
   "outputs": [
    {
     "data": {
      "text/plain": [
       "'h*e*l*l*o'"
      ]
     },
     "execution_count": 20,
     "metadata": {},
     "output_type": "execute_result"
    }
   ],
   "source": [
    "'*'.join('hello') # *와 문자열의 각 문자를 하나씩 결합한 문자열 생성"
   ]
  },
  {
   "cell_type": "markdown",
   "id": "750f0be4",
   "metadata": {},
   "source": [
    "- 문자열 채우기"
   ]
  },
  {
   "cell_type": "code",
   "execution_count": 21,
   "id": "61f0ec29",
   "metadata": {},
   "outputs": [
    {
     "data": {
      "text/plain": [
       "'00012'"
      ]
     },
     "execution_count": 21,
     "metadata": {},
     "output_type": "execute_result"
    }
   ],
   "source": [
    "'12'.zfill(5) # 문자열 '12'의 왼쪽을 0으로 채워 5자리로 만든다"
   ]
  },
  {
   "cell_type": "markdown",
   "id": "54936be0",
   "metadata": {},
   "source": [
    "- 문자열 정렬하기"
   ]
  },
  {
   "cell_type": "code",
   "execution_count": 22,
   "id": "24c82c88",
   "metadata": {},
   "outputs": [
    {
     "name": "stdout",
     "output_type": "stream",
     "text": [
      "   he\n",
      "he   \n"
     ]
    },
    {
     "data": {
      "text/plain": [
       "'  he '"
      ]
     },
     "execution_count": 22,
     "metadata": {},
     "output_type": "execute_result"
    }
   ],
   "source": [
    "'he'.rjust(5) # 5자리를 오른쪽으로 정렬\n",
    "print('he'.rjust(5))\n",
    "'he'.ljust(5) # 5자리를 왼쪽으로 정렬\n",
    "print('he'.ljust(5))\n",
    "'he'.center(5) # 5자리를 가운데로 정렬"
   ]
  },
  {
   "cell_type": "markdown",
   "id": "e0270e5b",
   "metadata": {},
   "source": [
    "## 리스트(list)  \n",
    "#### 리스트는 여러가지 자료를 하나로 모아서 표현할 수 있는 자료구조이다.  \n",
    "- 리스트를 만드는 방법  \n",
    "- 리스트의 인덱싱과 슬라이싱  \n",
    "- 연산, 수정, 삭제 방법  \n",
    "- 리스트 관련 함수"
   ]
  },
  {
   "cell_type": "markdown",
   "id": "abf613a3",
   "metadata": {},
   "source": [
    "#### 리스트는 여러 개의 데이터를 하나의 이름으로 저장하는 자료 구조"
   ]
  },
  {
   "cell_type": "markdown",
   "id": "a9d046a1",
   "metadata": {},
   "source": [
    "ㅡㅡㅡㅡㅡㅡㅡㅡㅡㅡㅡㅡㅡㅡㅡㅡㅡㅡㅡㅡㅡㅡㅡㅡㅡ  \n",
    "리스트 기본 구조  \n",
    "ㅡㅡㅡㅡㅡㅡㅡㅡㅡㅡㅡㅡㅡㅡㅡㅡㅡㅡㅡㅡㅡㅡㅡㅡㅡ  \n",
    "리스트이름 = [항목1, 항목2, ... ]  \n",
    "ㅡㅡㅡㅡㅡㅡㅡㅡㅡㅡㅡㅡㅡㅡㅡㅡㅡㅡㅡㅡㅡㅡㅡㅡㅡ  "
   ]
  },
  {
   "cell_type": "code",
   "execution_count": 26,
   "id": "a391907d",
   "metadata": {},
   "outputs": [
    {
     "name": "stdout",
     "output_type": "stream",
     "text": [
      "[1, 4, 9, 16, 25]\n",
      "[]\n"
     ]
    }
   ],
   "source": [
    "odd = [1, 3, 5, 7, 9] # []를 이용하여 리스트 생성\n",
    "squares = [1, 4, 9, 16, 25]\n",
    "squares\n",
    "print(squares)\n",
    "empty = [] # 공백 리스트. empy = list()\n",
    "empty\n",
    "print(empty)\n",
    "a = [1, 'hello', 2, 'world', 1.23]"
   ]
  },
  {
   "cell_type": "markdown",
   "id": "09c8b01f",
   "metadata": {},
   "source": [
    "- 리스트의 인덱싱(요소 접근하기)과 슬라이싱(잘나내기)"
   ]
  },
  {
   "cell_type": "code",
   "execution_count": null,
   "id": "c607854f",
   "metadata": {},
   "outputs": [
    {
     "name": "stdout",
     "output_type": "stream",
     "text": [
      "1\n",
      "25\n",
      "[1, 4, 9]\n",
      "[9, 16, 25]\n"
     ]
    }
   ],
   "source": [
    "squares = [1, 4, 9, 16,25]\n",
    "squares[0] # 리스트 요소 추출하기(인덱싱은 0부터)\n",
    "print(squares[0])\n",
    "squares[-1] # 마지막 요소\n",
    "print(squares[-1])\n",
    "squares[0:3] # 0부터(3-1)까지 잘라내기\n",
    "print(squares[0:3])\n",
    "squares[-3:] # 뒤에서 3번째부터 마지막까지 잘라내기\n",
    "print(squares[-3:])"
   ]
  },
  {
   "cell_type": "markdown",
   "id": "4068cd6a",
   "metadata": {},
   "source": [
    "- 리스트 합치기"
   ]
  },
  {
   "cell_type": "code",
   "execution_count": 31,
   "id": "0c67670c",
   "metadata": {},
   "outputs": [
    {
     "name": "stdout",
     "output_type": "stream",
     "text": [
      "[1, 4, 9, 16, 25, 36, 49, 64, 81, 100]\n"
     ]
    },
    {
     "data": {
      "text/plain": [
       "[1, 2, 3, 4, 5, 6]"
      ]
     },
     "execution_count": 31,
     "metadata": {},
     "output_type": "execute_result"
    }
   ],
   "source": [
    "squares + [36, 49, 64, 81, 100] #리스트 합치기\n",
    "print(squares + [36, 49, 64, 81, 100])\n",
    "a = [1, 2, 3]\n",
    "b = [4, 5, 6]\n",
    "a + b # 리스트 합치기"
   ]
  },
  {
   "cell_type": "markdown",
   "id": "87c67715",
   "metadata": {},
   "source": [
    "- 리스트의 요소 수정, 추가하기"
   ]
  },
  {
   "cell_type": "code",
   "execution_count": 34,
   "id": "42d64d1d",
   "metadata": {},
   "outputs": [
    {
     "name": "stdout",
     "output_type": "stream",
     "text": [
      "64\n",
      "[1, 8, 27, 64, 125]\n"
     ]
    },
    {
     "data": {
      "text/plain": [
       "[1, 8, 27, 64, 125, 216, 343]"
      ]
     },
     "execution_count": 34,
     "metadata": {},
     "output_type": "execute_result"
    }
   ],
   "source": [
    "# 수정하기\n",
    "cubes = [1, 8, 27, 65, 125] # 세제곱수\n",
    "4 ** 3 # 4의 세제곱은 64!\n",
    "print(4 ** 3)\n",
    "cubes[3] = 64 # 리스트 요소 수정하기\n",
    "cubes # 수정된 리스트\n",
    "print(cubes)\n",
    "\n",
    "# 마지막에 요소 추가하기\n",
    "cubes.append(216) # 마지막에 리스트 요소 추가하기\n",
    "cubes.append(7 **3) # 마지막에 리스트 요소 추가하기\n",
    "cubes"
   ]
  },
  {
   "cell_type": "markdown",
   "id": "3304bc87",
   "metadata": {},
   "source": [
    "- 리스트의 요소 수정"
   ]
  },
  {
   "cell_type": "code",
   "execution_count": 35,
   "id": "c43640bd",
   "metadata": {},
   "outputs": [
    {
     "name": "stdout",
     "output_type": "stream",
     "text": [
      "['a', 'b', 'c', 'd', 'e', 'f', 'g']\n",
      "['a', 'b', 'C', 'D', 'E', 'f', 'g']\n",
      "['a', 'b', 'f', 'g']\n"
     ]
    },
    {
     "data": {
      "text/plain": [
       "[]"
      ]
     },
     "execution_count": 35,
     "metadata": {},
     "output_type": "execute_result"
    }
   ],
   "source": [
    "# 요소 수정하기\n",
    "letters = ['a', 'b', 'c', 'd', 'e', 'f', 'g']\n",
    "letters\n",
    "print(letters)\n",
    "letters[2:5] = ['C', 'D', 'E'] # 리스트 요소 수정\n",
    "letters\n",
    "print(letters)\n",
    "letters[2:5] = [] # 리스트 요소 제거\n",
    "letters\n",
    "print(letters)\n",
    "letters[:] = [] # 리스트 요소 모두 제거\n",
    "letters"
   ]
  }
 ],
 "metadata": {
  "kernelspec": {
   "display_name": "Python 3",
   "language": "python",
   "name": "python3"
  },
  "language_info": {
   "codemirror_mode": {
    "name": "ipython",
    "version": 3
   },
   "file_extension": ".py",
   "mimetype": "text/x-python",
   "name": "python",
   "nbconvert_exporter": "python",
   "pygments_lexer": "ipython3",
   "version": "3.11.9"
  }
 },
 "nbformat": 4,
 "nbformat_minor": 5
}
