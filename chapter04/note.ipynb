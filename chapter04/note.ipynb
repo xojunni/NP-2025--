{
 "cells": [
  {
   "cell_type": "markdown",
   "id": "b6a5734a",
   "metadata": {},
   "source": [
    "# 4장 노트정리"
   ]
  },
  {
   "cell_type": "markdown",
   "id": "f35a2026",
   "metadata": {},
   "source": [
    "## 파이썬 자료 구조  \n",
    "\n",
    "#### 자료구조(data structuer)란?  \n",
    "- 자료를 표현하고 처리하기 위해 사용되는 구조  \n",
    "- 자료를 효율적으로 처리하고 저장하는 데 사용  \n",
    "- 파이썬에서 사용되는 기본 자료 구조  \n",
    "  - 문자열(string) : str = 'abcde' 홀/겹 따옴표로 묶인 문자열  \n",
    "  - 리스트(list) list = [ 1, 2, 3, 4] 순서가 있는 원소(객체)의 목록  \n",
    "  - 튜플(tuple) tuple = (1,2,3) immuutable 한 데이터의 쌍  \n",
    "  - 딕셔너리(dictionary) dic = {'a': 1, 'b': 23, 'c': 32}  \n",
    "  - 집합(set) set = {1,5,3,2} 유일한 값들의 집합 "
   ]
  },
  {
   "cell_type": "markdown",
   "id": "62f3c13e",
   "metadata": {},
   "source": [
    "## 문자열 (String)  \n",
    "문자열은 문자나 단어 등으로 구성된 문자의 집합을 표현하는 자료구조이다.  \n",
    "- 문자열 정의  \n",
    "- 문자열의 인덱싱과 슬라이싱  \n",
    "- 문자열 연산  \n",
    "- 문자열 관련 함수"
   ]
  },
  {
   "cell_type": "markdown",
   "id": "c9dcefa2",
   "metadata": {},
   "source": [
    "#### 문자열의 구조  \n",
    "- 다수의 문자를 표현하기 위한 자료구조"
   ]
  },
  {
   "cell_type": "markdown",
   "id": "76397ded",
   "metadata": {},
   "source": [
    "ㅡㅡㅡㅡㅡㅡㅡㅡㅡㅡㅡㅡㅡㅡㅡㅡㅡㅡㅡㅡㅡㅡㅡㅡㅡㅡㅡㅡㅡㅡㅡ  \n",
    "문자열 기본 구조  \n",
    "ㅡㅡㅡㅡㅡㅡㅡㅡㅡㅡㅡㅡㅡㅡㅡㅡㅡㅡㅡㅡㅡㅡㅡㅡㅡㅡㅡㅡㅡㅡㅡ  \n",
    "문자열이름 = '글씨글\" (또는 '글씨글')  \n",
    "(예) word = \"Python\" (word = 'Python')  \n",
    "ㅡㅡㅡㅡㅡㅡㅡㅡㅡㅡㅡㅡㅡㅡㅡㅡㅡㅡㅡㅡㅡㅡㅡㅡㅡㅡㅡㅡㅡㅡㅡ  \n",
    "문자열은 큰 따옴표 또는 작은따옴표로 구분된다.  \n",
    "ㅡㅡㅡㅡㅡㅡㅡㅡㅡㅡㅡㅡㅡㅡㅡㅡㅡㅡㅡㅡㅡㅡㅡㅡㅡㅡㅡㅡㅡㅡㅡ"
   ]
  },
  {
   "cell_type": "markdown",
   "id": "6fbbee4f",
   "metadata": {},
   "source": [
    "- ''또는 \"\"로 둘러싼다: \"abc\", 'hello'  \n",
    "- '\"(\"\"\") qnxj '\"(\"\"\")까지 문자: 문자열이 두 줄 이상일 때 주로 사용  \n",
    "\n",
    "'\"    \n",
    "Hello    \n",
    "Python  \n",
    "'\"  \n",
    "\"\"\"  \n",
    "Hello  \n",
    "Python  \n",
    "\"\"\""
   ]
  },
  {
   "cell_type": "markdown",
   "id": "c331437c",
   "metadata": {},
   "source": [
    "- 문자열 요소(문자)를 개별적으로 사용하기-index"
   ]
  },
  {
   "cell_type": "code",
   "execution_count": null,
   "id": "375bf351",
   "metadata": {},
   "outputs": [
    {
     "name": "stdout",
     "output_type": "stream",
     "text": [
      "P\n"
     ]
    },
    {
     "data": {
      "text/plain": [
       "'n'"
      ]
     },
     "execution_count": 3,
     "metadata": {},
     "output_type": "execute_result"
    }
   ],
   "source": [
    "word = 'Python'\n",
    "word[0]  # 위치(첨자) 0의 문자. 인덱스는 0부터 시작\n",
    "print(word[0])\n",
    "word[5]  # 인덱스 5의 문자"
   ]
  },
  {
   "cell_type": "code",
   "execution_count": 4,
   "id": "982d5f10",
   "metadata": {},
   "outputs": [
    {
     "name": "stdout",
     "output_type": "stream",
     "text": [
      "n\n"
     ]
    },
    {
     "data": {
      "text/plain": [
       "'P'"
      ]
     },
     "execution_count": 4,
     "metadata": {},
     "output_type": "execute_result"
    }
   ],
   "source": [
    "word = 'Python'\n",
    "word[-1] # 마지막 문자. 마지막은 -1로 표시\n",
    "print(word[-1])\n",
    "word[-6] # 뒤에서 6번째 문자"
   ]
  },
  {
   "cell_type": "markdown",
   "id": "1c7eb127",
   "metadata": {},
   "source": [
    "- 문자열 슬라이싱(잘라내기)"
   ]
  },
  {
   "cell_type": "code",
   "execution_count": 5,
   "id": "c226544b",
   "metadata": {},
   "outputs": [
    {
     "name": "stdout",
     "output_type": "stream",
     "text": [
      "Py\n",
      "tho\n",
      "Py\n",
      "on\n",
      "on\n"
     ]
    }
   ],
   "source": [
    "word = 'Python'\n",
    "word[0:2] # 첨자 0부터 1(=2-1)까지\n",
    "print(word[0:2])\n",
    "word[2:5] # 첨자 2부터 4(=5-1)까지\n",
    "print(word[2:5])\n",
    "word[:2] # 첨자 0부터 1까지의 문자\n",
    "print(word[:2])\n",
    "word[4:] # 첨자 4부터 끝까지\n",
    "print(word[4:])\n",
    "word[-2:] # 첨자 -2에서 끝까지 문자열\n",
    "print(word[-2:])"
   ]
  },
  {
   "cell_type": "code",
   "execution_count": 6,
   "id": "32aa07c9",
   "metadata": {},
   "outputs": [
    {
     "name": "stdout",
     "output_type": "stream",
     "text": [
      "Py\n",
      "thon\n"
     ]
    },
    {
     "data": {
      "text/plain": [
       "'Python'"
      ]
     },
     "execution_count": 6,
     "metadata": {},
     "output_type": "execute_result"
    }
   ],
   "source": [
    "word = 'Python'\n",
    "word[:2] # 처음부터 1까지 슬라이싱\n",
    "print(word[0:2])\n",
    "word[2:] # 2부터 끝까지\n",
    "print(word[2:])\n",
    "word[:2]+word[2:] # 문자열 합치기"
   ]
  },
  {
   "cell_type": "markdown",
   "id": "3c576a1a",
   "metadata": {},
   "source": [
    "- 문자열 인덱싱과 슬라이싱 오류"
   ]
  },
  {
   "cell_type": "code",
   "execution_count": 7,
   "id": "237043a1",
   "metadata": {},
   "outputs": [
    {
     "ename": "SyntaxError",
     "evalue": "invalid syntax. Perhaps you forgot a comma? (3667544889.py, line 2)",
     "output_type": "error",
     "traceback": [
      "  \u001b[36mCell\u001b[39m\u001b[36m \u001b[39m\u001b[32mIn[7]\u001b[39m\u001b[32m, line 2\u001b[39m\n\u001b[31m    \u001b[39m\u001b[31mTraceback (most recent call last):\u001b[39m\n               ^\n\u001b[31mSyntaxError\u001b[39m\u001b[31m:\u001b[39m invalid syntax. Perhaps you forgot a comma?\n"
     ]
    }
   ],
   "source": [
    "word[42] # 6개 문자로 구성되어 있을 때\n",
    "Traceback (most recent call last):\n",
    "File \"<stdin>\", line 1, in <module>\n",
    "IndexError: string index out of range"
   ]
  },
  {
   "cell_type": "code",
   "execution_count": 8,
   "id": "148520b5",
   "metadata": {},
   "outputs": [
    {
     "data": {
      "text/plain": [
       "''"
      ]
     },
     "execution_count": 8,
     "metadata": {},
     "output_type": "execute_result"
    }
   ],
   "source": [
    "word[4:42] #슬라이싱에서는 범위에 벗어나도 OK\n",
    "word[42:] # 범위를 벗어난 슬라이싱"
   ]
  },
  {
   "cell_type": "markdown",
   "id": "ce47261e",
   "metadata": {},
   "source": [
    "- 문자열은 수정 불가-immutable"
   ]
  },
  {
   "cell_type": "code",
   "execution_count": null,
   "id": "931e3967",
   "metadata": {},
   "outputs": [],
   "source": [
    "word[0] = 'J'\n",
    "...\n",
    "TypeError: 'str' object does not support item assignment"
   ]
  },
  {
   "cell_type": "markdown",
   "id": "f28613ab",
   "metadata": {},
   "source": [
    "- 슬라이싱을 이용하여 새로운 문자열 만들기"
   ]
  },
  {
   "cell_type": "code",
   "execution_count": 9,
   "id": "1b2f8be2",
   "metadata": {},
   "outputs": [
    {
     "data": {
      "text/plain": [
       "'Jython'"
      ]
     },
     "execution_count": 9,
     "metadata": {},
     "output_type": "execute_result"
    }
   ],
   "source": [
    "word = 'Python'\n",
    "word2 = 'J' + word[1:]\n",
    "word2"
   ]
  },
  {
   "cell_type": "markdown",
   "id": "18d6a226",
   "metadata": {},
   "source": [
    "- 문자열 길이 확인-len()"
   ]
  },
  {
   "cell_type": "code",
   "execution_count": 10,
   "id": "d29cab98",
   "metadata": {},
   "outputs": [
    {
     "data": {
      "text/plain": [
       "6"
      ]
     },
     "execution_count": 10,
     "metadata": {},
     "output_type": "execute_result"
    }
   ],
   "source": [
    "s = 'smiles'\n",
    "len(s)"
   ]
  },
  {
   "cell_type": "markdown",
   "id": "bdbc7729",
   "metadata": {},
   "source": [
    "#### 문자열 처리  \n",
    "- index를 이용하여 문자열의 문자를 역순으로 만들기"
   ]
  },
  {
   "cell_type": "code",
   "execution_count": 11,
   "id": "144a5894",
   "metadata": {},
   "outputs": [
    {
     "name": "stdout",
     "output_type": "stream",
     "text": [
      "Reversed string : 2\n"
     ]
    }
   ],
   "source": [
    "## 변수 초기화 부분 ##\n",
    "outStr = \"\" # 출력 문자열(빈 문자열)\n",
    "count, i = 0, 0\n",
    "\n",
    "## 메인 코드 부분 ##\n",
    "inStr = input(\"Type srting : \")\n",
    "count = len(inStr) # 문자열 길이\n",
    "\n",
    "for i in range(0, count) :\n",
    "    outStr += inStr[count - (i + 1)] # 마지막 문자부터 추출하여 합치기\n",
    "print(\"Reversed string : %s\" % outStr)"
   ]
  },
  {
   "cell_type": "markdown",
   "id": "bd6560e1",
   "metadata": {},
   "source": [
    "- 문자열에서 문자 조사하기 - in/not in 연산자(멤버 연산자)"
   ]
  },
  {
   "cell_type": "code",
   "execution_count": 12,
   "id": "669e6b1e",
   "metadata": {},
   "outputs": [
    {
     "name": "stdout",
     "output_type": "stream",
     "text": [
      "True\n"
     ]
    },
    {
     "data": {
      "text/plain": [
       "False"
      ]
     },
     "execution_count": 12,
     "metadata": {},
     "output_type": "execute_result"
    }
   ],
   "source": [
    "'a' in 'cat'\n",
    "print('a' in 'cat')\n",
    "'a' not in 'can'"
   ]
  },
  {
   "cell_type": "markdown",
   "id": "017e9f15",
   "metadata": {},
   "source": [
    "#### 문자열 처리 메소드  \n",
    "- 문자열과 메소드-dir(str), help(str.method)  \n",
    "  - 파이썬은 객체지향 언어이므로 객처(object)가 많이 사용된다  \n",
    "  - 객체는 변수와 함수를 묶는 것이다. 문자열도 객체다  \n",
    "  - 객체와 관련된 함수를 메소드라 하며 객체.함수()로 호출한다  \n",
    "\n",
    "- 문자열을 구성 파악하기"
   ]
  },
  {
   "cell_type": "code",
   "execution_count": 13,
   "id": "d50c83df",
   "metadata": {},
   "outputs": [
    {
     "data": {
      "text/plain": [
       "False"
      ]
     },
     "execution_count": 13,
     "metadata": {},
     "output_type": "execute_result"
    }
   ],
   "source": [
    "'123'.isdigit() # 문자열이 숫자인가?\n",
    "'abcABC'.isalpha() # 문자열이 문자인가?\n",
    "'Ab122'.isalnum() # 문자열이 문자+숫자 혼합인가?\n",
    "'AB'.isupper() # 문자열이 대문자인가?\n",
    "'ab'.islower() # 문자열이 소문자인가?\n",
    "''.isspace() # 문자열이 공백인기?"
   ]
  },
  {
   "cell_type": "markdown",
   "id": "188107aa",
   "metadata": {},
   "source": [
    "- 문자열을 대소문자로 변환하기"
   ]
  },
  {
   "cell_type": "code",
   "execution_count": 14,
   "id": "05b53005",
   "metadata": {},
   "outputs": [
    {
     "data": {
      "text/plain": [
       "'Python Programming Is Easy!'"
      ]
     },
     "execution_count": 14,
     "metadata": {},
     "output_type": "execute_result"
    }
   ],
   "source": [
    "str = 'Python programming is easy!'\n",
    "str.upper() # 대문자로 변환\n",
    "str.lower() # 소문자로 변환\n",
    "str.swapcase() # 대소문자로 바꾸기\n",
    "str.title() # 첫 글자만 대문자로 변환"
   ]
  },
  {
   "cell_type": "markdown",
   "id": "3bd05028",
   "metadata": {},
   "source": [
    "- 문자열 찾기"
   ]
  },
  {
   "cell_type": "code",
   "execution_count": 16,
   "id": "816d211a",
   "metadata": {},
   "outputs": [
    {
     "name": "stdout",
     "output_type": "stream",
     "text": [
      "2\n",
      "4\n",
      "9\n"
     ]
    },
    {
     "data": {
      "text/plain": [
       "4"
      ]
     },
     "execution_count": 16,
     "metadata": {},
     "output_type": "execute_result"
    }
   ],
   "source": [
    "str = 'Python programming is easy!'\n",
    "str.count('i') # 문자열에서 문자 'i'의 개수\n",
    "print(str.count('i'))\n",
    "str.find('o') # 문자열에서 'o'의 처음 위치. 없으면 -1 변환\n",
    "print(str.find('o'))\n",
    "str.rfind('o') # 문자열에서 'o'가 나오는 가장 나중 위치\n",
    "print(str.rfind('o'))\n",
    "str.index('on') # 문자열에서 'on'의 처음 위치. 없으면 ValueError"
   ]
  },
  {
   "cell_type": "markdown",
   "id": "5f2d84cd",
   "metadata": {},
   "source": [
    "- 문자열 분리하기"
   ]
  },
  {
   "cell_type": "code",
   "execution_count": 18,
   "id": "a2cfdfdd",
   "metadata": {},
   "outputs": [
    {
     "name": "stdout",
     "output_type": "stream",
     "text": [
      "['a', 'bc']\n"
     ]
    },
    {
     "data": {
      "text/plain": [
       "['a ', 'c']"
      ]
     },
     "execution_count": 18,
     "metadata": {},
     "output_type": "execute_result"
    }
   ],
   "source": [
    "x = 'a bc' # a와 b 사이에 공백이 있다\n",
    "x.split() # 공백을 기준으로 분리\n",
    "print(x.split())\n",
    "x.split('b') #문자열을 ()속의 문자로 분리한다\n"
   ]
  },
  {
   "cell_type": "markdown",
   "id": "7fb1c717",
   "metadata": {},
   "source": [
    "- 문자열에서 공백 제거하기"
   ]
  },
  {
   "cell_type": "code",
   "execution_count": 19,
   "id": "7062406e",
   "metadata": {},
   "outputs": [
    {
     "name": "stdout",
     "output_type": "stream",
     "text": [
      "hello\n",
      "hello\n",
      "hello\n"
     ]
    },
    {
     "data": {
      "text/plain": [
       "'hello'"
      ]
     },
     "execution_count": 19,
     "metadata": {},
     "output_type": "execute_result"
    }
   ],
   "source": [
    "str = 'hello'\n",
    "str.strip() # 양쪽에서 공백 제거\n",
    "print(str.strip())\n",
    "str # 원래 문자열은 변하지 않는다\n",
    "print(str)\n",
    "str.rstrip() # 오른쪽 공백 제거\n",
    "print(str.rstrip())\n",
    "str.lstrip() # 왼쪽 공백 제거"
   ]
  },
  {
   "cell_type": "markdown",
   "id": "0470039e",
   "metadata": {},
   "source": [
    "- 문자열 결합하기"
   ]
  },
  {
   "cell_type": "code",
   "execution_count": 20,
   "id": "7da28ff0",
   "metadata": {},
   "outputs": [
    {
     "data": {
      "text/plain": [
       "'h*e*l*l*o'"
      ]
     },
     "execution_count": 20,
     "metadata": {},
     "output_type": "execute_result"
    }
   ],
   "source": [
    "'*'.join('hello') # *와 문자열의 각 문자를 하나씩 결합한 문자열 생성"
   ]
  },
  {
   "cell_type": "markdown",
   "id": "750f0be4",
   "metadata": {},
   "source": [
    "- 문자열 채우기"
   ]
  },
  {
   "cell_type": "code",
   "execution_count": 21,
   "id": "61f0ec29",
   "metadata": {},
   "outputs": [
    {
     "data": {
      "text/plain": [
       "'00012'"
      ]
     },
     "execution_count": 21,
     "metadata": {},
     "output_type": "execute_result"
    }
   ],
   "source": [
    "'12'.zfill(5) # 문자열 '12'의 왼쪽을 0으로 채워 5자리로 만든다"
   ]
  },
  {
   "cell_type": "markdown",
   "id": "54936be0",
   "metadata": {},
   "source": [
    "- 문자열 정렬하기"
   ]
  },
  {
   "cell_type": "code",
   "execution_count": 22,
   "id": "24c82c88",
   "metadata": {},
   "outputs": [
    {
     "name": "stdout",
     "output_type": "stream",
     "text": [
      "   he\n",
      "he   \n"
     ]
    },
    {
     "data": {
      "text/plain": [
       "'  he '"
      ]
     },
     "execution_count": 22,
     "metadata": {},
     "output_type": "execute_result"
    }
   ],
   "source": [
    "'he'.rjust(5) # 5자리를 오른쪽으로 정렬\n",
    "print('he'.rjust(5))\n",
    "'he'.ljust(5) # 5자리를 왼쪽으로 정렬\n",
    "print('he'.ljust(5))\n",
    "'he'.center(5) # 5자리를 가운데로 정렬"
   ]
  },
  {
   "cell_type": "markdown",
   "id": "e0270e5b",
   "metadata": {},
   "source": [
    "## 리스트(list)  \n",
    "#### 리스트는 여러가지 자료를 하나로 모아서 표현할 수 있는 자료구조이다.  \n",
    "- 리스트를 만드는 방법  \n",
    "- 리스트의 인덱싱과 슬라이싱  \n",
    "- 연산, 수정, 삭제 방법  \n",
    "- 리스트 관련 함수"
   ]
  },
  {
   "cell_type": "markdown",
   "id": "abf613a3",
   "metadata": {},
   "source": [
    "#### 리스트는 여러 개의 데이터를 하나의 이름으로 저장하는 자료 구조"
   ]
  },
  {
   "cell_type": "markdown",
   "id": "a9d046a1",
   "metadata": {},
   "source": [
    "ㅡㅡㅡㅡㅡㅡㅡㅡㅡㅡㅡㅡㅡㅡㅡㅡㅡㅡㅡㅡㅡㅡㅡㅡㅡ  \n",
    "리스트 기본 구조  \n",
    "ㅡㅡㅡㅡㅡㅡㅡㅡㅡㅡㅡㅡㅡㅡㅡㅡㅡㅡㅡㅡㅡㅡㅡㅡㅡ  \n",
    "리스트이름 = [항목1, 항목2, ... ]  \n",
    "ㅡㅡㅡㅡㅡㅡㅡㅡㅡㅡㅡㅡㅡㅡㅡㅡㅡㅡㅡㅡㅡㅡㅡㅡㅡ  "
   ]
  },
  {
   "cell_type": "code",
   "execution_count": 26,
   "id": "a391907d",
   "metadata": {},
   "outputs": [
    {
     "name": "stdout",
     "output_type": "stream",
     "text": [
      "[1, 4, 9, 16, 25]\n",
      "[]\n"
     ]
    }
   ],
   "source": [
    "odd = [1, 3, 5, 7, 9] # []를 이용하여 리스트 생성\n",
    "squares = [1, 4, 9, 16, 25]\n",
    "squares\n",
    "print(squares)\n",
    "empty = [] # 공백 리스트. empy = list()\n",
    "empty\n",
    "print(empty)\n",
    "a = [1, 'hello', 2, 'world', 1.23]"
   ]
  },
  {
   "cell_type": "markdown",
   "id": "09c8b01f",
   "metadata": {},
   "source": [
    "- 리스트의 인덱싱(요소 접근하기)과 슬라이싱(잘나내기)"
   ]
  },
  {
   "cell_type": "code",
   "execution_count": null,
   "id": "c607854f",
   "metadata": {},
   "outputs": [
    {
     "name": "stdout",
     "output_type": "stream",
     "text": [
      "1\n",
      "25\n",
      "[1, 4, 9]\n",
      "[9, 16, 25]\n"
     ]
    }
   ],
   "source": [
    "squares = [1, 4, 9, 16,25]\n",
    "squares[0] # 리스트 요소 추출하기(인덱싱은 0부터)\n",
    "print(squares[0])\n",
    "squares[-1] # 마지막 요소\n",
    "print(squares[-1])\n",
    "squares[0:3] # 0부터(3-1)까지 잘라내기\n",
    "print(squares[0:3])\n",
    "squares[-3:] # 뒤에서 3번째부터 마지막까지 잘라내기\n",
    "print(squares[-3:])"
   ]
  },
  {
   "cell_type": "markdown",
   "id": "4068cd6a",
   "metadata": {},
   "source": [
    "- 리스트 합치기"
   ]
  },
  {
   "cell_type": "code",
   "execution_count": 31,
   "id": "0c67670c",
   "metadata": {},
   "outputs": [
    {
     "name": "stdout",
     "output_type": "stream",
     "text": [
      "[1, 4, 9, 16, 25, 36, 49, 64, 81, 100]\n"
     ]
    },
    {
     "data": {
      "text/plain": [
       "[1, 2, 3, 4, 5, 6]"
      ]
     },
     "execution_count": 31,
     "metadata": {},
     "output_type": "execute_result"
    }
   ],
   "source": [
    "squares + [36, 49, 64, 81, 100] #리스트 합치기\n",
    "print(squares + [36, 49, 64, 81, 100])\n",
    "a = [1, 2, 3]\n",
    "b = [4, 5, 6]\n",
    "a + b # 리스트 합치기"
   ]
  },
  {
   "cell_type": "markdown",
   "id": "87c67715",
   "metadata": {},
   "source": [
    "- 리스트의 요소 수정, 추가하기"
   ]
  },
  {
   "cell_type": "code",
   "execution_count": 34,
   "id": "42d64d1d",
   "metadata": {},
   "outputs": [
    {
     "name": "stdout",
     "output_type": "stream",
     "text": [
      "64\n",
      "[1, 8, 27, 64, 125]\n"
     ]
    },
    {
     "data": {
      "text/plain": [
       "[1, 8, 27, 64, 125, 216, 343]"
      ]
     },
     "execution_count": 34,
     "metadata": {},
     "output_type": "execute_result"
    }
   ],
   "source": [
    "# 수정하기\n",
    "cubes = [1, 8, 27, 65, 125] # 세제곱수\n",
    "4 ** 3 # 4의 세제곱은 64!\n",
    "print(4 ** 3)\n",
    "cubes[3] = 64 # 리스트 요소 수정하기\n",
    "cubes # 수정된 리스트\n",
    "print(cubes)\n",
    "\n",
    "# 마지막에 요소 추가하기\n",
    "cubes.append(216) # 마지막에 리스트 요소 추가하기\n",
    "cubes.append(7 **3) # 마지막에 리스트 요소 추가하기\n",
    "cubes"
   ]
  },
  {
   "cell_type": "markdown",
   "id": "3304bc87",
   "metadata": {},
   "source": [
    "- 리스트의 요소 수정"
   ]
  },
  {
   "cell_type": "code",
   "execution_count": 35,
   "id": "c43640bd",
   "metadata": {},
   "outputs": [
    {
     "name": "stdout",
     "output_type": "stream",
     "text": [
      "['a', 'b', 'c', 'd', 'e', 'f', 'g']\n",
      "['a', 'b', 'C', 'D', 'E', 'f', 'g']\n",
      "['a', 'b', 'f', 'g']\n"
     ]
    },
    {
     "data": {
      "text/plain": [
       "[]"
      ]
     },
     "execution_count": 35,
     "metadata": {},
     "output_type": "execute_result"
    }
   ],
   "source": [
    "# 요소 수정하기\n",
    "letters = ['a', 'b', 'c', 'd', 'e', 'f', 'g']\n",
    "letters\n",
    "print(letters)\n",
    "letters[2:5] = ['C', 'D', 'E'] # 리스트 요소 수정\n",
    "letters\n",
    "print(letters)\n",
    "letters[2:5] = [] # 리스트 요소 제거\n",
    "letters\n",
    "print(letters)\n",
    "letters[:] = [] # 리스트 요소 모두 제거\n",
    "letters"
   ]
  },
  {
   "cell_type": "markdown",
   "id": "e3caa7a7",
   "metadata": {},
   "source": [
    "- 중첨 리스트"
   ]
  },
  {
   "cell_type": "code",
   "execution_count": 36,
   "id": "471cf7db",
   "metadata": {},
   "outputs": [
    {
     "name": "stdout",
     "output_type": "stream",
     "text": [
      "[['a', 'b', 'c'], [1, 2, 3]]\n",
      "['a', 'b', 'c']\n"
     ]
    },
    {
     "data": {
      "text/plain": [
       "'b'"
      ]
     },
     "execution_count": 36,
     "metadata": {},
     "output_type": "execute_result"
    }
   ],
   "source": [
    "a = ['a', 'b', 'c']\n",
    "n = [1, 2, 3]\n",
    "x = [a, n]\n",
    "x\n",
    "print(x)\n",
    "x[0] # 리스트 요소가 리스트이다\n",
    "print(x[0])\n",
    "x[0][1] # 중첩 리스트 요소 지정"
   ]
  },
  {
   "cell_type": "markdown",
   "id": "6e370583",
   "metadata": {},
   "source": [
    "- 2차원 리스트"
   ]
  },
  {
   "cell_type": "code",
   "execution_count": 37,
   "id": "553eb229",
   "metadata": {},
   "outputs": [
    {
     "name": "stdout",
     "output_type": "stream",
     "text": [
      "1\n"
     ]
    },
    {
     "data": {
      "text/plain": [
       "9"
      ]
     },
     "execution_count": 37,
     "metadata": {},
     "output_type": "execute_result"
    }
   ],
   "source": [
    "list2d = [[1, 2, 3], [4, 5, 6], [7, 8, 9]] # 배열을 나타낼 때 편리\n",
    "list2d[0][0]\n",
    "print(list2d[0][0])\n",
    "list2d[2][2]"
   ]
  },
  {
   "cell_type": "markdown",
   "id": "2ebaa574",
   "metadata": {},
   "source": [
    "- 내장 함수를 이용한 리스트 다루기"
   ]
  },
  {
   "cell_type": "code",
   "execution_count": 38,
   "id": "0b5b6a00",
   "metadata": {},
   "outputs": [
    {
     "data": {
      "text/plain": [
       "4"
      ]
     },
     "execution_count": 38,
     "metadata": {},
     "output_type": "execute_result"
    }
   ],
   "source": [
    "# 리스트 길이 알아내기\n",
    "letters = ['a', 'b', 'c', 'd']\n",
    "len(letters)"
   ]
  },
  {
   "cell_type": "code",
   "execution_count": 39,
   "id": "456e3330",
   "metadata": {},
   "outputs": [
    {
     "name": "stdout",
     "output_type": "stream",
     "text": [
      "15\n",
      "1\n",
      "5\n"
     ]
    }
   ],
   "source": [
    "# 리스트 요소 합, 최소값, 최대값 구하기\n",
    "num = [1, 2, 3, 4, 5]\n",
    "sum(num)\n",
    "print(sum(num))\n",
    "min(num)\n",
    "print(min(num))\n",
    "max(num)\n",
    "print(max(num))"
   ]
  },
  {
   "cell_type": "markdown",
   "id": "af545d17",
   "metadata": {},
   "source": [
    "### 리스트 메소드  \n",
    "- 리스트 메소드(List.method)"
   ]
  },
  {
   "attachments": {
    "image.png": {
     "image/png": "[encoded data removed]"
    }
   },
   "cell_type": "markdown",
   "id": "05e9ca30",
   "metadata": {},
   "source": [
    "![image.png](attachment:image.png)"
   ]
  },
  {
   "cell_type": "code",
   "execution_count": 40,
   "id": "892fe7b2",
   "metadata": {},
   "outputs": [
    {
     "name": "stdout",
     "output_type": "stream",
     "text": [
      "Help on method_descriptor:\n",
      "\n",
      "sort(self, /, *, key=None, reverse=False) unbound builtins.list method\n",
      "    Sort the list in ascending order and return None.\n",
      "    \n",
      "    The sort is in-place (i.e. the list itself is modified) and stable (i.e. the\n",
      "    order of two equal elements is maintained).\n",
      "    \n",
      "    If a key function is given, apply it once to each list item and sort them,\n",
      "    ascending or descending, according to their function values.\n",
      "    \n",
      "    The reverse flag can be set to sort in descending order.\n",
      "\n"
     ]
    }
   ],
   "source": [
    "# 사용법 확인하기  \n",
    "help(list.sort)"
   ]
  },
  {
   "cell_type": "markdown",
   "id": "9d2b3ab1",
   "metadata": {},
   "source": [
    "### 리스트 순서"
   ]
  },
  {
   "cell_type": "markdown",
   "id": "76e69a7b",
   "metadata": {},
   "source": [
    "- 리스트 요소 순서 나열"
   ]
  },
  {
   "cell_type": "code",
   "execution_count": 42,
   "id": "54a03fdc",
   "metadata": {},
   "outputs": [
    {
     "name": "stdout",
     "output_type": "stream",
     "text": [
      "['bus', 'sedan', 'taxi', 'truck']\n",
      "['truck', 'taxi', 'sedan', 'bus']\n",
      "Here is the original list:\n",
      "['truck', 'taxi', 'sedan', 'bus']\n",
      "\n",
      "Here is the sorted list:\n",
      "['bus', 'sedan', 'taxi', 'truck']\n",
      "\n",
      "Here is the original list again:\n",
      "['truck', 'taxi', 'sedan', 'bus']\n"
     ]
    }
   ],
   "source": [
    "cars = ['taxi', 'sedan', 'bus', 'truck']\n",
    "\n",
    "# 오름차순으로 배열\n",
    "cars.sort()\n",
    "print(cars)\n",
    "\n",
    "# 역순 배열\n",
    "cars.sort(reverse=True)\n",
    "print(cars)\n",
    "\n",
    "print(\"Here is the original list:\")\n",
    "print(cars)\n",
    "\n",
    "print(\"\\nHere is the sorted list:\")\n",
    "print(sorted(cars))  # ➋ 오름차순으로 배열한 리스트를 따로 생성\n",
    "\n",
    "print(\"\\nHere is the original list again:\")\n",
    "print(cars)\n"
   ]
  },
  {
   "cell_type": "markdown",
   "id": "f9d4aa9c",
   "metadata": {},
   "source": [
    "### 리스트(list) 순서  \n",
    "- 리스트 역순으로 출력하기"
   ]
  },
  {
   "cell_type": "code",
   "execution_count": 43,
   "id": "1dd036d3",
   "metadata": {},
   "outputs": [
    {
     "name": "stdout",
     "output_type": "stream",
     "text": [
      "['taxi', 'sedan', 'bus', 'truck ']\n",
      "['truck ', 'bus', 'sedan', 'taxi']\n"
     ]
    }
   ],
   "source": [
    "cars = ['taxi', 'sedan', 'bus', 'truck ']\n",
    "print(cars)\n",
    "cars.reverse() #원래 리스트의 요소 순서를 거꾸로 배열\n",
    "print(cars)\n"
   ]
  },
  {
   "cell_type": "markdown",
   "id": "e0907bf8",
   "metadata": {},
   "source": [
    "- 리스트 관련 에러"
   ]
  },
  {
   "cell_type": "code",
   "execution_count": 1,
   "id": "e1a7e7ca",
   "metadata": {},
   "outputs": [
    {
     "ename": "SyntaxError",
     "evalue": "invalid syntax. Perhaps you forgot a comma? (264018753.py, line 4)",
     "output_type": "error",
     "traceback": [
      "  \u001b[36mCell\u001b[39m\u001b[36m \u001b[39m\u001b[32mIn[1]\u001b[39m\u001b[32m, line 4\u001b[39m\n\u001b[31m    \u001b[39m\u001b[31mTraceback (most recent call last):\u001b[39m\n               ^\n\u001b[31mSyntaxError\u001b[39m\u001b[31m:\u001b[39m invalid syntax. Perhaps you forgot a comma?\n"
     ]
    }
   ],
   "source": [
    "motorcycles = ['honda', 'yamaha', 'suzuki']\n",
    "print(motorcycles[3])\n",
    "\n",
    "Traceback (most recent call last):\n",
    "File \"motorcycles.py\", line 3, in <module>\n",
    "print(motorcycles[3])\n",
    "IndexError: list index out of range # 인덱스 범위 초과\n"
   ]
  },
  {
   "cell_type": "markdown",
   "id": "d43f0a4f",
   "metadata": {},
   "source": [
    "### 리스트 내포(list comprehension)  \n",
    "- 리스트 내포란?\n",
    "  - 리스트 안에 for문을 포함하여 한 줄로 리스트를 만드는 방법  \n",
    "  - [표현식 for 항목 in 반복객체]\n",
    "  - [표현식 for 항목 in 반복객체 if 조건문]\n",
    "  - [표현식 if 조건문 else 문장 for 항목 in 반복객체]"
   ]
  },
  {
   "cell_type": "code",
   "execution_count": 3,
   "id": "d671afba",
   "metadata": {},
   "outputs": [
    {
     "name": "stdout",
     "output_type": "stream",
     "text": [
      "[3, 6, 9, 12]\n",
      "[6, 12]\n"
     ]
    },
    {
     "data": {
      "text/plain": [
       "[0, 1, 4, 9, 8, 25, 12, 49, 16, 81]"
      ]
     },
     "execution_count": 3,
     "metadata": {},
     "output_type": "execute_result"
    }
   ],
   "source": [
    "#a 원소의 3배수로 구성되는 리스트 생성\n",
    "a = [1, 2, 3, 4]\n",
    "result = [num*3 for num in a]\n",
    "print(result)\n",
    "#a의 원소 중 짝수인 원소의 3배수로 구성되는 리스트 생성\n",
    "result = [num*3 for num in a if num % 2 == 0]\n",
    "print(result)\n",
    "#짝수의 2배수나 홀수의 제곱을 원소로 갖는 리스트 생성\n",
    "[i*2 if i%2 == 0 else i**2 for i in range(10)]"
   ]
  },
  {
   "cell_type": "markdown",
   "id": "16985314",
   "metadata": {},
   "source": [
    "## 튜플(tuple)  \n",
    "#### 튜플은 리스트와 같이 여러 가지 자료를 모아서 하나로 표현할 수 있으나 요소를 수정, 삭제할 수 없는 자료구조이다.  \n",
    "- 튜플 만들기  \n",
    "- 튜틀의 더하기와 곱하기  \n",
    "- 튜플의 인덱싱과 슬라이싱"
   ]
  },
  {
   "cell_type": "markdown",
   "id": "9e0485d0",
   "metadata": {},
   "source": [
    "### 튜플(tuple)  \n",
    "- 튜플은 리스트와 비슷한 자료구조이나 요소 값을 변경할 수 없다(immutable)  \n",
    "- 튜플 만들기"
   ]
  },
  {
   "cell_type": "code",
   "execution_count": null,
   "id": "29f3bafb",
   "metadata": {},
   "outputs": [
    {
     "name": "stdout",
     "output_type": "stream",
     "text": [
      "(1, 2, 3)\n",
      "(1, 2, 3)\n",
      "(1,)\n",
      "()\n"
     ]
    }
   ],
   "source": [
    "# 튜플 생성 방법\n",
    "\n",
    "t1 = (1, 2, 3)  # () 속에 요소를 나열하여 만든다\n",
    "print(t1)       \n",
    "\n",
    "t2 = 1, 2, 3    # () 없이 요소를 나열해서 만들 수도 있다. 패킹\n",
    "print(t2)       \n",
    "\n",
    "t3 = 1,         # 요소가 한 개인 경우 ,를 붙인다\n",
    "print(t3)       \n",
    "\n",
    "t4 = tuple()\n",
    "print(t4)       "
   ]
  },
  {
   "cell_type": "markdown",
   "id": "2544670a",
   "metadata": {},
   "source": [
    "- 튜플 요소 접근하기(인덱싱과 슬라이싱)"
   ]
  },
  {
   "cell_type": "code",
   "execution_count": 5,
   "id": "c40f3040",
   "metadata": {},
   "outputs": [
    {
     "name": "stdout",
     "output_type": "stream",
     "text": [
      "2\n"
     ]
    },
    {
     "data": {
      "text/plain": [
       "(2, 3)"
      ]
     },
     "execution_count": 5,
     "metadata": {},
     "output_type": "execute_result"
    }
   ],
   "source": [
    "t1 = (1,2,3)\n",
    "t1[1]\n",
    "print(t1[1])\n",
    "t1[1:3]"
   ]
  },
  {
   "cell_type": "markdown",
   "id": "4ca65fe9",
   "metadata": {},
   "source": [
    "- 튜플 연산"
   ]
  },
  {
   "cell_type": "code",
   "execution_count": null,
   "id": "e6368a65",
   "metadata": {},
   "outputs": [
    {
     "name": "stdout",
     "output_type": "stream",
     "text": [
      "(1, 2, 3, 'a', 'b')\n",
      "(1, 2, 3, 1, 2, 3)\n"
     ]
    }
   ],
   "source": [
    "t1 = (1, 2, 3)\n",
    "t2 = ('a', 'b')\n",
    "\n",
    "# 두 개의 튜플을 하나로 합치기\n",
    "t3 = t1 + t2\n",
    "print(t3)\n",
    "\n",
    "# 동일한 튜플을 반복하여 새 튜플 생성\n",
    "t4 = t1 * 2\n",
    "print(t4)\n"
   ]
  },
  {
   "cell_type": "markdown",
   "id": "4031c94a",
   "metadata": {},
   "source": [
    "- 튜플과 리스트 상호 변환"
   ]
  },
  {
   "cell_type": "code",
   "execution_count": 8,
   "id": "4f04cbaf",
   "metadata": {},
   "outputs": [
    {
     "name": "stdout",
     "output_type": "stream",
     "text": [
      "(1, 2, 3, 4)\n"
     ]
    }
   ],
   "source": [
    "T1 = (1, 2, 3)\n",
    "\n",
    "# 튜플을 리스트로 변환\n",
    "L1 = list(T1)\n",
    "\n",
    "# 리스트에 요소 추가\n",
    "L1.append(4)\n",
    "\n",
    "# 리스트를 다시 튜플로 변환\n",
    "T1 = tuple(L1)\n",
    "print(T1)  # 출력: (1, 2, 3, 4)\n"
   ]
  },
  {
   "cell_type": "markdown",
   "id": "86daec95",
   "metadata": {},
   "source": [
    "- 튜플 언패킹"
   ]
  },
  {
   "cell_type": "code",
   "execution_count": 9,
   "id": "282f4d0b",
   "metadata": {},
   "outputs": [
    {
     "name": "stdout",
     "output_type": "stream",
     "text": [
      "1\n",
      "2\n",
      "3\n"
     ]
    }
   ],
   "source": [
    "a, b, c = (1,2,3)\n",
    "print(a)\n",
    "print(b)\n",
    "print(c)\n"
   ]
  },
  {
   "cell_type": "markdown",
   "id": "bfa71ef4",
   "metadata": {},
   "source": [
    "## 딕셔너리(dictionary)  \n",
    "#### 딕셔너리는 사전과 같이 대응 관계를 나타내는 자료구조이다.  \n",
    "- 딕샤너리 만들기  \n",
    "- 딕셔너리 요소 추가, 삭제하기  \n",
    "- 딕셔너리 사용하기  \n",
    "- 딕셔너리 관련 함수  "
   ]
  },
  {
   "cell_type": "markdown",
   "id": "410e88f1",
   "metadata": {},
   "source": [
    "#### 딕셔너리(dictionary)  \n",
    "- 키(Key):값(value)로 구성되는 자료 구조  \n",
    "- 키는 정수, 실수, 문자열, 튜플  \n",
    "- 값은 임의의 테이터형  \n",
    "- 딕셔너리 생성 "
   ]
  },
  {
   "cell_type": "code",
   "execution_count": null,
   "id": "9df0b9fb",
   "metadata": {},
   "outputs": [
    {
     "name": "stdout",
     "output_type": "stream",
     "text": [
      "{'Jun': 174, 'Kim': 170, 'Lee': 165}\n",
      "{}\n"
     ]
    }
   ],
   "source": [
    "# 키:값 형태의 딕셔너리 생성\n",
    "height = {'Jun': 174, 'Kim': 170, 'Lee': 165}\n",
    "print(height) \n",
    "test = dict()  # 또는 test = {}\n",
    "print(test)\n"
   ]
  },
  {
   "cell_type": "markdown",
   "id": "cf028ff5",
   "metadata": {},
   "source": [
    "- 딕셔너리 key 값 조사하기"
   ]
  },
  {
   "cell_type": "code",
   "execution_count": 15,
   "id": "a772f1fa",
   "metadata": {},
   "outputs": [
    {
     "name": "stdout",
     "output_type": "stream",
     "text": [
      "{'Jun': 174, 'Kim': 170, 'Lee': 165}\n",
      "{}\n",
      "170\n"
     ]
    }
   ],
   "source": [
    "height = {'Jun': 174, 'Kim': 170, 'Lee': 165}\n",
    "print(height)\n",
    "\n",
    "test = dict()  # 또는 test = {}\n",
    "print(test) \n",
    "\n",
    "# 딕셔너리에서 값 조회\n",
    "print(height['Kim'])\n"
   ]
  },
  {
   "cell_type": "markdown",
   "id": "6a307be4",
   "metadata": {},
   "source": [
    "- 딕셔너리 키 조사"
   ]
  },
  {
   "cell_type": "code",
   "execution_count": 16,
   "id": "b1a0ed05",
   "metadata": {},
   "outputs": [
    {
     "name": "stdout",
     "output_type": "stream",
     "text": [
      "True\n"
     ]
    }
   ],
   "source": [
    "height = {'Jun': 174, 'Kim': 170, 'Lee': 165}\n",
    "\n",
    "# 'in' 연산자로 key가 있는지 조사\n",
    "print('Kim' in height)\n"
   ]
  },
  {
   "cell_type": "markdown",
   "id": "3181ad11",
   "metadata": {},
   "source": [
    "- 딕셔너리 요소 수정, 추가하기"
   ]
  },
  {
   "cell_type": "code",
   "execution_count": 17,
   "id": "4f198503",
   "metadata": {},
   "outputs": [
    {
     "name": "stdout",
     "output_type": "stream",
     "text": [
      "{'Jun': 174, 'Kim': 170, 'Lee': 180, 'Ihm': 168}\n"
     ]
    }
   ],
   "source": [
    "height = {'Jun': 174, 'Kim': 170, 'Lee': 165}\n",
    "\n",
    "# 요소 수정하기\n",
    "height['Lee'] = 180\n",
    "\n",
    "# 요소 추가하기\n",
    "height['Ihm'] = 168\n",
    "\n",
    "print(height)\n"
   ]
  },
  {
   "cell_type": "markdown",
   "id": "2038875f",
   "metadata": {},
   "source": [
    "- 딕셔너리의 키, 값, 요소를 뽑아내기"
   ]
  },
  {
   "cell_type": "code",
   "execution_count": 19,
   "id": "48b86599",
   "metadata": {},
   "outputs": [
    {
     "name": "stdout",
     "output_type": "stream",
     "text": [
      "dict_keys(['Jun', 'Kim', 'Lee', 'Ihm'])\n",
      "dict_values([174, 170, 165, 168])\n",
      "dict_items([('Jun', 174), ('Kim', 170), ('Lee', 165), ('Ihm', 168)])\n",
      "['Jun', 'Kim', 'Lee', 'Ihm']\n"
     ]
    }
   ],
   "source": [
    "height = {'Jun': 174, 'Kim': 170, 'Lee': 165, 'Ihm': 168}\n",
    "\n",
    "# 키 뽑아내기\n",
    "dict_keys = height.keys()\n",
    "\n",
    "# 값 뽑아내기\n",
    "dict_values = height.values()\n",
    "\n",
    "# 요소를 튜플로 분리하기\n",
    "dict_items = height.items()\n",
    "\n",
    "# 뽑아낸 키를 리스트로 변환하기\n",
    "keys_list = list(dict_keys)\n",
    "\n",
    "print(dict_keys)\n",
    "print(dict_values)\n",
    "print(dict_items)\n",
    "print(keys_list)\n"
   ]
  },
  {
   "cell_type": "markdown",
   "id": "885148c5",
   "metadata": {},
   "source": [
    "- 딕셔너리 요소 제거하기"
   ]
  },
  {
   "cell_type": "code",
   "execution_count": 23,
   "id": "393576ba",
   "metadata": {},
   "outputs": [
    {
     "name": "stdout",
     "output_type": "stream",
     "text": [
      "{'Jun': 174, 'Kim': 170, 'Lee': 165}\n"
     ]
    }
   ],
   "source": [
    "height = {'Jun': 174, 'Kim': 170, 'Lee': 165, 'Ihm': 168}\n",
    "\n",
    "# 'Ihm' 요소 제거\n",
    "height.pop('Ihm')\n",
    "\n",
    "print(height)\n"
   ]
  },
  {
   "cell_type": "markdown",
   "id": "e125ae59",
   "metadata": {},
   "source": [
    "- 딕셔너리 지우기"
   ]
  },
  {
   "cell_type": "code",
   "execution_count": 24,
   "id": "441390ce",
   "metadata": {},
   "outputs": [
    {
     "data": {
      "text/plain": [
       "{}"
      ]
     },
     "execution_count": 24,
     "metadata": {},
     "output_type": "execute_result"
    }
   ],
   "source": [
    "height.clear()  # 요소를 지우기. 빈 딕셔너리로 만든다\n",
    "height\n"
   ]
  },
  {
   "cell_type": "markdown",
   "id": "a9563ba5",
   "metadata": {},
   "source": [
    "## 집합(set)  \n",
    "#### 집합 자료형은 집합에 관련된 것을 처리하기 위한 자료형이다.  \n",
    "- 집합 정의  \n",
    "- 교집합, 합집합, 차집합  \n",
    "- 집합 관련 함수 "
   ]
  },
  {
   "cell_type": "markdown",
   "id": "f4771790",
   "metadata": {},
   "source": [
    "### 집합(set)  \n",
    "- {} 속에 요소들을 중복되지 않고 순서없이 모아놓은 자료 구조  \n",
    "- 집합의 생성"
   ]
  },
  {
   "cell_type": "code",
   "execution_count": 25,
   "id": "2efd0734",
   "metadata": {},
   "outputs": [],
   "source": [
    "numbers = {1,2,3}\n",
    "name = set(['Kim', 'Lee', 'Park'])"
   ]
  },
  {
   "cell_type": "markdown",
   "id": "2b41b440",
   "metadata": {},
   "source": [
    "- 빈 집합 생성, 개수 확인 요소 추가, 요소 제거하기"
   ]
  },
  {
   "cell_type": "code",
   "execution_count": 26,
   "id": "98e0de15",
   "metadata": {},
   "outputs": [
    {
     "data": {
      "text/plain": [
       "{1, 2, 3}"
      ]
     },
     "execution_count": 26,
     "metadata": {},
     "output_type": "execute_result"
    }
   ],
   "source": [
    "empty = set()  # 빈 집합 생성\n",
    "numbers = {1, 2, 3}\n",
    "\n",
    "len(numbers)\n",
    "\n",
    "# 요소 추가\n",
    "numbers.add(4)\n",
    "\n",
    "# 요소 제거\n",
    "numbers.remove(4)\n",
    "\n",
    "numbers\n"
   ]
  },
  {
   "cell_type": "markdown",
   "id": "0c2b179e",
   "metadata": {},
   "source": [
    "- 집합의 연산"
   ]
  },
  {
   "cell_type": "code",
   "execution_count": 28,
   "id": "9aa4b64f",
   "metadata": {},
   "outputs": [
    {
     "name": "stdout",
     "output_type": "stream",
     "text": [
      "{2, 3}\n",
      "{1, 2, 3, 4}\n"
     ]
    },
    {
     "data": {
      "text/plain": [
       "{1}"
      ]
     },
     "execution_count": 28,
     "metadata": {},
     "output_type": "execute_result"
    }
   ],
   "source": [
    "setA = {1, 2, 3}\n",
    "setB = {2, 3, 4}\n",
    "\n",
    "# 교집합\n",
    "setA & setB\n",
    "setA.intersection(setB)\n",
    "print(setA & setB)\n",
    "\n",
    "# 합집합\n",
    "setA | setB\n",
    "setA.union(setB)\n",
    "print(setA | setB)\n",
    "\n",
    "# 차집합\n",
    "setA - setB\n",
    "setA.difference(setB)\n"
   ]
  },
  {
   "cell_type": "markdown",
   "id": "ad850831",
   "metadata": {},
   "source": [
    "- 부분 집합 연산"
   ]
  },
  {
   "cell_type": "code",
   "execution_count": 30,
   "id": "0d51eb00",
   "metadata": {},
   "outputs": [
    {
     "name": "stdout",
     "output_type": "stream",
     "text": [
      "True\n",
      "True\n"
     ]
    },
    {
     "data": {
      "text/plain": [
       "True"
      ]
     },
     "execution_count": 30,
     "metadata": {},
     "output_type": "execute_result"
    }
   ],
   "source": [
    "setA = {1, 2, 3}\n",
    "setB = {1, 2, 3}\n",
    "\n",
    "# 두 개의 집합이 같은가?\n",
    "setA == setB\n",
    "print(setA == setB)\n",
    "\n",
    "setA = {1, 2, 3, 4, 5, 6}\n",
    "setB = {1, 2, 3}\n",
    "\n",
    "# 집합 B가 집합 A의 부분집합인가?\n",
    "setB < setA\n",
    "print(setB < setA)\n",
    "setB.issubset(setA)\n"
   ]
  },
  {
   "cell_type": "markdown",
   "id": "6dae24e5",
   "metadata": {},
   "source": [
    "#### 집합 예제  \n",
    "- 1부터 45까지의 수 중에서 6개를 선택하여 로또 번호를 만드는 프로그램"
   ]
  },
  {
   "cell_type": "code",
   "execution_count": 31,
   "id": "95dc58c4",
   "metadata": {},
   "outputs": [
    {
     "name": "stdout",
     "output_type": "stream",
     "text": [
      "{41, 9, 13, 45, 15, 23}\n",
      "[9, 13, 15, 23, 41, 45]\n"
     ]
    }
   ],
   "source": [
    "import random\n",
    "\n",
    "pick = set()  # 빈 집합\n",
    "\n",
    "while len(pick) < 6:\n",
    "    n = random.randint(1, 45)  # 랜덤 넘버 생성\n",
    "    if n not in pick:\n",
    "        pick.add(n)  # 집합에 요소 추가\n",
    "\n",
    "print(pick)\n",
    "print(sorted(pick))  # 순서대로 나열된 집합 출력\n"
   ]
  }
 ],
 "metadata": {
  "kernelspec": {
   "display_name": "Python 3",
   "language": "python",
   "name": "python3"
  },
  "language_info": {
   "codemirror_mode": {
    "name": "ipython",
    "version": 3
   },
   "file_extension": ".py",
   "mimetype": "text/x-python",
   "name": "python",
   "nbconvert_exporter": "python",
   "pygments_lexer": "ipython3",
   "version": "3.11.9"
  }
 },
 "nbformat": 4,
 "nbformat_minor": 5
}
