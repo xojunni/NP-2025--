{
 "cells": [
  {
   "cell_type": "markdown",
   "id": "b6a5734a",
   "metadata": {},
   "source": [
    "# 4장 노트정리"
   ]
  },
  {
   "cell_type": "markdown",
   "id": "f35a2026",
   "metadata": {},
   "source": [
    "## 파이썬 자료 구조  \n",
    "\n",
    "#### 자료구조(data structuer)란?  \n",
    "- 자료를 표현하고 처리하기 위해 사용되는 구조  \n",
    "- 자료를 효율적으로 처리하고 저장하는 데 사용  \n",
    "- 파이썬에서 사용되는 기본 자료 구조  \n",
    "  - 문자열(string) : str = 'abcde' 홀/겹 따옴표로 묶인 문자열  \n",
    "  - 리스트(list) list = [ 1, 2, 3, 4] 순서가 있는 원소(객체)의 목록  \n",
    "  - 튜플(tuple) tuple = (1,2,3) immuutable 한 데이터의 쌍  \n",
    "  - 딕셔너리(dictionary) dic = {'a': 1, 'b': 23, 'c': 32}  \n",
    "  - 집합(set) set = {1,5,3,2} 유일한 값들의 집합 "
   ]
  },
  {
   "cell_type": "markdown",
   "id": "62f3c13e",
   "metadata": {},
   "source": [
    "### 문자열 (String)  \n",
    "문자열은 문자나 단어 등으로 구성된 문자의 집합을 표현하는 자료구조이다.  \n",
    "- 문자열 정의  \n",
    "- 문자열의 인덱싱과 슬라이싱  \n",
    "- 문자열 연산  \n",
    "- 문자열 관련 함수"
   ]
  }
 ],
 "metadata": {
  "language_info": {
   "name": "python"
  }
 },
 "nbformat": 4,
 "nbformat_minor": 5
}
