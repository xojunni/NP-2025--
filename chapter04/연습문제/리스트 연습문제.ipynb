{
 "cells": [
  {
   "cell_type": "markdown",
   "id": "5157e225",
   "metadata": {},
   "source": [
    "## 연습문제 1  \n",
    "\n",
    "#### 3명 이상 친구 이름 리스트를 작성하고 다음 내용을 프로그램하시오.  \n",
    "- insert()로 맨 앞에 새로운 친구 추가  \n",
    "- insert()로 3번째 위치에 새로운 친구 추가  \n",
    "- append()로 마지막에 친구 추가"
   ]
  },
  {
   "cell_type": "code",
   "execution_count": 1,
   "id": "5a166893",
   "metadata": {},
   "outputs": [
    {
     "name": "stdout",
     "output_type": "stream",
     "text": [
      "처음 친구 리스트: ['영준', '민수', '지현', '서연']\n",
      "맨 앞에 친구 추가 후: ['태훈', '영준', '민수', '지현', '서연']\n",
      "3번째 위치에 친구 추가 후: ['태훈', '영준', '예린', '민수', '지현', '서연']\n",
      "마지막에 친구 추가 후: ['태훈', '영준', '예린', '민수', '지현', '서연', '다은']\n"
     ]
    }
   ],
   "source": [
    "# 1️⃣ 친구 이름 리스트 생성\n",
    "friends = [\"영준\", \"민수\", \"지현\", \"서연\"]\n",
    "\n",
    "print(\"처음 친구 리스트:\", friends)\n",
    "\n",
    "# 2️⃣ 맨 앞에 새로운 친구 추가\n",
    "friends.insert(0, \"태훈\")\n",
    "print(\"맨 앞에 친구 추가 후:\", friends)\n",
    "\n",
    "# 3️⃣ 3번째 위치(인덱스 2)에 새로운 친구 추가\n",
    "friends.insert(2, \"예린\")\n",
    "print(\"3번째 위치에 친구 추가 후:\", friends)\n",
    "\n",
    "# 4️⃣ 마지막에 친구 추가\n",
    "friends.append(\"다은\")\n",
    "print(\"마지막에 친구 추가 후:\", friends)\n"
   ]
  },
  {
   "cell_type": "markdown",
   "id": "18aa238a",
   "metadata": {},
   "source": [
    "#### 리스트 [1, 2, 3]에 대해 다음과 같은 처리를 하라.  \n",
    "- 두 번째 요소를 17로 수정  \n",
    "- 리스트에 4, 5, 6을 추가  \n",
    "- 첫 번째 요소 제거  \n",
    "- 리스트를 요소 순서대로 배열하기  \n",
    "- 인덱스 3에 25넣기"
   ]
  },
  {
   "cell_type": "code",
   "execution_count": 3,
   "id": "faaf464c",
   "metadata": {},
   "outputs": [
    {
     "name": "stdout",
     "output_type": "stream",
     "text": [
      "초기 리스트: [1, 2, 3]\n",
      "두 번째 요소 수정 후: [1, 17, 3]\n",
      "4, 5, 6 추가 후: [1, 17, 3, 4, 5, 6]\n",
      "첫 번째 요소 제거 후: [17, 3, 4, 5, 6]\n",
      "정렬 후: [3, 4, 5, 6, 17]\n",
      "인덱스 3에 25 추가 후: [3, 4, 5, 25, 6, 17]\n"
     ]
    }
   ],
   "source": [
    "# 1️⃣ 초기 리스트\n",
    "nums = [1, 2, 3]\n",
    "print(\"초기 리스트:\", nums)\n",
    "\n",
    "# 2️⃣ 두 번째 요소를 17로 수정 (인덱스 1)\n",
    "nums[1] = 17\n",
    "print(\"두 번째 요소 수정 후:\", nums)\n",
    "\n",
    "# 3️⃣ 리스트에 4, 5, 6 추가\n",
    "nums.extend([4, 5, 6])\n",
    "print(\"4, 5, 6 추가 후:\", nums)\n",
    "\n",
    "# 4️⃣ 첫 번째 요소 제거\n",
    "del nums[0]\n",
    "print(\"첫 번째 요소 제거 후:\", nums)\n",
    "\n",
    "# 5️⃣ 리스트를 오름차순 정렬\n",
    "nums.sort()\n",
    "print(\"정렬 후:\", nums)\n",
    "\n",
    "# 6️⃣ 인덱스 3에 25 넣기\n",
    "nums.insert(3, 25)\n",
    "print(\"인덱스 3에 25 추가 후:\", nums)\n"
   ]
  },
  {
   "cell_type": "markdown",
   "id": "394a9233",
   "metadata": {},
   "source": [
    "## 연습문제 2  \n",
    "\n",
    "#### 1. for 루프를 이용하여 다음과 같은 리스트를 생성하라.  \n",
    "- 0~49까지의 수로 구성되는 리스트  \n",
    "- 1~50까지 수의 제곱으로 구성되는 리스트"
   ]
  },
  {
   "cell_type": "code",
   "execution_count": 4,
   "id": "9e8a54b3",
   "metadata": {},
   "outputs": [
    {
     "name": "stdout",
     "output_type": "stream",
     "text": [
      "0~49 리스트: [0, 1, 2, 3, 4, 5, 6, 7, 8, 9, 10, 11, 12, 13, 14, 15, 16, 17, 18, 19, 20, 21, 22, 23, 24, 25, 26, 27, 28, 29, 30, 31, 32, 33, 34, 35, 36, 37, 38, 39, 40, 41, 42, 43, 44, 45, 46, 47, 48, 49]\n",
      "1~50 제곱 리스트: [1, 4, 9, 16, 25, 36, 49, 64, 81, 100, 121, 144, 169, 196, 225, 256, 289, 324, 361, 400, 441, 484, 529, 576, 625, 676, 729, 784, 841, 900, 961, 1024, 1089, 1156, 1225, 1296, 1369, 1444, 1521, 1600, 1681, 1764, 1849, 1936, 2025, 2116, 2209, 2304, 2401, 2500]\n"
     ]
    }
   ],
   "source": [
    "# 1️⃣ 0~49까지의 수로 구성된 리스트\n",
    "nums = []\n",
    "for i in range(50):\n",
    "    nums.append(i)\n",
    "print(\"0~49 리스트:\", nums)\n",
    "\n",
    "# 2️⃣ 1~50까지 수의 제곱으로 구성된 리스트\n",
    "squares = []\n",
    "for i in range(1, 51):\n",
    "    squares.append(i ** 2)\n",
    "print(\"1~50 제곱 리스트:\", squares)\n"
   ]
  },
  {
   "cell_type": "markdown",
   "id": "624d22fd",
   "metadata": {},
   "source": [
    "#### 2. 크기가 같은 두 개의 리스트 L, M을 생성하고 두 리스트의 각 요소 합으로 구성되는 새로운 리스트를 생성하라. 예를 들어 L = [1, 2, 3]이고 M = [4, 5, 6]이면 [5, 7, 9]인 리스트 생성"
   ]
  },
  {
   "cell_type": "code",
   "execution_count": 5,
   "id": "e5b9a3cb",
   "metadata": {},
   "outputs": [
    {
     "name": "stdout",
     "output_type": "stream",
     "text": [
      "새 리스트: [5, 7, 9]\n"
     ]
    }
   ],
   "source": [
    "# 두 개의 리스트 생성\n",
    "L = [1, 2, 3]\n",
    "M = [4, 5, 6]\n",
    "\n",
    "# 같은 인덱스끼리 더한 새 리스트 생성\n",
    "result = []\n",
    "for i in range(len(L)):\n",
    "    result.append(L[i] + M[i])\n",
    "\n",
    "print(\"새 리스트:\", result)\n"
   ]
  }
 ],
 "metadata": {
  "kernelspec": {
   "display_name": "Python 3",
   "language": "python",
   "name": "python3"
  },
  "language_info": {
   "codemirror_mode": {
    "name": "ipython",
    "version": 3
   },
   "file_extension": ".py",
   "mimetype": "text/x-python",
   "name": "python",
   "nbconvert_exporter": "python",
   "pygments_lexer": "ipython3",
   "version": "3.11.9"
  }
 },
 "nbformat": 4,
 "nbformat_minor": 5
}
