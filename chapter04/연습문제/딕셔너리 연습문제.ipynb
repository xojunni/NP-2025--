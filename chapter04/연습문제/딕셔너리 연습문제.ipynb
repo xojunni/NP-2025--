{
 "cells": [
  {
   "cell_type": "markdown",
   "id": "f99ce2e7",
   "metadata": {},
   "source": [
    "## 연습문제 -1  \n",
    "####  다음 딕셔너리에 대해 물음에 답하라.  \n",
    "#### days = {'January':31, 'February':28, 'March':31, 'April':30, 'May':31, 'June':30, 'July':31, 'August':31,'September':30, 'October':31, 'November':30, 'December':31}  \n",
    "- 사용자가 월을 입력하면 해당 월에 일수를 출력하라.  \n",
    "- 알파벳 순서로 모든 월을 출력하라.  \n",
    "- 일수가 31인 월을 모두 출력하라.  \n",
    "- 월의 일수를 기준으로 오름차순으로 (key-value) 쌍을 출력하라.  \n",
    "- 사용자가 월을 3자리만 입력하면 월의 일수를 출력하라.(Jan, Feb)등"
   ]
  },
  {
   "cell_type": "code",
   "execution_count": 1,
   "id": "d36cd5c1",
   "metadata": {},
   "outputs": [
    {
     "name": "stdout",
     "output_type": "stream",
     "text": [
      "해당 월을 찾을 수 없습니다.\n",
      "\n",
      "알파벳 순서의 월:\n",
      "April August December February January July June March May November October September \n",
      "\n",
      "일수가 31인 월:\n",
      "January March May July August October December \n",
      "\n",
      "일수 기준 오름차순 (월, 일수):\n",
      "February : 28\n",
      "April : 30\n",
      "June : 30\n",
      "September : 30\n",
      "November : 30\n",
      "January : 31\n",
      "March : 31\n",
      "May : 31\n",
      "July : 31\n",
      "August : 31\n",
      "October : 31\n",
      "December : 31\n"
     ]
    }
   ],
   "source": [
    "days = {\n",
    "    'January': 31, 'February': 28, 'March': 31, 'April': 30,\n",
    "    'May': 31, 'June': 30, 'July': 31, 'August': 31,\n",
    "    'September': 30, 'October': 31, 'November': 30, 'December': 31\n",
    "}\n",
    "\n",
    "# 1️⃣ 사용자가 월을 입력하면 해당 월의 일수를 출력\n",
    "month = input(\"월을 입력하세요: \")\n",
    "\n",
    "# 5️⃣ 사용자가 3자리만 입력했을 경우 (예: Jan, Feb 등)\n",
    "if len(month) == 3:\n",
    "    found = False\n",
    "    for m in days:\n",
    "        if m.startswith(month):\n",
    "            print(f\"{m} : {days[m]}일\")\n",
    "            found = True\n",
    "            break\n",
    "    if not found:\n",
    "        print(\"해당 월을 찾을 수 없습니다.\")\n",
    "else:\n",
    "    if month in days:\n",
    "        print(f\"{month} : {days[month]}일\")\n",
    "    else:\n",
    "        print(\"해당 월을 찾을 수 없습니다.\")\n",
    "\n",
    "print()  # 줄바꿈\n",
    "\n",
    "# 2️⃣ 알파벳 순서로 모든 월 출력\n",
    "print(\"알파벳 순서의 월:\")\n",
    "for m in sorted(days.keys()):\n",
    "    print(m, end=\" \")\n",
    "print(\"\\n\")\n",
    "\n",
    "# 3️⃣ 일수가 31인 월 출력\n",
    "print(\"일수가 31인 월:\")\n",
    "for m, d in days.items():\n",
    "    if d == 31:\n",
    "        print(m, end=\" \")\n",
    "print(\"\\n\")\n",
    "\n",
    "# 4️⃣ 일수를 기준으로 오름차순으로 (key, value) 출력\n",
    "print(\"일수 기준 오름차순 (월, 일수):\")\n",
    "for m, d in sorted(days.items(), key=lambda x: x[1]):\n",
    "    print(m, \":\", d)\n"
   ]
  }
 ],
 "metadata": {
  "kernelspec": {
   "display_name": "Python 3",
   "language": "python",
   "name": "python3"
  },
  "language_info": {
   "codemirror_mode": {
    "name": "ipython",
    "version": 3
   },
   "file_extension": ".py",
   "mimetype": "text/x-python",
   "name": "python",
   "nbconvert_exporter": "python",
   "pygments_lexer": "ipython3",
   "version": "3.11.9"
  }
 },
 "nbformat": 4,
 "nbformat_minor": 5
}
