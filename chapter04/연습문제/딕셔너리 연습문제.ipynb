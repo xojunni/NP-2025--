{
 "cells": [
  {
   "cell_type": "markdown",
   "id": "f99ce2e7",
   "metadata": {},
   "source": [
    "## 연습문제 -1  \n",
    "####  다음 딕셔너리에 대해 물음에 답하라.  \n",
    "#### days = {'January':31, 'February':28, 'March':31, 'April':30, 'May':31, 'June':30, 'July':31, 'August':31,'September':30, 'October':31, 'November':30, 'December':31}  \n",
    "- 사용자가 월을 입력하면 해당 월에 일수를 출력하라.  \n",
    "- 알파벳 순서로 모든 월을 출력하라.  \n",
    "- 일수가 31인 월을 모두 출력하라.  \n",
    "- 월의 일수를 기준으로 오름차순으로 (key-value) 쌍을 출력하라.  \n",
    "- 사용자가 월을 3자리만 입력하면 월의 일수를 출력하라.(Jan, Feb)등"
   ]
  }
 ],
 "metadata": {
  "language_info": {
   "name": "python"
  }
 },
 "nbformat": 4,
 "nbformat_minor": 5
}
