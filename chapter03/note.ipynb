{
 "cells": [
  {
   "cell_type": "markdown",
   "id": "17991be5",
   "metadata": {},
   "source": [
    "# 3장 프로그램의 제어문  "
   ]
  },
  {
   "cell_type": "markdown",
   "id": "922e73ac",
   "metadata": {},
   "source": [
    "### 프로그램 제어문  \n",
    "- 프로그램은 작성 순서대로 실행  \n",
    "- 제어문: 프로그램의 실행 순서를 바꾸는 문장  \n",
    "  - 조건문  \n",
    "    - if, if-else, if-elif-else  \n",
    "  - 반복문  \n",
    "    - while  \n",
    "    - for  \n",
    "  - 기타 제어문  \n",
    "    - break  \n",
    "    - continue  "
   ]
  },
  {
   "cell_type": "markdown",
   "id": "65c4a75e",
   "metadata": {},
   "source": [
    "## if 제어문  \n",
    "#### if문은 조건을 만족하면 블록을 실행하고 아니면 실행하지 않는 제어문이다.  \n",
    "- if 문  \n",
    "- if-else 문  \n",
    "- if-elif-else"
   ]
  },
  {
   "cell_type": "markdown",
   "id": "9588831d",
   "metadata": {},
   "source": [
    "### 조건문"
   ]
  },
  {
   "cell_type": "markdown",
   "id": "b6121481",
   "metadata": {},
   "source": [
    "#### if 문  \n",
    "- 조건을 만족할 때 정해진 문장 블록을 실행"
   ]
  },
  {
   "cell_type": "markdown",
   "id": "9b45b49c",
   "metadata": {},
   "source": [
    "if 문의 기본 구조  \n",
    "ㅡㅡㅡㅡㅡㅡㅡㅡㅡㅡㅡ  \n",
    "if condition(조건) :  \n",
    "Block(불록)  \n",
    "ㅡㅡㅡㅡㅡㅡㅡㅡㅡㅡㅡ  \n",
    "Condition(조건)이 참이면 : 다음의 Block(블록) 부분을 실행함"
   ]
  },
  {
   "cell_type": "markdown",
   "id": "d2c2008a",
   "metadata": {},
   "source": [
    "- 조건이 참(True)이면 블록을 실행하고 아니면 블록을 건너뛴다  "
   ]
  },
  {
   "cell_type": "code",
   "execution_count": 1,
   "id": "c48087a8",
   "metadata": {},
   "outputs": [
    {
     "ename": "SyntaxError",
     "evalue": "expected ':' (2049642889.py, line 9)",
     "output_type": "error",
     "traceback": [
      "  \u001b[36mCell\u001b[39m\u001b[36m \u001b[39m\u001b[32mIn[1]\u001b[39m\u001b[32m, line 9\u001b[39m\n\u001b[31m    \u001b[39m\u001b[31mif age < age_0 and age > age_1 #복합 조건문\u001b[39m\n                                   ^\n\u001b[31mSyntaxError\u001b[39m\u001b[31m:\u001b[39m expected ':'\n"
     ]
    }
   ],
   "source": [
    "score = int(input(\"정수 입력: \"))\n",
    "if score >= 90 : # if문 끝에 :을 붙인다\n",
    "    print(\"성적: A\")\n",
    "    print(\"장학금 수여\")\n",
    "\n",
    "age_0 = 22\n",
    "age_1 = 18\n",
    "age = int(input('your age? '))\n",
    "if age < age_0 and age > age_1 #복합 조건문\n",
    "    print(\"당신의 나이는 18~22세 사이입니다\")"
   ]
  },
  {
   "cell_type": "markdown",
   "id": "73ad66a4",
   "metadata": {},
   "source": [
    "#### if-else 문  \n",
    "- 조건이 참(True)이면 Block을 실행하고 else:는 무시  \n",
    "- 참(true)이 아니면 else: 다음 Block2를 실행  "
   ]
  },
  {
   "cell_type": "code",
   "execution_count": null,
   "id": "fe341f16",
   "metadata": {},
   "outputs": [],
   "source": [
    "if score >= 90 :\n",
    "    print(\"pass\")\n",
    "else : # else로 끝에 :을 붙인다\n",
    "    print(\"fail\")"
   ]
  },
  {
   "cell_type": "markdown",
   "id": "988f4153",
   "metadata": {},
   "source": [
    "- 한 줄로 표현하기"
   ]
  },
  {
   "cell_type": "code",
   "execution_count": null,
   "id": "ec4a26b7",
   "metadata": {},
   "outputs": [],
   "source": [
    "res = 'pass' if score >= 90 else 'fail'\n",
    "print(res)"
   ]
  },
  {
   "cell_type": "markdown",
   "id": "1b20b196",
   "metadata": {},
   "source": [
    "### 조건문 예제  \n",
    "#### 평년과 윤년 구분하는 프로그램  \n",
    "- 년도가 4로 나뉘어지고 100년으로 나뉘어지지 않거나  \n",
    "- 400으로 나뉘어지면 윤년이다"
   ]
  },
  {
   "cell_type": "code",
   "execution_count": 2,
   "id": "273e2447",
   "metadata": {},
   "outputs": [
    {
     "name": "stdout",
     "output_type": "stream",
     "text": [
      "22 is not a leap year\n"
     ]
    }
   ],
   "source": [
    "year = int(input(\"Type a year: \"))\n",
    "if (year % 4 == 0 and year % 100 != 0 )or (year % 400) == 0:\n",
    "    print(year, \"is a leap year\")\n",
    "else:\n",
    "    print(year, \"is not a leap year\")"
   ]
  },
  {
   "cell_type": "markdown",
   "id": "ba63117b",
   "metadata": {},
   "source": [
    "### 조건문  \n",
    "- 중첩 if 문- if 문 속에 또 다른 if 문"
   ]
  }
 ],
 "metadata": {
  "kernelspec": {
   "display_name": "Python 3",
   "language": "python",
   "name": "python3"
  },
  "language_info": {
   "codemirror_mode": {
    "name": "ipython",
    "version": 3
   },
   "file_extension": ".py",
   "mimetype": "text/x-python",
   "name": "python",
   "nbconvert_exporter": "python",
   "pygments_lexer": "ipython3",
   "version": "3.11.9"
  }
 },
 "nbformat": 4,
 "nbformat_minor": 5
}
