{
 "cells": [
  {
   "cell_type": "markdown",
   "id": "16efb437",
   "metadata": {},
   "source": [
    "## while 연습문제  \n",
    "#### 10진수를 입력받아 2진수로 변환하여 출력하는 프로그램  "
   ]
  },
  {
   "cell_type": "code",
   "execution_count": null,
   "id": "0fbbc642",
   "metadata": {},
   "outputs": [],
   "source": [
    "n = int(input('Number: '))\n",
    "result = '' #변환 결과 저장\n",
    "#10진수를 2로 나누어 몫이 0이 될 때까지 반복해서 나머지를 구한다\n",
    "while n != 0:\n",
    "    m = n % 2 #나머지\n",
    "    result = str(m) + result #숫자를 문자열로 변환\n",
    "    n = n // 2 #몫\n",
    "print(\"2진수 =\", result)"
   ]
  }
 ],
 "metadata": {
  "kernelspec": {
   "display_name": "Python 3",
   "language": "python",
   "name": "python3"
  },
  "language_info": {
   "codemirror_mode": {
    "name": "ipython",
    "version": 3
   },
   "file_extension": ".py",
   "mimetype": "text/x-python",
   "name": "python",
   "nbconvert_exporter": "python",
   "pygments_lexer": "ipython3",
   "version": "3.11.9"
  }
 },
 "nbformat": 4,
 "nbformat_minor": 5
}
