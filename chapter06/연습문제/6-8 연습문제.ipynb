{
 "cells": [
  {
   "cell_type": "markdown",
   "id": "a630fa79",
   "metadata": {},
   "source": [
    "## 6-8 연습문제  \n",
    "#### ❖ 앞의 Person 클래스에서 새로운 Person 객체가 생성될 때 ID를 1001번지부터 순차적으로 자동으로 부여할 수 있도록 Employee 클래스를 포함해서 변경하시오. 새로운 Employee객체를 만들어 getId() 를 호출할 때 Id가 중복되면 안된다."
   ]
  },
  {
   "cell_type": "markdown",
   "id": "e36b657d",
   "metadata": {},
   "source": [
    "class Person:  \n",
    " def __init__(self, name, age):  \n",
    " self.name = name  \n",
    " self.age = age  \n",
    " self.__id = ++count  \n",
    " def getId(self):  \n",
    " print(self.__id)  \n",
    " def getAge(self):  \n",
    " print(self.age)\n"
   ]
  },
  {
   "cell_type": "code",
   "execution_count": 1,
   "id": "ea4204d5",
   "metadata": {},
   "outputs": [
    {
     "name": "stdout",
     "output_type": "stream",
     "text": [
      "홍길동 ID: 1001\n",
      "김철수 ID: 1002\n",
      "이영준 ID: 1003\n",
      "박민수 ID: 1004\n"
     ]
    }
   ],
   "source": [
    "class Person:\n",
    "    __count = 1000  # 클래스 변수로 ID 관리, 첫 ID는 1001부터\n",
    "\n",
    "    def __init__(self, name, age):\n",
    "        self.name = name\n",
    "        self.age = age\n",
    "        Person.__count += 1\n",
    "        self.__id = Person.__count  # 순차적 ID 부여\n",
    "\n",
    "    def getId(self):\n",
    "        return self.__id\n",
    "\n",
    "    def getAge(self):\n",
    "        return self.age\n",
    "\n",
    "\n",
    "# Employee 클래스 (Person 상속)\n",
    "class Employee(Person):\n",
    "    def __init__(self, name, age):\n",
    "        super().__init__(name, age)  # 부모 속성 초기화\n",
    "\n",
    "# 테스트\n",
    "p1 = Person(\"홍길동\", 30)\n",
    "p2 = Person(\"김철수\", 25)\n",
    "e1 = Employee(\"이영준\", 65)\n",
    "e2 = Employee(\"박민수\", 40)\n",
    "\n",
    "print(p1.name, \"ID:\", p1.getId())\n",
    "print(p2.name, \"ID:\", p2.getId())\n",
    "print(e1.name, \"ID:\", e1.getId())\n",
    "print(e2.name, \"ID:\", e2.getId())\n"
   ]
  }
 ],
 "metadata": {
  "kernelspec": {
   "display_name": "Python 3",
   "language": "python",
   "name": "python3"
  },
  "language_info": {
   "codemirror_mode": {
    "name": "ipython",
    "version": 3
   },
   "file_extension": ".py",
   "mimetype": "text/x-python",
   "name": "python",
   "nbconvert_exporter": "python",
   "pygments_lexer": "ipython3",
   "version": "3.11.9"
  }
 },
 "nbformat": 4,
 "nbformat_minor": 5
}
