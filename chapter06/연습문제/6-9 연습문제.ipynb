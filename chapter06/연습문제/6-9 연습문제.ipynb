{
 "cells": [
  {
   "cell_type": "markdown",
   "id": "5ff5a976",
   "metadata": {},
   "source": [
    "## 6-9 연습문제  \n",
    "#### 파이썬 언어에서 다음에 대해 조사하고 예제코드를 실행하여 보라  \n",
    "• 1. 파이썬으로 싱글톤 패턴을 구현하는 방법들  \n",
    "• 2. 파이썬에서 멀티쓰레드 구현하는 기법  \n",
    "• 3. 멀티쓰레드에서 공유 변수에 대한 Critical Section 을 보호하는 기법"
   ]
  }
 ],
 "metadata": {
  "language_info": {
   "name": "python"
  }
 },
 "nbformat": 4,
 "nbformat_minor": 5
}
