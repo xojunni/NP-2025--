{
 "cells": [
  {
   "cell_type": "markdown",
   "id": "5ff5a976",
   "metadata": {},
   "source": [
    "## 6-9 연습문제  \n",
    "#### 파이썬 언어에서 다음에 대해 조사하고 예제코드를 실행하여 보라  "
   ]
  },
  {
   "cell_type": "markdown",
   "id": "ae96412d",
   "metadata": {},
   "source": [
    "#### 1. 파이썬으로 싱글톤 패턴을 구현하는 방법들  "
   ]
  },
  {
   "cell_type": "markdown",
   "id": "bed3dc15",
   "metadata": {},
   "source": [
    "- 클래스 변수 사용"
   ]
  },
  {
   "cell_type": "code",
   "execution_count": 1,
   "id": "7007873c",
   "metadata": {},
   "outputs": [
    {
     "name": "stdout",
     "output_type": "stream",
     "text": [
      "True\n"
     ]
    }
   ],
   "source": [
    "class Singleton:\n",
    "    __instance = None\n",
    "\n",
    "    def __new__(cls, *args, **kwargs):\n",
    "        if cls.__instance is None:\n",
    "            cls.__instance = super().__new__(cls)\n",
    "        return cls.__instance\n",
    "\n",
    "# 테스트\n",
    "s1 = Singleton()\n",
    "s2 = Singleton()\n",
    "print(s1 is s2)  # True, 동일 객체\n"
   ]
  },
  {
   "cell_type": "markdown",
   "id": "91c0dcea",
   "metadata": {},
   "source": [
    "- 데코레이터 사용"
   ]
  },
  {
   "cell_type": "code",
   "execution_count": 2,
   "id": "9374db0a",
   "metadata": {},
   "outputs": [
    {
     "name": "stdout",
     "output_type": "stream",
     "text": [
      "True\n"
     ]
    }
   ],
   "source": [
    "def singleton(cls):\n",
    "    instances = {}\n",
    "    def wrapper(*args, **kwargs):\n",
    "        if cls not in instances:\n",
    "            instances[cls] = cls(*args, **kwargs)\n",
    "        return instances[cls]\n",
    "    return wrapper\n",
    "\n",
    "@singleton\n",
    "class MyClass:\n",
    "    pass\n",
    "\n",
    "a = MyClass()\n",
    "b = MyClass()\n",
    "print(a is b)  # True\n"
   ]
  },
  {
   "cell_type": "markdown",
   "id": "843f7ddd",
   "metadata": {},
   "source": [
    "- 모듈 단위 활용"
   ]
  },
  {
   "cell_type": "code",
   "execution_count": 3,
   "id": "9b7c5262",
   "metadata": {},
   "outputs": [],
   "source": [
    "# my_singleton.py\n",
    "class MySingleton:\n",
    "    pass\n",
    "\n",
    "singleton = MySingleton()\n",
    "\n",
    "# 다른 파일에서 import singleton\n"
   ]
  },
  {
   "cell_type": "markdown",
   "id": "754e55b9",
   "metadata": {},
   "source": [
    "#### 2. 파이썬에서 멀티쓰레드 구현하는 기법"
   ]
  },
  {
   "cell_type": "code",
   "execution_count": 4,
   "id": "ad5ad0bd",
   "metadata": {},
   "outputs": [
    {
     "name": "stdout",
     "output_type": "stream",
     "text": [
      "스레드1 작업 1\n",
      "스레드2 작업 1\n",
      "스레드2 작업 2\n",
      "스레드1 작업 2\n",
      "스레드1 작업 3스레드2 작업 3\n",
      "\n",
      "모든 스레드 종료\n"
     ]
    }
   ],
   "source": [
    "import threading\n",
    "import time\n",
    "\n",
    "def worker(name):\n",
    "    for i in range(3):\n",
    "        print(f\"{name} 작업 {i+1}\")\n",
    "        time.sleep(1)\n",
    "\n",
    "# 스레드 생성\n",
    "t1 = threading.Thread(target=worker, args=(\"스레드1\",))\n",
    "t2 = threading.Thread(target=worker, args=(\"스레드2\",))\n",
    "\n",
    "# 스레드 시작\n",
    "t1.start()\n",
    "t2.start()\n",
    "\n",
    "# 스레드 종료 대기\n",
    "t1.join()\n",
    "t2.join()\n",
    "\n",
    "print(\"모든 스레드 종료\")\n"
   ]
  },
  {
   "cell_type": "markdown",
   "id": "762f7503",
   "metadata": {},
   "source": [
    "#### 3. 멀티쓰레드에서 공유 변수에 대한 Critical Section 을 보호하는 기법"
   ]
  },
  {
   "cell_type": "code",
   "execution_count": 5,
   "id": "16471339",
   "metadata": {},
   "outputs": [
    {
     "name": "stdout",
     "output_type": "stream",
     "text": [
      "최종 count: 5000\n"
     ]
    }
   ],
   "source": [
    "import threading\n",
    "\n",
    "count = 0\n",
    "lock = threading.Lock()\n",
    "\n",
    "def add():\n",
    "    global count\n",
    "    for _ in range(1000):\n",
    "        lock.acquire()      # Critical Section 시작\n",
    "        count += 1\n",
    "        lock.release()      # Critical Section 종료\n",
    "\n",
    "threads = []\n",
    "for _ in range(5):\n",
    "    t = threading.Thread(target=add)\n",
    "    threads.append(t)\n",
    "    t.start()\n",
    "\n",
    "for t in threads:\n",
    "    t.join()\n",
    "\n",
    "print(\"최종 count:\", count)  # 5*1000 = 5000\n"
   ]
  }
 ],
 "metadata": {
  "kernelspec": {
   "display_name": "Python 3",
   "language": "python",
   "name": "python3"
  },
  "language_info": {
   "codemirror_mode": {
    "name": "ipython",
    "version": 3
   },
   "file_extension": ".py",
   "mimetype": "text/x-python",
   "name": "python",
   "nbconvert_exporter": "python",
   "pygments_lexer": "ipython3",
   "version": "3.11.9"
  }
 },
 "nbformat": 4,
 "nbformat_minor": 5
}
