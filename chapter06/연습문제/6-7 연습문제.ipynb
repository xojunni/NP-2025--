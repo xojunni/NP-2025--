{
 "cells": [
  {
   "cell_type": "markdown",
   "id": "7959222f",
   "metadata": {},
   "source": [
    "## 6-7 연습문제  \n",
    "#### ❖ 다음 Person 클래스를 상속 받는 Employee 클래스를 정의하라. Employee 클래스에 employeeID 속성을 추가하고 getID() 메소드를 정의하라. getID() 메소드는 employeeID를 반환하는 메소드이다. Employee 클래스를 이용하여 Employee(\"동양\", 65, 2019)로 생성된 객체의 이름, 나이, ID를 출력하라.\n"
   ]
  },
  {
   "cell_type": "code",
   "execution_count": 1,
   "id": "c90725e4",
   "metadata": {},
   "outputs": [
    {
     "name": "stdout",
     "output_type": "stream",
     "text": [
      "이름: 동양\n",
      "나이: 65\n",
      "ID: 2019\n"
     ]
    }
   ],
   "source": [
    "# 부모 클래스\n",
    "class Person:\n",
    "    def __init__(self, name, age):\n",
    "        self.name = name\n",
    "        self.age = age\n",
    "\n",
    "# 자식 클래스\n",
    "class Employee(Person):\n",
    "    def __init__(self, name, age, employeeID):\n",
    "        super().__init__(name, age)  # 부모 클래스 속성 초기화\n",
    "        self.employeeID = employeeID\n",
    "\n",
    "    def getID(self):\n",
    "        return self.employeeID\n",
    "\n",
    "\n",
    "# Employee 객체 생성\n",
    "emp = Employee(\"동양\", 65, 2019)\n",
    "\n",
    "# 이름, 나이, ID 출력\n",
    "print(\"이름:\", emp.name)\n",
    "print(\"나이:\", emp.age)\n",
    "print(\"ID:\", emp.getID())\n"
   ]
  }
 ],
 "metadata": {
  "kernelspec": {
   "display_name": "Python 3",
   "language": "python",
   "name": "python3"
  },
  "language_info": {
   "codemirror_mode": {
    "name": "ipython",
    "version": 3
   },
   "file_extension": ".py",
   "mimetype": "text/x-python",
   "name": "python",
   "nbconvert_exporter": "python",
   "pygments_lexer": "ipython3",
   "version": "3.11.9"
  }
 },
 "nbformat": 4,
 "nbformat_minor": 5
}
