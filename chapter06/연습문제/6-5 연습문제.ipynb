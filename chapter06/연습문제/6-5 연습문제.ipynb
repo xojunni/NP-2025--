{
 "cells": [
  {
   "cell_type": "markdown",
   "id": "bf876889",
   "metadata": {},
   "source": [
    "## 6-5 연습문제  \n",
    "#### 1. Articles 클래스를 작성하라. 이 클래스는 각각 제품의 이름, 재고 수량, 단가를 나타내는name, stock, price 인스턴스 변수를 가지고 있다. offer_price() 메소드는 구매 수량을 인수로 전달받아 총 가격을 반환한다. 구매 수량이 1~10개 이하이면 정상 가격을 반환하고, 11~50개이면 5% 할인된 가격을 반환한다. 또 51개 이상이면 10% 할인해 준다. purchase() 메소드는구매 수량을 인수로 전달받아 재고 수량을 구매 수량만큼 감소한다."
   ]
  },
  {
   "cell_type": "code",
   "execution_count": 1,
   "id": "f30cc2fb",
   "metadata": {},
   "outputs": [],
   "source": [
    "class Articles:\n",
    "    def __init__(self, name, stock, price):\n",
    "        self.name = name     # 제품 이름\n",
    "        self.stock = stock   # 재고 수량\n",
    "        self.price = price   # 단가\n",
    "\n",
    "    def offer_price(self, quantity):\n",
    "        \"\"\"구매 수량에 따른 총 가격 계산\"\"\"\n",
    "        if quantity < 1:\n",
    "            return 0\n",
    "        total = self.price * quantity\n",
    "        if 11 <= quantity <= 50:\n",
    "            total *= 0.95  # 5% 할인\n",
    "        elif quantity >= 51:\n",
    "            total *= 0.90  # 10% 할인\n",
    "        return total\n",
    "\n",
    "    def purchase(self, quantity):\n",
    "        \"\"\"재고에서 구매 수량만큼 차감\"\"\"\n",
    "        if quantity > self.stock:\n",
    "            print(\"재고가 부족합니다.\")\n",
    "            return False\n",
    "        else:\n",
    "            self.stock -= quantity\n",
    "            print(f\"{quantity}개 구매 완료. 남은 재고: {self.stock}\")\n",
    "            return True\n"
   ]
  },
  {
   "cell_type": "code",
   "execution_count": 2,
   "id": "119e9964",
   "metadata": {},
   "outputs": [
    {
     "name": "stdout",
     "output_type": "stream",
     "text": [
      "총 가격: 10000\n",
      "총 가격: 38000.0\n",
      "총 가격: 108000.0\n",
      "10개 구매 완료. 남은 재고: 90\n",
      "재고가 부족합니다.\n"
     ]
    },
    {
     "data": {
      "text/plain": [
       "False"
      ]
     },
     "execution_count": 2,
     "metadata": {},
     "output_type": "execute_result"
    }
   ],
   "source": [
    "item = Articles(\"Notebook\", 100, 2000)\n",
    "\n",
    "# 총 가격 확인\n",
    "print(\"총 가격:\", item.offer_price(5))    # 5개 → 정상 가격\n",
    "print(\"총 가격:\", item.offer_price(20))   # 20개 → 5% 할인\n",
    "print(\"총 가격:\", item.offer_price(60))   # 60개 → 10% 할인\n",
    "\n",
    "# 구매\n",
    "item.purchase(10)\n",
    "item.purchase(95)  # 재고 부족\n"
   ]
  },
  {
   "cell_type": "markdown",
   "id": "91db4ef6",
   "metadata": {},
   "source": [
    "#### 2. 이 클래스를 이용하여 단가 1000원인 ”mask“를 10,000장으로 설정하고, 40장 구매 가격과 구매 후 재고를 출력하라."
   ]
  },
  {
   "cell_type": "code",
   "execution_count": 3,
   "id": "45657d23",
   "metadata": {},
   "outputs": [
    {
     "name": "stdout",
     "output_type": "stream",
     "text": [
      "40장 구매 가격: 38000.0\n",
      "구매 후 재고: 9960\n"
     ]
    }
   ],
   "source": [
    "# Articles 클래스 정의 (이전에 작성한 코드 사용)\n",
    "class Articles:\n",
    "    def __init__(self, name, stock, price):\n",
    "        self.name = name\n",
    "        self.stock = stock\n",
    "        self.price = price\n",
    "\n",
    "    def offer_price(self, quantity):\n",
    "        if quantity < 1:\n",
    "            return 0\n",
    "        total = self.price * quantity\n",
    "        if 11 <= quantity <= 50:\n",
    "            total *= 0.95  # 5% 할인\n",
    "        elif quantity >= 51:\n",
    "            total *= 0.90  # 10% 할인\n",
    "        return total\n",
    "\n",
    "    def purchase(self, quantity):\n",
    "        if quantity > self.stock:\n",
    "            print(\"재고가 부족합니다.\")\n",
    "            return False\n",
    "        else:\n",
    "            self.stock -= quantity\n",
    "            return True\n",
    "\n",
    "\n",
    "# 1️⃣ mask 제품 생성\n",
    "mask = Articles(\"mask\", 10000, 1000)\n",
    "\n",
    "# 2️⃣ 40장 구매 가격 계산\n",
    "price_40 = mask.offer_price(40)\n",
    "print(\"40장 구매 가격:\", price_40)\n",
    "\n",
    "# 3️⃣ 구매 후 재고 감소\n",
    "mask.purchase(40)\n",
    "print(\"구매 후 재고:\", mask.stock)\n"
   ]
  }
 ],
 "metadata": {
  "kernelspec": {
   "display_name": "Python 3",
   "language": "python",
   "name": "python3"
  },
  "language_info": {
   "codemirror_mode": {
    "name": "ipython",
    "version": 3
   },
   "file_extension": ".py",
   "mimetype": "text/x-python",
   "name": "python",
   "nbconvert_exporter": "python",
   "pygments_lexer": "ipython3",
   "version": "3.11.9"
  }
 },
 "nbformat": 4,
 "nbformat_minor": 5
}
