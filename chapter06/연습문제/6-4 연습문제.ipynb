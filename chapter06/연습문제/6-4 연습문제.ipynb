{
 "cells": [
  {
   "cell_type": "markdown",
   "id": "1ca6d63f",
   "metadata": {},
   "source": [
    "## 6-4 연습문제  \n",
    "#### Password_manager 클래스를 작성하라. 이 클래스는 사용자의 모든 과거 패스워드를 저장하는 old_passwords 리스트 변수를 갖는다. 리스트의 마지막 요소는 현재 패스워드이다. 현재 패스워드를 알려주는 get_password와 새로운 패스워드를 설정하는 set_password 메소드를 정의하라. set_password는 과거에 사용하지 않은 새로운 패스워드를 설정할 때만 유효하다. 문자열을 입력받아 현재 패스워드와 같은지 True 또는 False를 반환하는 is_correct 메소드를 정의하라."
   ]
  },
  {
   "cell_type": "code",
   "execution_count": 1,
   "id": "445846ba",
   "metadata": {},
   "outputs": [],
   "source": [
    "class Password_manager:\n",
    "    def __init__(self, initial_password):\n",
    "        self.old_passwords = [initial_password]  # 초기 패스워드 저장\n",
    "\n",
    "    def get_password(self):\n",
    "        return self.old_passwords[-1]  # 리스트의 마지막 요소가 현재 패스워드\n",
    "\n",
    "    def set_password(self, new_password):\n",
    "        if new_password in self.old_passwords:\n",
    "            print(\"사용할 수 없는 패스워드입니다. 과거에 사용한 패스워드입니다.\")\n",
    "            return False\n",
    "        else:\n",
    "            self.old_passwords.append(new_password)\n",
    "            print(\"새 패스워드 설정 완료\")\n",
    "            return True\n",
    "\n",
    "    def is_correct(self, password):\n",
    "        return password == self.get_password()  # 현재 패스워드와 비교\n"
   ]
  },
  {
   "cell_type": "code",
   "execution_count": 2,
   "id": "c31b7d95",
   "metadata": {},
   "outputs": [
    {
     "name": "stdout",
     "output_type": "stream",
     "text": [
      "abc123\n",
      "True\n",
      "False\n",
      "사용할 수 없는 패스워드입니다. 과거에 사용한 패스워드입니다.\n",
      "새 패스워드 설정 완료\n",
      "xyz789\n"
     ]
    }
   ],
   "source": [
    "pm = Password_manager(\"abc123\")   # 초기 패스워드 설정\n",
    "print(pm.get_password())           # 현재 패스워드 출력: abc123\n",
    "\n",
    "print(pm.is_correct(\"abc123\"))    # True\n",
    "print(pm.is_correct(\"123abc\"))    # False\n",
    "\n",
    "pm.set_password(\"abc123\")         # 과거 사용한 패스워드 → 거부\n",
    "pm.set_password(\"xyz789\")         # 새 패스워드 설정\n",
    "print(pm.get_password())           # 현재 패스워드: xyz789\n"
   ]
  }
 ],
 "metadata": {
  "kernelspec": {
   "display_name": "Python 3",
   "language": "python",
   "name": "python3"
  },
  "language_info": {
   "codemirror_mode": {
    "name": "ipython",
    "version": 3
   },
   "file_extension": ".py",
   "mimetype": "text/x-python",
   "name": "python",
   "nbconvert_exporter": "python",
   "pygments_lexer": "ipython3",
   "version": "3.11.9"
  }
 },
 "nbformat": 4,
 "nbformat_minor": 5
}
