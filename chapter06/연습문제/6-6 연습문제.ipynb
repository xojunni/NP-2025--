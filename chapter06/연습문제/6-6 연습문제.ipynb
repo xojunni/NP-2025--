{
 "cells": [
  {
   "cell_type": "markdown",
   "id": "523b9a2b",
   "metadata": {},
   "source": [
    "## 6-6 연습문제  \n",
    "#### 다음 프로그램을 실행했을 때 아래 내용이 출력되도록 클래스를 정의하라. 학번(id) 앞 4자리가 2018보다 작으면 grade() 메소드에 의해 “3학년입니다“가 출력되고 아니면 ”3학년이 아닙니다“가 출력된다.\n"
   ]
  },
  {
   "cell_type": "code",
   "execution_count": 1,
   "id": "e0fe4274",
   "metadata": {},
   "outputs": [
    {
     "name": "stdout",
     "output_type": "stream",
     "text": [
      "3학년입니다\n",
      "3학년이 아닙니다\n"
     ]
    }
   ],
   "source": [
    "class Student:\n",
    "    def __init__(self, id):\n",
    "        self.id = id  # 학번 문자열로 저장\n",
    "\n",
    "    def grade(self):\n",
    "        # 학번 앞 4자리 숫자 추출\n",
    "        year = int(str(self.id)[:4])\n",
    "        if year < 2018:\n",
    "            print(\"3학년입니다\")\n",
    "        else:\n",
    "            print(\"3학년이 아닙니다\")\n",
    "\n",
    "\n",
    "# 예시 실행\n",
    "s1 = Student(\"20170501\")\n",
    "s1.grade()   # 2017 < 2018 → 3학년입니다\n",
    "\n",
    "s2 = Student(\"20190501\")\n",
    "s2.grade()   # 2019 >= 2018 → 3학년이 아닙니다\n"
   ]
  }
 ],
 "metadata": {
  "kernelspec": {
   "display_name": "Python 3",
   "language": "python",
   "name": "python3"
  },
  "language_info": {
   "codemirror_mode": {
    "name": "ipython",
    "version": 3
   },
   "file_extension": ".py",
   "mimetype": "text/x-python",
   "name": "python",
   "nbconvert_exporter": "python",
   "pygments_lexer": "ipython3",
   "version": "3.11.9"
  }
 },
 "nbformat": 4,
 "nbformat_minor": 5
}
