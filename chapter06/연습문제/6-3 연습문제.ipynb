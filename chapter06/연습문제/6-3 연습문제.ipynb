{
 "cells": [
  {
   "cell_type": "markdown",
   "id": "6bdf0309",
   "metadata": {},
   "source": [
    "## 6-3 연습문제  \n",
    "#### 1. Moneybox 클래스를 작성하라. 이 클래스는 저축한 총액을 저장하는 인스턴스 변수가 있다. deposit(money) 메소드는 인수로 주어진 금액만큼 저축하고 총액을 출력한다, extract(money) 메소드는 money를 인출하고 총액을 출력한다. get_total() 메소드는 총액을 알려준다.  "
   ]
  },
  {
   "cell_type": "code",
   "execution_count": 1,
   "id": "5f38f45a",
   "metadata": {},
   "outputs": [
    {
     "name": "stdout",
     "output_type": "stream",
     "text": [
      "5000원 입금 완료. 총액: 5000원\n",
      "3000원 입금 완료. 총액: 8000원\n",
      "2000원 출금 완료. 총액: 6000원\n",
      "현재 총액: 6000\n"
     ]
    }
   ],
   "source": [
    "class Moneybox:\n",
    "    def __init__(self):\n",
    "        self.total = 0  # 저축 총액 초기화\n",
    "\n",
    "    def deposit(self, money):\n",
    "        self.total += money\n",
    "        print(f\"{money}원 입금 완료. 총액: {self.total}원\")\n",
    "\n",
    "    def extract(self, money):\n",
    "        if money > self.total:\n",
    "            print(\"잔액이 부족합니다.\")\n",
    "        else:\n",
    "            self.total -= money\n",
    "            print(f\"{money}원 출금 완료. 총액: {self.total}원\")\n",
    "\n",
    "    def get_total(self):\n",
    "        return self.total\n",
    "\n",
    "\n",
    "# 예시 실행\n",
    "box = Moneybox()\n",
    "box.deposit(5000)\n",
    "box.deposit(3000)\n",
    "box.extract(2000)\n",
    "print(\"현재 총액:\", box.get_total())\n"
   ]
  },
  {
   "cell_type": "markdown",
   "id": "c59c03d6",
   "metadata": {},
   "source": [
    "#### 2. my_money = Moneybox() 객체를 생성하고 1000원을 저축하고, 200원을 인출한 다음, 총액을 출력하라."
   ]
  },
  {
   "cell_type": "code",
   "execution_count": 2,
   "id": "16bc687c",
   "metadata": {},
   "outputs": [
    {
     "name": "stdout",
     "output_type": "stream",
     "text": [
      "1000원 입금 완료. 총액: 1000원\n",
      "200원 출금 완료. 총액: 800원\n",
      "현재 총액: 800\n"
     ]
    }
   ],
   "source": [
    "# Moneybox 클래스 정의 (이전에 작성한 코드 그대로 사용)\n",
    "class Moneybox:\n",
    "    def __init__(self):\n",
    "        self.total = 0\n",
    "\n",
    "    def deposit(self, money):\n",
    "        self.total += money\n",
    "        print(f\"{money}원 입금 완료. 총액: {self.total}원\")\n",
    "\n",
    "    def extract(self, money):\n",
    "        if money > self.total:\n",
    "            print(\"잔액이 부족합니다.\")\n",
    "        else:\n",
    "            self.total -= money\n",
    "            print(f\"{money}원 출금 완료. 총액: {self.total}원\")\n",
    "\n",
    "    def get_total(self):\n",
    "        return self.total\n",
    "\n",
    "\n",
    "# 1️⃣ 객체 생성\n",
    "my_money = Moneybox()\n",
    "\n",
    "# 2️⃣ 1000원 저축\n",
    "my_money.deposit(1000)\n",
    "\n",
    "# 3️⃣ 200원 인출\n",
    "my_money.extract(200)\n",
    "\n",
    "# 4️⃣ 총액 출력\n",
    "print(\"현재 총액:\", my_money.get_total())\n"
   ]
  }
 ],
 "metadata": {
  "kernelspec": {
   "display_name": "Python 3",
   "language": "python",
   "name": "python3"
  },
  "language_info": {
   "codemirror_mode": {
    "name": "ipython",
    "version": 3
   },
   "file_extension": ".py",
   "mimetype": "text/x-python",
   "name": "python",
   "nbconvert_exporter": "python",
   "pygments_lexer": "ipython3",
   "version": "3.11.9"
  }
 },
 "nbformat": 4,
 "nbformat_minor": 5
}
